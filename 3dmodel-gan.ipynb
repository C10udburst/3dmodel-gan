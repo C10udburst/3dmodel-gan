{
  "cells": [
    {
      "cell_type": "markdown",
      "metadata": {
        "id": "e2dVpu0e6lW2"
      },
      "source": [
        "# Generating 3D models with generative adversarial networks\n",
        "\n"
      ]
    },
    {
      "cell_type": "code",
      "source": [
        "#@markdown <h3> Prevent Google Colab from disconnecting | AUTO RECONNECT\n",
        "import IPython\n",
        "from google.colab import output\n",
        "\n",
        "display(IPython.display.Javascript('''\n",
        " function ClickConnect(){\n",
        "   btn = document.querySelector(\"colab-connect-button\")\n",
        "   if (btn != null){\n",
        "     console.log(\"Click colab-connect-button\"); \n",
        "     btn.click() \n",
        "     }\n",
        "   \n",
        "   btn = document.getElementById('ok')\n",
        "   if (btn != null){\n",
        "     console.log(\"Click reconnect\"); \n",
        "     btn.click() \n",
        "     }\n",
        "  }\n",
        "  \n",
        "setInterval(ClickConnect,60000)\n",
        "'''))\n",
        "\n",
        "print(\"Done.\")"
      ],
      "metadata": {
        "cellView": "form",
        "id": "vqXUiJvV1Ihy"
      },
      "execution_count": null,
      "outputs": []
    },
    {
      "cell_type": "markdown",
      "source": [
        "<a href=\"https://colab.research.google.com/github/C10udburst/3dmodel-gan/blob/master/3dmodel-gan.ipynb\" target=\"_parent\"><img src=\"https://colab.research.google.com/assets/colab-badge.svg\" alt=\"Open In Colab\"/></a>"
      ],
      "metadata": {
        "id": "k4RR_VYb2BVu"
      }
    },
    {
      "cell_type": "markdown",
      "metadata": {
        "id": "DDczEH6HDmp_"
      },
      "source": [
        "## Imports"
      ]
    },
    {
      "cell_type": "code",
      "execution_count": 1,
      "metadata": {
        "colab": {
          "base_uri": "https://localhost:8080/"
        },
        "id": "qxKRjGEr7wPZ",
        "outputId": "cefcf7da-e1d7-4030-cbd8-b74368eaf80e"
      },
      "outputs": [
        {
          "output_type": "stream",
          "name": "stdout",
          "text": [
            "--2022-06-17 08:33:55--  https://raw.githubusercontent.com/pclausen/binvox-rw-py/public/binvox_rw.py\n",
            "Resolving raw.githubusercontent.com (raw.githubusercontent.com)... 185.199.108.133, 185.199.109.133, 185.199.110.133, ...\n",
            "Connecting to raw.githubusercontent.com (raw.githubusercontent.com)|185.199.108.133|:443... connected.\n",
            "HTTP request sent, awaiting response... 200 OK\n",
            "Length: 9440 (9.2K) [text/plain]\n",
            "Saving to: ‘binvox_rw.py’\n",
            "\n",
            "binvox_rw.py        100%[===================>]   9.22K  --.-KB/s    in 0s      \n",
            "\n",
            "2022-06-17 08:33:56 (82.0 MB/s) - ‘binvox_rw.py’ saved [9440/9440]\n",
            "\n",
            "Looking in indexes: https://pypi.org/simple, https://us-python.pkg.dev/colab-wheels/public/simple/\n",
            "Collecting git+https://github.com/szagoruyko/pytorchviz.git@master\n",
            "  Cloning https://github.com/szagoruyko/pytorchviz.git (to revision master) to /tmp/pip-req-build-5gcrkor5\n",
            "  Running command git clone -q https://github.com/szagoruyko/pytorchviz.git /tmp/pip-req-build-5gcrkor5\n",
            "Requirement already satisfied: torch in /usr/local/lib/python3.7/dist-packages (from torchviz==0.0.2) (1.11.0+cu113)\n",
            "Requirement already satisfied: graphviz in /usr/local/lib/python3.7/dist-packages (from torchviz==0.0.2) (0.10.1)\n",
            "Requirement already satisfied: typing-extensions in /usr/local/lib/python3.7/dist-packages (from torch->torchviz==0.0.2) (4.2.0)\n",
            "Building wheels for collected packages: torchviz\n",
            "  Building wheel for torchviz (setup.py) ... \u001b[?25l\u001b[?25hdone\n",
            "  Created wheel for torchviz: filename=torchviz-0.0.2-py3-none-any.whl size=4990 sha256=e803a58e565845d804df61606c3015dc6be0cff7e7a8a361c80c53458de32c4c\n",
            "  Stored in directory: /tmp/pip-ephem-wheel-cache-0omxqxs9/wheels/69/06/fd/652908d49c931cdcca96be3c727fb11ed777a3a62402210396\n",
            "Successfully built torchviz\n",
            "Installing collected packages: torchviz\n",
            "Successfully installed torchviz-0.0.2\n",
            "Looking in indexes: https://pypi.org/simple, https://us-python.pkg.dev/colab-wheels/public/simple/\n",
            "Collecting aiohttp\n",
            "  Downloading aiohttp-3.8.1-cp37-cp37m-manylinux_2_5_x86_64.manylinux1_x86_64.manylinux_2_12_x86_64.manylinux2010_x86_64.whl (1.1 MB)\n",
            "\u001b[K     |████████████████████████████████| 1.1 MB 12.4 MB/s \n",
            "\u001b[?25hRequirement already satisfied: nest-asyncio in /usr/local/lib/python3.7/dist-packages (1.5.5)\n",
            "Collecting async-timeout<5.0,>=4.0.0a3\n",
            "  Downloading async_timeout-4.0.2-py3-none-any.whl (5.8 kB)\n",
            "Collecting yarl<2.0,>=1.0\n",
            "  Downloading yarl-1.7.2-cp37-cp37m-manylinux_2_5_x86_64.manylinux1_x86_64.manylinux_2_12_x86_64.manylinux2010_x86_64.whl (271 kB)\n",
            "\u001b[K     |████████████████████████████████| 271 kB 54.9 MB/s \n",
            "\u001b[?25hCollecting aiosignal>=1.1.2\n",
            "  Downloading aiosignal-1.2.0-py3-none-any.whl (8.2 kB)\n",
            "Collecting multidict<7.0,>=4.5\n",
            "  Downloading multidict-6.0.2-cp37-cp37m-manylinux_2_17_x86_64.manylinux2014_x86_64.whl (94 kB)\n",
            "\u001b[K     |████████████████████████████████| 94 kB 4.0 MB/s \n",
            "\u001b[?25hRequirement already satisfied: attrs>=17.3.0 in /usr/local/lib/python3.7/dist-packages (from aiohttp) (21.4.0)\n",
            "Collecting frozenlist>=1.1.1\n",
            "  Downloading frozenlist-1.3.0-cp37-cp37m-manylinux_2_5_x86_64.manylinux1_x86_64.manylinux_2_17_x86_64.manylinux2014_x86_64.whl (144 kB)\n",
            "\u001b[K     |████████████████████████████████| 144 kB 57.0 MB/s \n",
            "\u001b[?25hRequirement already satisfied: typing-extensions>=3.7.4 in /usr/local/lib/python3.7/dist-packages (from aiohttp) (4.2.0)\n",
            "Requirement already satisfied: charset-normalizer<3.0,>=2.0 in /usr/local/lib/python3.7/dist-packages (from aiohttp) (2.0.12)\n",
            "Collecting asynctest==0.13.0\n",
            "  Downloading asynctest-0.13.0-py3-none-any.whl (26 kB)\n",
            "Requirement already satisfied: idna>=2.0 in /usr/local/lib/python3.7/dist-packages (from yarl<2.0,>=1.0->aiohttp) (2.10)\n",
            "Installing collected packages: multidict, frozenlist, yarl, asynctest, async-timeout, aiosignal, aiohttp\n",
            "Successfully installed aiohttp-3.8.1 aiosignal-1.2.0 async-timeout-4.0.2 asynctest-0.13.0 frozenlist-1.3.0 multidict-6.0.2 yarl-1.7.2\n"
          ]
        }
      ],
      "source": [
        "!wget \"https://raw.githubusercontent.com/pclausen/binvox-rw-py/public/binvox_rw.py\" -O \"binvox_rw.py\"\n",
        "!pip install -U git+https://github.com/szagoruyko/pytorchviz.git@master\n",
        "!pip install aiohttp nest-asyncio"
      ]
    },
    {
      "cell_type": "code",
      "execution_count": 2,
      "metadata": {
        "id": "BKlJ2KZb7kBb"
      },
      "outputs": [],
      "source": [
        "import torch\n",
        "import torch.nn as nn\n",
        "import torch.nn.functional as F\n",
        "import numpy as np\n",
        "import os\n",
        "\n",
        "import binvox_rw\n",
        "import requests\n",
        "import aiohttp\n",
        "import asyncio\n",
        "from io import BytesIO\n",
        "\n",
        "from sys import version_info\n",
        "from tqdm.notebook import tqdm as nb_tqdm\n",
        "import ipywidgets as widgets\n",
        "from torchviz import make_dot"
      ]
    },
    {
      "cell_type": "code",
      "source": [
        "class tqdm_asyncio(nb_tqdm):\n",
        "    \"\"\"\n",
        "    Asynchronous-friendly version of tqdm (Python 3.6+).\n",
        "    \"\"\"\n",
        "    def __init__(self, iterable=None, *args, **kwargs):\n",
        "        super(tqdm_asyncio, self).__init__(iterable, *args, **kwargs)\n",
        "        self.iterable_awaitable = False\n",
        "        if iterable is not None:\n",
        "            if hasattr(iterable, \"__anext__\"):\n",
        "                self.iterable_next = iterable.__anext__\n",
        "                self.iterable_awaitable = True\n",
        "            elif hasattr(iterable, \"__next__\"):\n",
        "                self.iterable_next = iterable.__next__\n",
        "            else:\n",
        "                self.iterable_iterator = iter(iterable)\n",
        "                self.iterable_next = self.iterable_iterator.__next__\n",
        "\n",
        "    def __aiter__(self):\n",
        "        return self\n",
        "\n",
        "    async def __anext__(self):\n",
        "        try:\n",
        "            if self.iterable_awaitable:\n",
        "                res = await self.iterable_next()\n",
        "            else:\n",
        "                res = self.iterable_next()\n",
        "            self.update()\n",
        "            return res\n",
        "        except StopIteration:\n",
        "            self.close()\n",
        "            raise StopAsyncIteration\n",
        "        except BaseException:\n",
        "            self.close()\n",
        "            raise\n",
        "\n",
        "    def send(self, *args, **kwargs):\n",
        "        return self.iterable.send(*args, **kwargs)\n",
        "\n",
        "    @classmethod\n",
        "    def as_completed(cls, fs, *, loop=None, timeout=None, total=None, **tqdm_kwargs):\n",
        "        \"\"\"\n",
        "        Wrapper for `asyncio.as_completed`.\n",
        "        \"\"\"\n",
        "        if total is None:\n",
        "            total = len(fs)\n",
        "        kwargs = {}\n",
        "        if version_info[:2] < (3, 10):\n",
        "            kwargs['loop'] = loop\n",
        "        yield from cls(asyncio.as_completed(fs, timeout=timeout, **kwargs),\n",
        "                       total=total, **tqdm_kwargs)\n",
        "\n",
        "    @classmethod\n",
        "    async def gather(cls, *fs, loop=None, timeout=None, total=None, **tqdm_kwargs):\n",
        "        \"\"\"\n",
        "        Wrapper for `asyncio.gather`.\n",
        "        \"\"\"\n",
        "        async def wrap_awaitable(i, f):\n",
        "            return i, await f\n",
        "\n",
        "        ifs = [wrap_awaitable(i, f) for i, f in enumerate(fs)]\n",
        "        res = [await f for f in cls.as_completed(ifs, loop=loop, timeout=timeout,\n",
        "                                                 total=total, **tqdm_kwargs)]\n",
        "        return [i for _, i in sorted(res)]"
      ],
      "metadata": {
        "id": "0TqxQfDkZnBd"
      },
      "execution_count": 3,
      "outputs": []
    },
    {
      "cell_type": "code",
      "source": [
        "import nest_asyncio\n",
        "nest_asyncio.apply()"
      ],
      "metadata": {
        "id": "psOfj8UOYZNL"
      },
      "execution_count": 4,
      "outputs": []
    },
    {
      "cell_type": "code",
      "execution_count": 5,
      "metadata": {
        "id": "7EMKdNgjDlLX"
      },
      "outputs": [],
      "source": [
        "def make_query(start, rows=160):\n",
        "  return {\n",
        "      \"q\": f\"wnhypersynsets:{dataset} AND source:(3dw OR yobi3d) AND isSingleCleanObject:true AND isAligned:true AND updated:*\",\n",
        "      \"wt\": \"json\",\n",
        "      \"sort\": \" hasModel desc, popularity desc\",\n",
        "      \"start\": start,\n",
        "      \"rows\": rows,\n",
        "      \"fq\": \"  +hasModel:true -modelSize:[10000000 TO * ]\",\n",
        "      \"fl\": ''\n",
        "  }"
      ]
    },
    {
      "cell_type": "code",
      "execution_count": 6,
      "metadata": {
        "id": "2Ki6LvUbF5YX"
      },
      "outputs": [],
      "source": [
        "try:\n",
        "  os.mkdir(\"output\")\n",
        "except FileExistsError:\n",
        "  pass\n",
        "def save_binvox(array, name):\n",
        "  global object_dims\n",
        "  model = binvox_rw.Voxels(array, list(object_shape), [0., 0., 0.], 1.0, 'xzy')\n",
        "  binvox_rw.write(model, open(f\"output/{name}.binvox\", \"w+b\"))"
      ]
    },
    {
      "cell_type": "markdown",
      "metadata": {
        "id": "KaJ8Ks_LDquQ"
      },
      "source": [
        "## Config"
      ]
    },
    {
      "cell_type": "code",
      "execution_count": 7,
      "metadata": {
        "id": "pM99O4oWCEWq"
      },
      "outputs": [],
      "source": [
        "dataset = \"03001627\" # Chairs\n",
        "download_batch_size = 256\n",
        "dataset_max_size = 32*16\n",
        "\n",
        "object_shape = (128, 128, 128)\n",
        "validate_percent = 0.07\n",
        "batch_size = 32\n",
        "\n",
        "latent_size = 128"
      ]
    },
    {
      "cell_type": "code",
      "execution_count": null,
      "metadata": {
        "colab": {
          "base_uri": "https://localhost:8080/",
          "height": 49,
          "referenced_widgets": [
            "426dd8b86f724ed4b293057d1e0e240a",
            "2ef2a60d08f143799f144e21baf9b141",
            "f1da80d90eb5424fb03f953ca3394278"
          ]
        },
        "id": "ifCOPAQ98ix-",
        "outputId": "1a35a94e-4cfc-4442-b9d3-b885474b9bb2"
      },
      "outputs": [
        {
          "output_type": "display_data",
          "data": {
            "text/plain": [
              "Dropdown(options=(('airplane,aeroplane,plane(11,4045)', '02691156'), ('ashcan,trash can,garbage can,wastebin,a…"
            ],
            "application/vnd.jupyter.widget-view+json": {
              "version_major": 2,
              "version_minor": 0,
              "model_id": "426dd8b86f724ed4b293057d1e0e240a"
            }
          },
          "metadata": {}
        }
      ],
      "source": [
        "dropdown = widgets.Dropdown(\n",
        "    options=[(x['text'], x['metadata']['name']) for x in requests.get(\"https://shapenet.org/resources/data/shapenetcore.taxonomy.json\").json()]\n",
        ")\n",
        "def on_change(x):\n",
        "    global dataset\n",
        "    dataset = x['new']\n",
        "dropdown.observe(on_change, 'value')\n",
        "dropdown"
      ]
    },
    {
      "cell_type": "markdown",
      "metadata": {
        "id": "TasGB2jsD1f1"
      },
      "source": [
        "## Fetch objects "
      ]
    },
    {
      "cell_type": "code",
      "execution_count": 8,
      "metadata": {
        "colab": {
          "base_uri": "https://localhost:8080/",
          "height": 199,
          "referenced_widgets": [
            "3bc8ebaf5d2343fc96bae89bf1d36cfe",
            "8f731d5384864e2dbb20b3e3971dafde",
            "00ea3898c44e44e6bbef1f38514f89f8",
            "2c10802591734aa2a0c0bb6311379c3f",
            "a36339c69f5b4d4ca28bd456a18f968b",
            "003c0848023444bab18a36633b871a0f",
            "a12f0c13a35b43fc949e1c7e169f6857",
            "c3aef18530e44fb188c2756906e257a4",
            "83ec4cf64f144f03a5c6b39f1366d57c",
            "f5655a62a608471a982de57cfa603a92",
            "1565c39ae8994545a29e54d51400aca2",
            "881c9ceae33440e58ca2d060dbe2fbcd",
            "a63d412ea505428a8256185b560a0e7e",
            "8c61e3229dd04957a3a525b4253b3e80",
            "de856fb7877440b7b3a0a2cb3f7c0273",
            "eac74f35b4f04a25b39cdaaa6606a937",
            "8807842a9c324c3c887173bc64127e2e",
            "4778b09b3b024324999a92de195f098e",
            "614bb37d538d47b9aebe7e5c14d5e3a2",
            "93b57cef73aa429687804339da6d6f86",
            "4da0fec201f648e297005b9e861f077b",
            "d012a67a75d84d88a1f66269048fbf2a",
            "71ccb181283f4650bab8062e76148a58",
            "2d4a8156097d4650a2261027e5388fe8",
            "fa0f872560e34f85b71b381d5f0a96a5",
            "e69221c2736247829ed035b6a7874614",
            "281f4de7b3214af6bf7a5550e9725303",
            "2f202ec8f8bf4973af59c8eb8c17e2d9",
            "dd6757e5c9834c6b8f52062a15b50857",
            "3a4cfbe524fc4cf28c479b662b0aaec1",
            "a2bb5d4c88ec462f81221ddaf5fb0144",
            "f6805fa0a3ba4e65938da7ba7e75e666",
            "316ca54ffe4b4b22b44c132ab2c48ee1",
            "44207372bca2409d8aa64b934afea3ab",
            "2e2762698d7743088a409d3d827632f8",
            "fa5a850cb7424877b7adc179921c84ef",
            "aa046c8057124072a0425da116e089b4",
            "a9a9b249345147afaf589cc862147571",
            "fb04abee7ce64dc19fb9354c20aec2dc",
            "d7399a00b03e432f9890965b0f785075",
            "3b449e8bdd7e452087902feda8076595",
            "7458ac0fa2234c8fb1740ba28ef52ab8",
            "9b633103e15440dcb3311109c9e76b39",
            "345f2e2dd2724b11b4dd98a423052d41"
          ]
        },
        "id": "rMcHJ314CKP4",
        "outputId": "7b2bd4af-ea24-4b6e-92f3-bd3ef63b649d"
      },
      "outputs": [
        {
          "output_type": "stream",
          "name": "stdout",
          "text": [
            "Batch 0\n"
          ]
        },
        {
          "output_type": "display_data",
          "data": {
            "text/plain": [
              "  0%|          | 0/256 [00:00<?, ?it/s]"
            ],
            "application/vnd.jupyter.widget-view+json": {
              "version_major": 2,
              "version_minor": 0,
              "model_id": "3bc8ebaf5d2343fc96bae89bf1d36cfe"
            }
          },
          "metadata": {}
        },
        {
          "output_type": "display_data",
          "data": {
            "text/plain": [
              "  0%|          | 0/256 [00:00<?, ?it/s]"
            ],
            "application/vnd.jupyter.widget-view+json": {
              "version_major": 2,
              "version_minor": 0,
              "model_id": "881c9ceae33440e58ca2d060dbe2fbcd"
            }
          },
          "metadata": {}
        },
        {
          "output_type": "stream",
          "name": "stdout",
          "text": [
            "Batch 1\n"
          ]
        },
        {
          "output_type": "display_data",
          "data": {
            "text/plain": [
              "  0%|          | 0/256 [00:00<?, ?it/s]"
            ],
            "application/vnd.jupyter.widget-view+json": {
              "version_major": 2,
              "version_minor": 0,
              "model_id": "71ccb181283f4650bab8062e76148a58"
            }
          },
          "metadata": {}
        },
        {
          "output_type": "display_data",
          "data": {
            "text/plain": [
              "  0%|          | 0/256 [00:00<?, ?it/s]"
            ],
            "application/vnd.jupyter.widget-view+json": {
              "version_major": 2,
              "version_minor": 0,
              "model_id": "44207372bca2409d8aa64b934afea3ab"
            }
          },
          "metadata": {}
        },
        {
          "output_type": "stream",
          "name": "stdout",
          "text": [
            "Fetched: 512 objects.\n"
          ]
        }
      ],
      "source": [
        "async def fetch_single(entry, i, session, objects):\n",
        "  if i >= dataset_max_size:\n",
        "    return\n",
        "  global dataset, object_shape\n",
        "  m_id = entry['id']\n",
        "  r = await session.get(f\"https://shapenet.org/shapenet/obj-zip/ShapeNetCore.v1/{dataset}/{m_id}/model.binvox\")\n",
        "  raw = BytesIO(await r.read())\n",
        "  model = binvox_rw.read_as_3d_array(raw)\n",
        "  data = model.data\n",
        "  if data.shape != object_shape:\n",
        "    print(f\"[{m_id}] W: Wrong shape: {data.shape}\")\n",
        "    return\n",
        "  data = data.astype(np.float32)\n",
        "  objects[i] = data\n",
        "\n",
        "objects = None\n",
        "async def fetch():\n",
        "  global dataset, download_batch_size, dataset_max_size, objects\n",
        "  if os.path.isfile(\"dataset.npy\"):\n",
        "    objects = np.memmap(\"dataset.npy\", dtype='float32', mode='r+', shape=tuple([dataset_max_size]+list(object_shape)))\n",
        "    print(\"dataset.npy not empty. using previous value. Delete file to restart\")\n",
        "  else:\n",
        "    objects = np.memmap(\"dataset.npy\", dtype='float32', mode='w+', shape=tuple([dataset_max_size]+list(object_shape)))\n",
        "    batch = 0\n",
        "    async with aiohttp.ClientSession() as session:\n",
        "      while True:\n",
        "        if batch*download_batch_size >= dataset_max_size:\n",
        "          break\n",
        "        print(f\"Batch {batch}\")\n",
        "        progressbar = tqdm_asyncio(total=download_batch_size, position=0, leave=True)\n",
        "        r = await session.post(\"https://shapenet.org/solr/models3d/select\", data=make_query(batch*download_batch_size, download_batch_size))\n",
        "        if r.status != 200:\n",
        "          break\n",
        "        entries = (await r.json()).get('response', {}).get('docs', [])\n",
        "        if len(entries) < 1:\n",
        "          break\n",
        "        routines = [fetch_single(\n",
        "            entry, batch*download_batch_size + i, session, objects\n",
        "        ) for i, entry in enumerate(entries)]\n",
        "        res = await progressbar.gather(*routines)\n",
        "        errors = [x for x in res if isinstance(x, BaseException)]\n",
        "        if len(errors) > 0:\n",
        "          for error in errors:\n",
        "            print(error)\n",
        "          break\n",
        "        batch += 1\n",
        "  print(f\"Fetched: {len(objects)} objects.\")\n",
        "\n",
        "loop = asyncio.get_event_loop()\n",
        "loop.run_until_complete(fetch())"
      ]
    },
    {
      "cell_type": "markdown",
      "metadata": {
        "id": "KRGitdO-HIk2"
      },
      "source": [
        "## Init PyTorch "
      ]
    },
    {
      "cell_type": "code",
      "execution_count": 9,
      "metadata": {
        "id": "S-WUEzysfCqw"
      },
      "outputs": [],
      "source": [
        "def normalize(data):\n",
        "    data = data.unsqueeze(dim=1)\n",
        "    return data"
      ]
    },
    {
      "cell_type": "code",
      "source": [
        "def denormalize(data):\n",
        "  data = data.squeeze().squeeze()\n",
        "  return data"
      ],
      "metadata": {
        "id": "2SAa4Ou3sMT2"
      },
      "execution_count": 10,
      "outputs": []
    },
    {
      "cell_type": "code",
      "source": [
        "def latent_transform(data):\n",
        "    data = data.reshape((latent_size, 1, 1, 1))\n",
        "    data = data.unsqueeze(dim=0)\n",
        "    return data"
      ],
      "metadata": {
        "id": "SdS5DaAbu2xg"
      },
      "execution_count": 11,
      "outputs": []
    },
    {
      "cell_type": "code",
      "execution_count": 12,
      "metadata": {
        "id": "aBw3ZaATHLbm",
        "colab": {
          "base_uri": "https://localhost:8080/"
        },
        "outputId": "c4e678e1-e986-4895-b954-5654dc909380"
      },
      "outputs": [
        {
          "output_type": "stream",
          "name": "stderr",
          "text": [
            "/usr/local/lib/python3.7/dist-packages/torch/utils/data/dataloader.py:490: UserWarning: This DataLoader will create 4 worker processes in total. Our suggested max number of worker in current system is 2, which is smaller than what this DataLoader is going to create. Please be aware that excessive worker creation might get DataLoader running slow or even freeze, lower the worker number to avoid potential slowness/freeze if necessary.\n",
            "  cpuset_checked))\n"
          ]
        }
      ],
      "source": [
        "from torch.utils.data import random_split\n",
        "from torch.utils.data.dataloader import DataLoader\n",
        "\n",
        "val_size = int(len(objects)*validate_percent)\n",
        "train_size = len(objects) - val_size\n",
        "\n",
        "\n",
        "train_ds, val_ds = random_split(objects, [train_size, val_size])\n",
        "\n",
        "\n",
        "train_loader = DataLoader(train_ds, batch_size, shuffle=True, num_workers=4, pin_memory=True)\n",
        "val_loader = DataLoader(val_ds, batch_size*2, num_workers=4, pin_memory=True)"
      ]
    },
    {
      "cell_type": "code",
      "execution_count": 13,
      "metadata": {
        "id": "ccqhIp8vI1nX"
      },
      "outputs": [],
      "source": [
        "def get_default_device():\n",
        "    \"\"\"Pick GPU if available, else CPU\"\"\"\n",
        "    if torch.cuda.is_available():\n",
        "        return torch.device('cuda')\n",
        "    else:\n",
        "        return torch.device('cpu')\n",
        "    \n",
        "def to_device(data, device):\n",
        "    \"\"\"Move tensor(s) to chosen device\"\"\"\n",
        "    if isinstance(data, (list,tuple)):\n",
        "        return [to_device(x, device) for x in data]\n",
        "    return data.to(device, non_blocking=True)\n",
        "\n",
        "class DeviceDataLoader():\n",
        "    \"\"\"Wrap a dataloader to move data to a device\"\"\"\n",
        "    def __init__(self, dl, device):\n",
        "        self.dl = dl\n",
        "        self.device = device\n",
        "        \n",
        "    def __iter__(self):\n",
        "        \"\"\"Yield a batch of data after moving it to device\"\"\"\n",
        "        for b in self.dl: \n",
        "            yield to_device(b, self.device)\n",
        "\n",
        "    def __len__(self):\n",
        "        \"\"\"Number of batches\"\"\"\n",
        "        return len(self.dl)"
      ]
    },
    {
      "cell_type": "code",
      "execution_count": 14,
      "metadata": {
        "id": "3lg0F9xeI6NO",
        "colab": {
          "base_uri": "https://localhost:8080/"
        },
        "outputId": "2537fbce-678c-4439-e4cb-a312b09f1714"
      },
      "outputs": [
        {
          "output_type": "execute_result",
          "data": {
            "text/plain": [
              "device(type='cuda')"
            ]
          },
          "metadata": {},
          "execution_count": 14
        }
      ],
      "source": [
        "device = get_default_device()\n",
        "device"
      ]
    },
    {
      "cell_type": "code",
      "source": [
        "train_dl = DeviceDataLoader(train_loader, device)"
      ],
      "metadata": {
        "id": "FJPzYQAPoYUF"
      },
      "execution_count": 15,
      "outputs": []
    },
    {
      "cell_type": "markdown",
      "metadata": {
        "id": "n8JkxJN3KOPY"
      },
      "source": [
        "## Create models"
      ]
    },
    {
      "cell_type": "code",
      "execution_count": 16,
      "metadata": {
        "id": "IbGL1tZQKRro"
      },
      "outputs": [],
      "source": [
        "discriminator = nn.Sequential(\n",
        "    nn.Conv3d(1, 64, kernel_size=4, stride=4, padding=1, bias=False),\n",
        "    nn.BatchNorm3d(64),\n",
        "    nn.LeakyReLU(0.2, inplace=True),\n",
        "\n",
        "    nn.Conv3d(64, 128, kernel_size=4, stride=2, padding=1, bias=False),\n",
        "    nn.BatchNorm3d(128),\n",
        "    nn.LeakyReLU(0.2, inplace=True),\n",
        "\n",
        "    nn.Conv3d(128, 256, kernel_size=4, stride=2, padding=1, bias=False),\n",
        "    nn.BatchNorm3d(256),\n",
        "    nn.LeakyReLU(0.2, inplace=True),\n",
        "\n",
        "    nn.Conv3d(256, 512, kernel_size=4, stride=2, padding=1, bias=False),\n",
        "    nn.BatchNorm3d(512),\n",
        "    nn.LeakyReLU(0.2, inplace=True),\n",
        "\n",
        "    nn.Conv3d(512, 1, kernel_size=4, stride=1, padding=0, bias=False),\n",
        "\n",
        "    nn.Flatten(),\n",
        "    nn.Sigmoid())"
      ]
    },
    {
      "cell_type": "code",
      "source": [
        "make_dot(discriminator(torch.zeros([1, 1, 128, 128, 128])), params=dict(discriminator.named_parameters()))"
      ],
      "metadata": {
        "colab": {
          "base_uri": "https://localhost:8080/",
          "height": 1000
        },
        "id": "gxHnyQikp4Qk",
        "outputId": "1b5fb2bc-ab73-4b46-9243-d423682cef20"
      },
      "execution_count": 17,
      "outputs": [
        {
          "output_type": "execute_result",
          "data": {
            "text/plain": [
              "<graphviz.dot.Digraph at 0x7f5367d81710>"
            ],
            "image/svg+xml": "<?xml version=\"1.0\" encoding=\"UTF-8\" standalone=\"no\"?>\n<!DOCTYPE svg PUBLIC \"-//W3C//DTD SVG 1.1//EN\"\n \"http://www.w3.org/Graphics/SVG/1.1/DTD/svg11.dtd\">\n<!-- Generated by graphviz version 2.40.1 (20161225.0304)\n -->\n<!-- Title: %3 Pages: 1 -->\n<svg width=\"896pt\" height=\"759pt\"\n viewBox=\"0.00 0.00 896.00 759.41\" xmlns=\"http://www.w3.org/2000/svg\" xmlns:xlink=\"http://www.w3.org/1999/xlink\">\n<g id=\"graph0\" class=\"graph\" transform=\"scale(.7077 .7077) rotate(0) translate(4 1069)\">\n<title>%3</title>\n<polygon fill=\"#ffffff\" stroke=\"transparent\" points=\"-4,4 -4,-1069 1262,-1069 1262,4 -4,4\"/>\n<!-- 140000517049328 -->\n<g id=\"node1\" class=\"node\">\n<title>140000517049328</title>\n<polygon fill=\"#caff70\" stroke=\"#000000\" points=\"1144,-31 1085,-31 1085,0 1144,0 1144,-31\"/>\n<text text-anchor=\"middle\" x=\"1114.5\" y=\"-7\" font-family=\"monospace\" font-size=\"10.00\" fill=\"#000000\"> (1, 1)</text>\n</g>\n<!-- 139996201229584 -->\n<g id=\"node2\" class=\"node\">\n<title>139996201229584</title>\n<polygon fill=\"#d3d3d3\" stroke=\"#000000\" points=\"1171,-86 1058,-86 1058,-67 1171,-67 1171,-86\"/>\n<text text-anchor=\"middle\" x=\"1114.5\" y=\"-74\" font-family=\"monospace\" font-size=\"10.00\" fill=\"#000000\">SigmoidBackward0</text>\n</g>\n<!-- 139996201229584&#45;&gt;140000517049328 -->\n<g id=\"edge41\" class=\"edge\">\n<title>139996201229584&#45;&gt;140000517049328</title>\n<path fill=\"none\" stroke=\"#000000\" d=\"M1114.5,-66.9688C1114.5,-60.1289 1114.5,-50.5621 1114.5,-41.5298\"/>\n<polygon fill=\"#000000\" stroke=\"#000000\" points=\"1118.0001,-41.3678 1114.5,-31.3678 1111.0001,-41.3678 1118.0001,-41.3678\"/>\n</g>\n<!-- 139996201230288 -->\n<g id=\"node3\" class=\"node\">\n<title>139996201230288</title>\n<polygon fill=\"#d3d3d3\" stroke=\"#000000\" points=\"1186,-141 1043,-141 1043,-122 1186,-122 1186,-141\"/>\n<text text-anchor=\"middle\" x=\"1114.5\" y=\"-129\" font-family=\"monospace\" font-size=\"10.00\" fill=\"#000000\">ReshapeAliasBackward0</text>\n</g>\n<!-- 139996201230288&#45;&gt;139996201229584 -->\n<g id=\"edge1\" class=\"edge\">\n<title>139996201230288&#45;&gt;139996201229584</title>\n<path fill=\"none\" stroke=\"#000000\" d=\"M1114.5,-121.9197C1114.5,-114.9083 1114.5,-105.1442 1114.5,-96.4652\"/>\n<polygon fill=\"#000000\" stroke=\"#000000\" points=\"1118.0001,-96.3408 1114.5,-86.3408 1111.0001,-96.3409 1118.0001,-96.3408\"/>\n</g>\n<!-- 139996201477008 -->\n<g id=\"node4\" class=\"node\">\n<title>139996201477008</title>\n<polygon fill=\"#d3d3d3\" stroke=\"#000000\" points=\"1183,-196 1046,-196 1046,-177 1183,-177 1183,-196\"/>\n<text text-anchor=\"middle\" x=\"1114.5\" y=\"-184\" font-family=\"monospace\" font-size=\"10.00\" fill=\"#000000\">ConvolutionBackward0</text>\n</g>\n<!-- 139996201477008&#45;&gt;139996201230288 -->\n<g id=\"edge2\" class=\"edge\">\n<title>139996201477008&#45;&gt;139996201230288</title>\n<path fill=\"none\" stroke=\"#000000\" d=\"M1114.5,-176.9197C1114.5,-169.9083 1114.5,-160.1442 1114.5,-151.4652\"/>\n<polygon fill=\"#000000\" stroke=\"#000000\" points=\"1118.0001,-151.3408 1114.5,-141.3408 1111.0001,-151.3409 1118.0001,-151.3408\"/>\n</g>\n<!-- 139996201476816 -->\n<g id=\"node5\" class=\"node\">\n<title>139996201476816</title>\n<polygon fill=\"#d3d3d3\" stroke=\"#000000\" points=\"1112,-251 987,-251 987,-232 1112,-232 1112,-251\"/>\n<text text-anchor=\"middle\" x=\"1049.5\" y=\"-239\" font-family=\"monospace\" font-size=\"10.00\" fill=\"#000000\">LeakyReluBackward1</text>\n</g>\n<!-- 139996201476816&#45;&gt;139996201477008 -->\n<g id=\"edge3\" class=\"edge\">\n<title>139996201476816&#45;&gt;139996201477008</title>\n<path fill=\"none\" stroke=\"#000000\" d=\"M1060.8221,-231.9197C1070.2132,-223.9735 1083.7827,-212.4916 1094.9285,-203.0605\"/>\n<polygon fill=\"#000000\" stroke=\"#000000\" points=\"1097.4969,-205.4721 1102.8699,-196.3408 1092.9752,-200.1284 1097.4969,-205.4721\"/>\n</g>\n<!-- 139996201479056 -->\n<g id=\"node6\" class=\"node\">\n<title>139996201479056</title>\n<polygon fill=\"#d3d3d3\" stroke=\"#000000\" points=\"1115,-311.5 954,-311.5 954,-292.5 1115,-292.5 1115,-311.5\"/>\n<text text-anchor=\"middle\" x=\"1034.5\" y=\"-299.5\" font-family=\"monospace\" font-size=\"10.00\" fill=\"#000000\">NativeBatchNormBackward0</text>\n</g>\n<!-- 139996201479056&#45;&gt;139996201476816 -->\n<g id=\"edge4\" class=\"edge\">\n<title>139996201479056&#45;&gt;139996201476816</title>\n<path fill=\"none\" stroke=\"#000000\" d=\"M1036.91,-292.2796C1038.9752,-283.9499 1042.0154,-271.688 1044.5908,-261.3004\"/>\n<polygon fill=\"#000000\" stroke=\"#000000\" points=\"1048.0367,-261.9457 1047.0461,-251.3972 1041.2424,-260.2611 1048.0367,-261.9457\"/>\n</g>\n<!-- 139996201478352 -->\n<g id=\"node7\" class=\"node\">\n<title>139996201478352</title>\n<polygon fill=\"#d3d3d3\" stroke=\"#000000\" points=\"966,-372 829,-372 829,-353 966,-353 966,-372\"/>\n<text text-anchor=\"middle\" x=\"897.5\" y=\"-360\" font-family=\"monospace\" font-size=\"10.00\" fill=\"#000000\">ConvolutionBackward0</text>\n</g>\n<!-- 139996201478352&#45;&gt;139996201479056 -->\n<g id=\"edge5\" class=\"edge\">\n<title>139996201478352&#45;&gt;139996201479056</title>\n<path fill=\"none\" stroke=\"#000000\" d=\"M919.2081,-352.9136C941.955,-342.8684 977.8885,-327 1003.5921,-315.6491\"/>\n<polygon fill=\"#000000\" stroke=\"#000000\" points=\"1005.1597,-318.783 1012.8935,-311.5416 1002.3319,-312.3796 1005.1597,-318.783\"/>\n</g>\n<!-- 139996201478672 -->\n<g id=\"node8\" class=\"node\">\n<title>139996201478672</title>\n<polygon fill=\"#d3d3d3\" stroke=\"#000000\" points=\"837,-432.5 712,-432.5 712,-413.5 837,-413.5 837,-432.5\"/>\n<text text-anchor=\"middle\" x=\"774.5\" y=\"-420.5\" font-family=\"monospace\" font-size=\"10.00\" fill=\"#000000\">LeakyReluBackward1</text>\n</g>\n<!-- 139996201478672&#45;&gt;139996201478352 -->\n<g id=\"edge6\" class=\"edge\">\n<title>139996201478672&#45;&gt;139996201478352</title>\n<path fill=\"none\" stroke=\"#000000\" d=\"M793.9897,-413.4136C814.1422,-403.5012 845.8229,-387.9184 868.8308,-376.6015\"/>\n<polygon fill=\"#000000\" stroke=\"#000000\" points=\"870.673,-379.5959 878.1015,-372.0416 867.5834,-373.3146 870.673,-379.5959\"/>\n</g>\n<!-- 139996201476880 -->\n<g id=\"node9\" class=\"node\">\n<title>139996201476880</title>\n<polygon fill=\"#d3d3d3\" stroke=\"#000000\" points=\"837,-498.5 676,-498.5 676,-479.5 837,-479.5 837,-498.5\"/>\n<text text-anchor=\"middle\" x=\"756.5\" y=\"-486.5\" font-family=\"monospace\" font-size=\"10.00\" fill=\"#000000\">NativeBatchNormBackward0</text>\n</g>\n<!-- 139996201476880&#45;&gt;139996201478672 -->\n<g id=\"edge7\" class=\"edge\">\n<title>139996201476880&#45;&gt;139996201478672</title>\n<path fill=\"none\" stroke=\"#000000\" d=\"M759.156,-479.2615C761.7881,-469.6102 765.8933,-454.558 769.1953,-442.4506\"/>\n<polygon fill=\"#000000\" stroke=\"#000000\" points=\"772.5786,-443.3471 771.8331,-432.7785 765.8252,-441.5052 772.5786,-443.3471\"/>\n</g>\n<!-- 139996201476688 -->\n<g id=\"node10\" class=\"node\">\n<title>139996201476688</title>\n<polygon fill=\"#d3d3d3\" stroke=\"#000000\" points=\"688,-559 551,-559 551,-540 688,-540 688,-559\"/>\n<text text-anchor=\"middle\" x=\"619.5\" y=\"-547\" font-family=\"monospace\" font-size=\"10.00\" fill=\"#000000\">ConvolutionBackward0</text>\n</g>\n<!-- 139996201476688&#45;&gt;139996201476880 -->\n<g id=\"edge8\" class=\"edge\">\n<title>139996201476688&#45;&gt;139996201476880</title>\n<path fill=\"none\" stroke=\"#000000\" d=\"M641.2081,-539.9136C663.955,-529.8684 699.8885,-514 725.5921,-502.6491\"/>\n<polygon fill=\"#000000\" stroke=\"#000000\" points=\"727.1597,-505.783 734.8935,-498.5416 724.3319,-499.3796 727.1597,-505.783\"/>\n</g>\n<!-- 139996201479440 -->\n<g id=\"node11\" class=\"node\">\n<title>139996201479440</title>\n<polygon fill=\"#d3d3d3\" stroke=\"#000000\" points=\"560,-619.5 435,-619.5 435,-600.5 560,-600.5 560,-619.5\"/>\n<text text-anchor=\"middle\" x=\"497.5\" y=\"-607.5\" font-family=\"monospace\" font-size=\"10.00\" fill=\"#000000\">LeakyReluBackward1</text>\n</g>\n<!-- 139996201479440&#45;&gt;139996201476688 -->\n<g id=\"edge9\" class=\"edge\">\n<title>139996201479440&#45;&gt;139996201476688</title>\n<path fill=\"none\" stroke=\"#000000\" d=\"M516.8313,-600.4136C536.8199,-590.5012 568.2431,-574.9184 591.0639,-563.6015\"/>\n<polygon fill=\"#000000\" stroke=\"#000000\" points=\"592.8552,-566.62 600.2592,-559.0416 589.7453,-560.3487 592.8552,-566.62\"/>\n</g>\n<!-- 139996201478992 -->\n<g id=\"node12\" class=\"node\">\n<title>139996201478992</title>\n<polygon fill=\"#d3d3d3\" stroke=\"#000000\" points=\"560,-685.5 399,-685.5 399,-666.5 560,-666.5 560,-685.5\"/>\n<text text-anchor=\"middle\" x=\"479.5\" y=\"-673.5\" font-family=\"monospace\" font-size=\"10.00\" fill=\"#000000\">NativeBatchNormBackward0</text>\n</g>\n<!-- 139996201478992&#45;&gt;139996201479440 -->\n<g id=\"edge10\" class=\"edge\">\n<title>139996201478992&#45;&gt;139996201479440</title>\n<path fill=\"none\" stroke=\"#000000\" d=\"M482.156,-666.2615C484.7881,-656.6102 488.8933,-641.558 492.1953,-629.4506\"/>\n<polygon fill=\"#000000\" stroke=\"#000000\" points=\"495.5786,-630.3471 494.8331,-619.7785 488.8252,-628.5052 495.5786,-630.3471\"/>\n</g>\n<!-- 139996201479376 -->\n<g id=\"node13\" class=\"node\">\n<title>139996201479376</title>\n<polygon fill=\"#d3d3d3\" stroke=\"#000000\" points=\"411,-746 274,-746 274,-727 411,-727 411,-746\"/>\n<text text-anchor=\"middle\" x=\"342.5\" y=\"-734\" font-family=\"monospace\" font-size=\"10.00\" fill=\"#000000\">ConvolutionBackward0</text>\n</g>\n<!-- 139996201479376&#45;&gt;139996201478992 -->\n<g id=\"edge11\" class=\"edge\">\n<title>139996201479376&#45;&gt;139996201478992</title>\n<path fill=\"none\" stroke=\"#000000\" d=\"M364.2081,-726.9136C386.955,-716.8684 422.8885,-701 448.5921,-689.6491\"/>\n<polygon fill=\"#000000\" stroke=\"#000000\" points=\"450.1597,-692.783 457.8935,-685.5416 447.3319,-686.3796 450.1597,-692.783\"/>\n</g>\n<!-- 139996201478608 -->\n<g id=\"node14\" class=\"node\">\n<title>139996201478608</title>\n<polygon fill=\"#d3d3d3\" stroke=\"#000000\" points=\"284,-806.5 159,-806.5 159,-787.5 284,-787.5 284,-806.5\"/>\n<text text-anchor=\"middle\" x=\"221.5\" y=\"-794.5\" font-family=\"monospace\" font-size=\"10.00\" fill=\"#000000\">LeakyReluBackward1</text>\n</g>\n<!-- 139996201478608&#45;&gt;139996201479376 -->\n<g id=\"edge12\" class=\"edge\">\n<title>139996201478608&#45;&gt;139996201479376</title>\n<path fill=\"none\" stroke=\"#000000\" d=\"M240.6728,-787.4136C260.4977,-777.5012 291.6632,-761.9184 314.297,-750.6015\"/>\n<polygon fill=\"#000000\" stroke=\"#000000\" points=\"316.0379,-753.6442 323.4169,-746.0416 312.9073,-747.3832 316.0379,-753.6442\"/>\n</g>\n<!-- 139996201479888 -->\n<g id=\"node15\" class=\"node\">\n<title>139996201479888</title>\n<polygon fill=\"#d3d3d3\" stroke=\"#000000\" points=\"286,-872.5 125,-872.5 125,-853.5 286,-853.5 286,-872.5\"/>\n<text text-anchor=\"middle\" x=\"205.5\" y=\"-860.5\" font-family=\"monospace\" font-size=\"10.00\" fill=\"#000000\">NativeBatchNormBackward0</text>\n</g>\n<!-- 139996201479888&#45;&gt;139996201478608 -->\n<g id=\"edge13\" class=\"edge\">\n<title>139996201479888&#45;&gt;139996201478608</title>\n<path fill=\"none\" stroke=\"#000000\" d=\"M207.8609,-853.2615C210.1769,-843.7077 213.776,-828.8615 216.6956,-816.8183\"/>\n<polygon fill=\"#000000\" stroke=\"#000000\" points=\"220.1749,-817.3216 219.1295,-806.7785 213.3719,-815.6724 220.1749,-817.3216\"/>\n</g>\n<!-- 139996201477904 -->\n<g id=\"node16\" class=\"node\">\n<title>139996201477904</title>\n<polygon fill=\"#d3d3d3\" stroke=\"#000000\" points=\"137,-933 0,-933 0,-914 137,-914 137,-933\"/>\n<text text-anchor=\"middle\" x=\"68.5\" y=\"-921\" font-family=\"monospace\" font-size=\"10.00\" fill=\"#000000\">ConvolutionBackward0</text>\n</g>\n<!-- 139996201477904&#45;&gt;139996201479888 -->\n<g id=\"edge14\" class=\"edge\">\n<title>139996201477904&#45;&gt;139996201479888</title>\n<path fill=\"none\" stroke=\"#000000\" d=\"M90.2081,-913.9136C112.955,-903.8684 148.8885,-888 174.5921,-876.6491\"/>\n<polygon fill=\"#000000\" stroke=\"#000000\" points=\"176.1597,-879.783 183.8935,-872.5416 173.3319,-873.3796 176.1597,-879.783\"/>\n</g>\n<!-- 139996201476304 -->\n<g id=\"node17\" class=\"node\">\n<title>139996201476304</title>\n<polygon fill=\"#d3d3d3\" stroke=\"#000000\" points=\"119,-993.5 18,-993.5 18,-974.5 119,-974.5 119,-993.5\"/>\n<text text-anchor=\"middle\" x=\"68.5\" y=\"-981.5\" font-family=\"monospace\" font-size=\"10.00\" fill=\"#000000\">AccumulateGrad</text>\n</g>\n<!-- 139996201476304&#45;&gt;139996201477904 -->\n<g id=\"edge15\" class=\"edge\">\n<title>139996201476304&#45;&gt;139996201477904</title>\n<path fill=\"none\" stroke=\"#000000\" d=\"M68.5,-974.2796C68.5,-966.0376 68.5,-953.9457 68.5,-943.629\"/>\n<polygon fill=\"#000000\" stroke=\"#000000\" points=\"72.0001,-943.3972 68.5,-933.3972 65.0001,-943.3973 72.0001,-943.3972\"/>\n</g>\n<!-- 139996202111920 -->\n<g id=\"node18\" class=\"node\">\n<title>139996202111920</title>\n<polygon fill=\"#add8e6\" stroke=\"#000000\" points=\"128,-1065 9,-1065 9,-1035 128,-1035 128,-1065\"/>\n<text text-anchor=\"middle\" x=\"68.5\" y=\"-1053\" font-family=\"monospace\" font-size=\"10.00\" fill=\"#000000\">0.weight</text>\n<text text-anchor=\"middle\" x=\"68.5\" y=\"-1042\" font-family=\"monospace\" font-size=\"10.00\" fill=\"#000000\"> (64, 1, 4, 4, 4)</text>\n</g>\n<!-- 139996202111920&#45;&gt;139996201476304 -->\n<g id=\"edge16\" class=\"edge\">\n<title>139996202111920&#45;&gt;139996201476304</title>\n<path fill=\"none\" stroke=\"#000000\" d=\"M68.5,-1034.6924C68.5,-1025.5067 68.5,-1013.7245 68.5,-1003.8312\"/>\n<polygon fill=\"#000000\" stroke=\"#000000\" points=\"72.0001,-1003.703 68.5,-993.7031 65.0001,-1003.7031 72.0001,-1003.703\"/>\n</g>\n<!-- 139996201476240 -->\n<g id=\"node19\" class=\"node\">\n<title>139996201476240</title>\n<polygon fill=\"#d3d3d3\" stroke=\"#000000\" points=\"256,-933 155,-933 155,-914 256,-914 256,-933\"/>\n<text text-anchor=\"middle\" x=\"205.5\" y=\"-921\" font-family=\"monospace\" font-size=\"10.00\" fill=\"#000000\">AccumulateGrad</text>\n</g>\n<!-- 139996201476240&#45;&gt;139996201479888 -->\n<g id=\"edge17\" class=\"edge\">\n<title>139996201476240&#45;&gt;139996201479888</title>\n<path fill=\"none\" stroke=\"#000000\" d=\"M205.5,-913.7796C205.5,-905.5376 205.5,-893.4457 205.5,-883.129\"/>\n<polygon fill=\"#000000\" stroke=\"#000000\" points=\"209.0001,-882.8972 205.5,-872.8972 202.0001,-882.8973 209.0001,-882.8972\"/>\n</g>\n<!-- 139996202113456 -->\n<g id=\"node20\" class=\"node\">\n<title>139996202113456</title>\n<polygon fill=\"#add8e6\" stroke=\"#000000\" points=\"238,-999 173,-999 173,-969 238,-969 238,-999\"/>\n<text text-anchor=\"middle\" x=\"205.5\" y=\"-987\" font-family=\"monospace\" font-size=\"10.00\" fill=\"#000000\">1.weight</text>\n<text text-anchor=\"middle\" x=\"205.5\" y=\"-976\" font-family=\"monospace\" font-size=\"10.00\" fill=\"#000000\"> (64)</text>\n</g>\n<!-- 139996202113456&#45;&gt;139996201476240 -->\n<g id=\"edge18\" class=\"edge\">\n<title>139996202113456&#45;&gt;139996201476240</title>\n<path fill=\"none\" stroke=\"#000000\" d=\"M205.5,-968.7333C205.5,-961.0322 205.5,-951.5977 205.5,-943.3414\"/>\n<polygon fill=\"#000000\" stroke=\"#000000\" points=\"209.0001,-943.0864 205.5,-933.0864 202.0001,-943.0864 209.0001,-943.0864\"/>\n</g>\n<!-- 139996201478864 -->\n<g id=\"node21\" class=\"node\">\n<title>139996201478864</title>\n<polygon fill=\"#d3d3d3\" stroke=\"#000000\" points=\"375,-933 274,-933 274,-914 375,-914 375,-933\"/>\n<text text-anchor=\"middle\" x=\"324.5\" y=\"-921\" font-family=\"monospace\" font-size=\"10.00\" fill=\"#000000\">AccumulateGrad</text>\n</g>\n<!-- 139996201478864&#45;&gt;139996201479888 -->\n<g id=\"edge19\" class=\"edge\">\n<title>139996201478864&#45;&gt;139996201479888</title>\n<path fill=\"none\" stroke=\"#000000\" d=\"M305.6441,-913.9136C286.1469,-904.0012 255.4965,-888.4184 233.2368,-877.1015\"/>\n<polygon fill=\"#000000\" stroke=\"#000000\" points=\"234.768,-873.9536 224.2677,-872.5416 231.5956,-880.1935 234.768,-873.9536\"/>\n</g>\n<!-- 139996202113072 -->\n<g id=\"node22\" class=\"node\">\n<title>139996202113072</title>\n<polygon fill=\"#add8e6\" stroke=\"#000000\" points=\"351.5,-999 297.5,-999 297.5,-969 351.5,-969 351.5,-999\"/>\n<text text-anchor=\"middle\" x=\"324.5\" y=\"-987\" font-family=\"monospace\" font-size=\"10.00\" fill=\"#000000\">1.bias</text>\n<text text-anchor=\"middle\" x=\"324.5\" y=\"-976\" font-family=\"monospace\" font-size=\"10.00\" fill=\"#000000\"> (64)</text>\n</g>\n<!-- 139996202113072&#45;&gt;139996201478864 -->\n<g id=\"edge20\" class=\"edge\">\n<title>139996202113072&#45;&gt;139996201478864</title>\n<path fill=\"none\" stroke=\"#000000\" d=\"M324.5,-968.7333C324.5,-961.0322 324.5,-951.5977 324.5,-943.3414\"/>\n<polygon fill=\"#000000\" stroke=\"#000000\" points=\"328.0001,-943.0864 324.5,-933.0864 321.0001,-943.0864 328.0001,-943.0864\"/>\n</g>\n<!-- 139996201480144 -->\n<g id=\"node23\" class=\"node\">\n<title>139996201480144</title>\n<polygon fill=\"#d3d3d3\" stroke=\"#000000\" points=\"411,-806.5 310,-806.5 310,-787.5 411,-787.5 411,-806.5\"/>\n<text text-anchor=\"middle\" x=\"360.5\" y=\"-794.5\" font-family=\"monospace\" font-size=\"10.00\" fill=\"#000000\">AccumulateGrad</text>\n</g>\n<!-- 139996201480144&#45;&gt;139996201479376 -->\n<g id=\"edge21\" class=\"edge\">\n<title>139996201480144&#45;&gt;139996201479376</title>\n<path fill=\"none\" stroke=\"#000000\" d=\"M357.608,-787.2796C355.1297,-778.9499 351.4816,-766.688 348.391,-756.3004\"/>\n<polygon fill=\"#000000\" stroke=\"#000000\" points=\"351.651,-754.9839 345.4446,-746.3972 344.9417,-756.9801 351.651,-754.9839\"/>\n</g>\n<!-- 139996202114608 -->\n<g id=\"node24\" class=\"node\">\n<title>139996202114608</title>\n<polygon fill=\"#add8e6\" stroke=\"#000000\" points=\"435,-878 304,-878 304,-848 435,-848 435,-878\"/>\n<text text-anchor=\"middle\" x=\"369.5\" y=\"-866\" font-family=\"monospace\" font-size=\"10.00\" fill=\"#000000\">3.weight</text>\n<text text-anchor=\"middle\" x=\"369.5\" y=\"-855\" font-family=\"monospace\" font-size=\"10.00\" fill=\"#000000\"> (128, 64, 4, 4, 4)</text>\n</g>\n<!-- 139996202114608&#45;&gt;139996201480144 -->\n<g id=\"edge22\" class=\"edge\">\n<title>139996202114608&#45;&gt;139996201480144</title>\n<path fill=\"none\" stroke=\"#000000\" d=\"M367.4126,-847.6924C366.16,-838.5067 364.5533,-826.7245 363.2043,-816.8312\"/>\n<polygon fill=\"#000000\" stroke=\"#000000\" points=\"366.6423,-816.1384 361.8231,-806.7031 359.7065,-817.0843 366.6423,-816.1384\"/>\n</g>\n<!-- 139996201477456 -->\n<g id=\"node25\" class=\"node\">\n<title>139996201477456</title>\n<polygon fill=\"#d3d3d3\" stroke=\"#000000\" points=\"530,-746 429,-746 429,-727 530,-727 530,-746\"/>\n<text text-anchor=\"middle\" x=\"479.5\" y=\"-734\" font-family=\"monospace\" font-size=\"10.00\" fill=\"#000000\">AccumulateGrad</text>\n</g>\n<!-- 139996201477456&#45;&gt;139996201478992 -->\n<g id=\"edge23\" class=\"edge\">\n<title>139996201477456&#45;&gt;139996201478992</title>\n<path fill=\"none\" stroke=\"#000000\" d=\"M479.5,-726.7796C479.5,-718.5376 479.5,-706.4457 479.5,-696.129\"/>\n<polygon fill=\"#000000\" stroke=\"#000000\" points=\"483.0001,-695.8972 479.5,-685.8972 476.0001,-695.8973 483.0001,-695.8972\"/>\n</g>\n<!-- 139996202112112 -->\n<g id=\"node26\" class=\"node\">\n<title>139996202112112</title>\n<polygon fill=\"#add8e6\" stroke=\"#000000\" points=\"512,-812 447,-812 447,-782 512,-782 512,-812\"/>\n<text text-anchor=\"middle\" x=\"479.5\" y=\"-800\" font-family=\"monospace\" font-size=\"10.00\" fill=\"#000000\">4.weight</text>\n<text text-anchor=\"middle\" x=\"479.5\" y=\"-789\" font-family=\"monospace\" font-size=\"10.00\" fill=\"#000000\"> (128)</text>\n</g>\n<!-- 139996202112112&#45;&gt;139996201477456 -->\n<g id=\"edge24\" class=\"edge\">\n<title>139996202112112&#45;&gt;139996201477456</title>\n<path fill=\"none\" stroke=\"#000000\" d=\"M479.5,-781.7333C479.5,-774.0322 479.5,-764.5977 479.5,-756.3414\"/>\n<polygon fill=\"#000000\" stroke=\"#000000\" points=\"483.0001,-756.0864 479.5,-746.0864 476.0001,-756.0864 483.0001,-756.0864\"/>\n</g>\n<!-- 139996201478928 -->\n<g id=\"node27\" class=\"node\">\n<title>139996201478928</title>\n<polygon fill=\"#d3d3d3\" stroke=\"#000000\" points=\"649,-746 548,-746 548,-727 649,-727 649,-746\"/>\n<text text-anchor=\"middle\" x=\"598.5\" y=\"-734\" font-family=\"monospace\" font-size=\"10.00\" fill=\"#000000\">AccumulateGrad</text>\n</g>\n<!-- 139996201478928&#45;&gt;139996201478992 -->\n<g id=\"edge25\" class=\"edge\">\n<title>139996201478928&#45;&gt;139996201478992</title>\n<path fill=\"none\" stroke=\"#000000\" d=\"M579.6441,-726.9136C560.1469,-717.0012 529.4965,-701.4184 507.2368,-690.1015\"/>\n<polygon fill=\"#000000\" stroke=\"#000000\" points=\"508.768,-686.9536 498.2677,-685.5416 505.5956,-693.1935 508.768,-686.9536\"/>\n</g>\n<!-- 139996202113648 -->\n<g id=\"node28\" class=\"node\">\n<title>139996202113648</title>\n<polygon fill=\"#add8e6\" stroke=\"#000000\" points=\"625.5,-812 571.5,-812 571.5,-782 625.5,-782 625.5,-812\"/>\n<text text-anchor=\"middle\" x=\"598.5\" y=\"-800\" font-family=\"monospace\" font-size=\"10.00\" fill=\"#000000\">4.bias</text>\n<text text-anchor=\"middle\" x=\"598.5\" y=\"-789\" font-family=\"monospace\" font-size=\"10.00\" fill=\"#000000\"> (128)</text>\n</g>\n<!-- 139996202113648&#45;&gt;139996201478928 -->\n<g id=\"edge26\" class=\"edge\">\n<title>139996202113648&#45;&gt;139996201478928</title>\n<path fill=\"none\" stroke=\"#000000\" d=\"M598.5,-781.7333C598.5,-774.0322 598.5,-764.5977 598.5,-756.3414\"/>\n<polygon fill=\"#000000\" stroke=\"#000000\" points=\"602.0001,-756.0864 598.5,-746.0864 595.0001,-756.0864 602.0001,-756.0864\"/>\n</g>\n<!-- 139996201479248 -->\n<g id=\"node29\" class=\"node\">\n<title>139996201479248</title>\n<polygon fill=\"#d3d3d3\" stroke=\"#000000\" points=\"688,-619.5 587,-619.5 587,-600.5 688,-600.5 688,-619.5\"/>\n<text text-anchor=\"middle\" x=\"637.5\" y=\"-607.5\" font-family=\"monospace\" font-size=\"10.00\" fill=\"#000000\">AccumulateGrad</text>\n</g>\n<!-- 139996201479248&#45;&gt;139996201476688 -->\n<g id=\"edge27\" class=\"edge\">\n<title>139996201479248&#45;&gt;139996201476688</title>\n<path fill=\"none\" stroke=\"#000000\" d=\"M634.608,-600.2796C632.1297,-591.9499 628.4816,-579.688 625.391,-569.3004\"/>\n<polygon fill=\"#000000\" stroke=\"#000000\" points=\"628.651,-567.9839 622.4446,-559.3972 621.9417,-569.9801 628.651,-567.9839\"/>\n</g>\n<!-- 139996201551152 -->\n<g id=\"node30\" class=\"node\">\n<title>139996201551152</title>\n<polygon fill=\"#add8e6\" stroke=\"#000000\" points=\"715,-691 578,-691 578,-661 715,-661 715,-691\"/>\n<text text-anchor=\"middle\" x=\"646.5\" y=\"-679\" font-family=\"monospace\" font-size=\"10.00\" fill=\"#000000\">6.weight</text>\n<text text-anchor=\"middle\" x=\"646.5\" y=\"-668\" font-family=\"monospace\" font-size=\"10.00\" fill=\"#000000\"> (256, 128, 4, 4, 4)</text>\n</g>\n<!-- 139996201551152&#45;&gt;139996201479248 -->\n<g id=\"edge28\" class=\"edge\">\n<title>139996201551152&#45;&gt;139996201479248</title>\n<path fill=\"none\" stroke=\"#000000\" d=\"M644.4126,-660.6924C643.16,-651.5067 641.5533,-639.7245 640.2043,-629.8312\"/>\n<polygon fill=\"#000000\" stroke=\"#000000\" points=\"643.6423,-629.1384 638.8231,-619.7031 636.7065,-630.0843 643.6423,-629.1384\"/>\n</g>\n<!-- 139996201477712 -->\n<g id=\"node31\" class=\"node\">\n<title>139996201477712</title>\n<polygon fill=\"#d3d3d3\" stroke=\"#000000\" points=\"807,-559 706,-559 706,-540 807,-540 807,-559\"/>\n<text text-anchor=\"middle\" x=\"756.5\" y=\"-547\" font-family=\"monospace\" font-size=\"10.00\" fill=\"#000000\">AccumulateGrad</text>\n</g>\n<!-- 139996201477712&#45;&gt;139996201476880 -->\n<g id=\"edge29\" class=\"edge\">\n<title>139996201477712&#45;&gt;139996201476880</title>\n<path fill=\"none\" stroke=\"#000000\" d=\"M756.5,-539.7796C756.5,-531.5376 756.5,-519.4457 756.5,-509.129\"/>\n<polygon fill=\"#000000\" stroke=\"#000000\" points=\"760.0001,-508.8972 756.5,-498.8972 753.0001,-508.8973 760.0001,-508.8972\"/>\n</g>\n<!-- 139996201552688 -->\n<g id=\"node32\" class=\"node\">\n<title>139996201552688</title>\n<polygon fill=\"#add8e6\" stroke=\"#000000\" points=\"789,-625 724,-625 724,-595 789,-595 789,-625\"/>\n<text text-anchor=\"middle\" x=\"756.5\" y=\"-613\" font-family=\"monospace\" font-size=\"10.00\" fill=\"#000000\">7.weight</text>\n<text text-anchor=\"middle\" x=\"756.5\" y=\"-602\" font-family=\"monospace\" font-size=\"10.00\" fill=\"#000000\"> (256)</text>\n</g>\n<!-- 139996201552688&#45;&gt;139996201477712 -->\n<g id=\"edge30\" class=\"edge\">\n<title>139996201552688&#45;&gt;139996201477712</title>\n<path fill=\"none\" stroke=\"#000000\" d=\"M756.5,-594.7333C756.5,-587.0322 756.5,-577.5977 756.5,-569.3414\"/>\n<polygon fill=\"#000000\" stroke=\"#000000\" points=\"760.0001,-569.0864 756.5,-559.0864 753.0001,-569.0864 760.0001,-569.0864\"/>\n</g>\n<!-- 139996201477840 -->\n<g id=\"node33\" class=\"node\">\n<title>139996201477840</title>\n<polygon fill=\"#d3d3d3\" stroke=\"#000000\" points=\"926,-559 825,-559 825,-540 926,-540 926,-559\"/>\n<text text-anchor=\"middle\" x=\"875.5\" y=\"-547\" font-family=\"monospace\" font-size=\"10.00\" fill=\"#000000\">AccumulateGrad</text>\n</g>\n<!-- 139996201477840&#45;&gt;139996201476880 -->\n<g id=\"edge31\" class=\"edge\">\n<title>139996201477840&#45;&gt;139996201476880</title>\n<path fill=\"none\" stroke=\"#000000\" d=\"M856.6441,-539.9136C837.1469,-530.0012 806.4965,-514.4184 784.2368,-503.1015\"/>\n<polygon fill=\"#000000\" stroke=\"#000000\" points=\"785.768,-499.9536 775.2677,-498.5416 782.5956,-506.1935 785.768,-499.9536\"/>\n</g>\n<!-- 139996201551440 -->\n<g id=\"node34\" class=\"node\">\n<title>139996201551440</title>\n<polygon fill=\"#add8e6\" stroke=\"#000000\" points=\"902.5,-625 848.5,-625 848.5,-595 902.5,-595 902.5,-625\"/>\n<text text-anchor=\"middle\" x=\"875.5\" y=\"-613\" font-family=\"monospace\" font-size=\"10.00\" fill=\"#000000\">7.bias</text>\n<text text-anchor=\"middle\" x=\"875.5\" y=\"-602\" font-family=\"monospace\" font-size=\"10.00\" fill=\"#000000\"> (256)</text>\n</g>\n<!-- 139996201551440&#45;&gt;139996201477840 -->\n<g id=\"edge32\" class=\"edge\">\n<title>139996201551440&#45;&gt;139996201477840</title>\n<path fill=\"none\" stroke=\"#000000\" d=\"M875.5,-594.7333C875.5,-587.0322 875.5,-577.5977 875.5,-569.3414\"/>\n<polygon fill=\"#000000\" stroke=\"#000000\" points=\"879.0001,-569.0864 875.5,-559.0864 872.0001,-569.0864 879.0001,-569.0864\"/>\n</g>\n<!-- 139996201477328 -->\n<g id=\"node35\" class=\"node\">\n<title>139996201477328</title>\n<polygon fill=\"#d3d3d3\" stroke=\"#000000\" points=\"965,-432.5 864,-432.5 864,-413.5 965,-413.5 965,-432.5\"/>\n<text text-anchor=\"middle\" x=\"914.5\" y=\"-420.5\" font-family=\"monospace\" font-size=\"10.00\" fill=\"#000000\">AccumulateGrad</text>\n</g>\n<!-- 139996201477328&#45;&gt;139996201478352 -->\n<g id=\"edge33\" class=\"edge\">\n<title>139996201477328&#45;&gt;139996201478352</title>\n<path fill=\"none\" stroke=\"#000000\" d=\"M911.7687,-413.2796C909.4281,-404.9499 905.9826,-392.688 903.0637,-382.3004\"/>\n<polygon fill=\"#000000\" stroke=\"#000000\" points=\"906.3558,-381.0776 900.281,-372.3972 899.6168,-382.9712 906.3558,-381.0776\"/>\n</g>\n<!-- 139996201552208 -->\n<g id=\"node36\" class=\"node\">\n<title>139996201552208</title>\n<polygon fill=\"#add8e6\" stroke=\"#000000\" points=\"992,-504 855,-504 855,-474 992,-474 992,-504\"/>\n<text text-anchor=\"middle\" x=\"923.5\" y=\"-492\" font-family=\"monospace\" font-size=\"10.00\" fill=\"#000000\">9.weight</text>\n<text text-anchor=\"middle\" x=\"923.5\" y=\"-481\" font-family=\"monospace\" font-size=\"10.00\" fill=\"#000000\"> (512, 256, 4, 4, 4)</text>\n</g>\n<!-- 139996201552208&#45;&gt;139996201477328 -->\n<g id=\"edge34\" class=\"edge\">\n<title>139996201552208&#45;&gt;139996201477328</title>\n<path fill=\"none\" stroke=\"#000000\" d=\"M921.4126,-473.6924C920.16,-464.5067 918.5533,-452.7245 917.2043,-442.8312\"/>\n<polygon fill=\"#000000\" stroke=\"#000000\" points=\"920.6423,-442.1384 915.8231,-432.7031 913.7065,-443.0843 920.6423,-442.1384\"/>\n</g>\n<!-- 139996201476944 -->\n<g id=\"node37\" class=\"node\">\n<title>139996201476944</title>\n<polygon fill=\"#d3d3d3\" stroke=\"#000000\" points=\"1085,-372 984,-372 984,-353 1085,-353 1085,-372\"/>\n<text text-anchor=\"middle\" x=\"1034.5\" y=\"-360\" font-family=\"monospace\" font-size=\"10.00\" fill=\"#000000\">AccumulateGrad</text>\n</g>\n<!-- 139996201476944&#45;&gt;139996201479056 -->\n<g id=\"edge35\" class=\"edge\">\n<title>139996201476944&#45;&gt;139996201479056</title>\n<path fill=\"none\" stroke=\"#000000\" d=\"M1034.5,-352.7796C1034.5,-344.5376 1034.5,-332.4457 1034.5,-322.129\"/>\n<polygon fill=\"#000000\" stroke=\"#000000\" points=\"1038.0001,-321.8972 1034.5,-311.8972 1031.0001,-321.8973 1038.0001,-321.8972\"/>\n</g>\n<!-- 139996201553264 -->\n<g id=\"node38\" class=\"node\">\n<title>139996201553264</title>\n<polygon fill=\"#add8e6\" stroke=\"#000000\" points=\"1070,-438 999,-438 999,-408 1070,-408 1070,-438\"/>\n<text text-anchor=\"middle\" x=\"1034.5\" y=\"-426\" font-family=\"monospace\" font-size=\"10.00\" fill=\"#000000\">10.weight</text>\n<text text-anchor=\"middle\" x=\"1034.5\" y=\"-415\" font-family=\"monospace\" font-size=\"10.00\" fill=\"#000000\"> (512)</text>\n</g>\n<!-- 139996201553264&#45;&gt;139996201476944 -->\n<g id=\"edge36\" class=\"edge\">\n<title>139996201553264&#45;&gt;139996201476944</title>\n<path fill=\"none\" stroke=\"#000000\" d=\"M1034.5,-407.7333C1034.5,-400.0322 1034.5,-390.5977 1034.5,-382.3414\"/>\n<polygon fill=\"#000000\" stroke=\"#000000\" points=\"1038.0001,-382.0864 1034.5,-372.0864 1031.0001,-382.0864 1038.0001,-382.0864\"/>\n</g>\n<!-- 139996201477264 -->\n<g id=\"node39\" class=\"node\">\n<title>139996201477264</title>\n<polygon fill=\"#d3d3d3\" stroke=\"#000000\" points=\"1204,-372 1103,-372 1103,-353 1204,-353 1204,-372\"/>\n<text text-anchor=\"middle\" x=\"1153.5\" y=\"-360\" font-family=\"monospace\" font-size=\"10.00\" fill=\"#000000\">AccumulateGrad</text>\n</g>\n<!-- 139996201477264&#45;&gt;139996201479056 -->\n<g id=\"edge37\" class=\"edge\">\n<title>139996201477264&#45;&gt;139996201479056</title>\n<path fill=\"none\" stroke=\"#000000\" d=\"M1134.6441,-352.9136C1115.1469,-343.0012 1084.4965,-327.4184 1062.2368,-316.1015\"/>\n<polygon fill=\"#000000\" stroke=\"#000000\" points=\"1063.768,-312.9536 1053.2677,-311.5416 1060.5956,-319.1935 1063.768,-312.9536\"/>\n</g>\n<!-- 139996201551632 -->\n<g id=\"node40\" class=\"node\">\n<title>139996201551632</title>\n<polygon fill=\"#add8e6\" stroke=\"#000000\" points=\"1183,-438 1124,-438 1124,-408 1183,-408 1183,-438\"/>\n<text text-anchor=\"middle\" x=\"1153.5\" y=\"-426\" font-family=\"monospace\" font-size=\"10.00\" fill=\"#000000\">10.bias</text>\n<text text-anchor=\"middle\" x=\"1153.5\" y=\"-415\" font-family=\"monospace\" font-size=\"10.00\" fill=\"#000000\"> (512)</text>\n</g>\n<!-- 139996201551632&#45;&gt;139996201477264 -->\n<g id=\"edge38\" class=\"edge\">\n<title>139996201551632&#45;&gt;139996201477264</title>\n<path fill=\"none\" stroke=\"#000000\" d=\"M1153.5,-407.7333C1153.5,-400.0322 1153.5,-390.5977 1153.5,-382.3414\"/>\n<polygon fill=\"#000000\" stroke=\"#000000\" points=\"1157.0001,-382.0864 1153.5,-372.0864 1150.0001,-382.0864 1157.0001,-382.0864\"/>\n</g>\n<!-- 139996201476496 -->\n<g id=\"node41\" class=\"node\">\n<title>139996201476496</title>\n<polygon fill=\"#d3d3d3\" stroke=\"#000000\" points=\"1238,-251 1137,-251 1137,-232 1238,-232 1238,-251\"/>\n<text text-anchor=\"middle\" x=\"1187.5\" y=\"-239\" font-family=\"monospace\" font-size=\"10.00\" fill=\"#000000\">AccumulateGrad</text>\n</g>\n<!-- 139996201476496&#45;&gt;139996201477008 -->\n<g id=\"edge39\" class=\"edge\">\n<title>139996201476496&#45;&gt;139996201477008</title>\n<path fill=\"none\" stroke=\"#000000\" d=\"M1174.7844,-231.9197C1164.0307,-223.8177 1148.3984,-212.0399 1135.7472,-202.5082\"/>\n<polygon fill=\"#000000\" stroke=\"#000000\" points=\"1137.6545,-199.563 1127.5615,-196.3408 1133.4422,-205.1538 1137.6545,-199.563\"/>\n</g>\n<!-- 139996201550960 -->\n<g id=\"node42\" class=\"node\">\n<title>139996201550960</title>\n<polygon fill=\"#add8e6\" stroke=\"#000000\" points=\"1258,-317 1133,-317 1133,-287 1258,-287 1258,-317\"/>\n<text text-anchor=\"middle\" x=\"1195.5\" y=\"-305\" font-family=\"monospace\" font-size=\"10.00\" fill=\"#000000\">12.weight</text>\n<text text-anchor=\"middle\" x=\"1195.5\" y=\"-294\" font-family=\"monospace\" font-size=\"10.00\" fill=\"#000000\"> (1, 512, 4, 4, 4)</text>\n</g>\n<!-- 139996201550960&#45;&gt;139996201476496 -->\n<g id=\"edge40\" class=\"edge\">\n<title>139996201550960&#45;&gt;139996201476496</title>\n<path fill=\"none\" stroke=\"#000000\" d=\"M1193.4813,-286.7333C1192.4514,-278.9447 1191.187,-269.3831 1190.0865,-261.0604\"/>\n<polygon fill=\"#000000\" stroke=\"#000000\" points=\"1193.5484,-260.5413 1188.7676,-251.0864 1186.6088,-261.459 1193.5484,-260.5413\"/>\n</g>\n</g>\n</svg>\n"
          },
          "metadata": {},
          "execution_count": 17
        }
      ]
    },
    {
      "cell_type": "code",
      "source": [
        "discriminator = to_device(discriminator, device)"
      ],
      "metadata": {
        "id": "84ldA-h6p3zd"
      },
      "execution_count": 18,
      "outputs": []
    },
    {
      "cell_type": "code",
      "source": [
        "class GeneratorModel(nn.Module):\n",
        "    def __init__(self):\n",
        "      super().__init__()\n",
        "\n",
        "      self.conv1 = nn.Sequential(\n",
        "          nn.ConvTranspose3d(latent_size, 512, kernel_size=4, stride=1, padding=0, bias=False),\n",
        "          nn.BatchNorm3d(512),\n",
        "          nn.ReLU(True)\n",
        "      )\n",
        "\n",
        "      self.conv2 = nn.Sequential(\n",
        "          nn.ConvTranspose3d(512, 256, kernel_size=4, stride=2, padding=1, bias=False),\n",
        "          nn.BatchNorm3d(256),\n",
        "          nn.ReLU(True)\n",
        "      )\n",
        "\n",
        "      self.conv3 = nn.Sequential(\n",
        "          nn.ConvTranspose3d(256, 128, kernel_size=4, stride=2, padding=1, bias=False),\n",
        "          nn.BatchNorm3d(128),\n",
        "          nn.ReLU(True)\n",
        "      )\n",
        "\n",
        "      self.conv4 = nn.Sequential(\n",
        "          nn.ConvTranspose3d(128, 64, kernel_size=4, stride=2, padding=1, bias=False),\n",
        "          nn.BatchNorm3d(64),\n",
        "          nn.ReLU(True)\n",
        "      )\n",
        "\n",
        "      self.conv5 = nn.ConvTranspose3d(64, 1, kernel_size=4, stride=4, padding=0, bias=False)\n",
        "\n",
        "      self.tan = nn.Tanh()\n",
        "      self.sig = nn.Hardsigmoid(True)\n",
        "    \n",
        "    def forward(self, xb):\n",
        "        out = self.conv1(xb)\n",
        "        out = self.conv2(out)\n",
        "        out = self.conv3(out)\n",
        "        out = self.conv4(out)\n",
        "        out = self.conv5(out)\n",
        "        out = self.tan(out)\n",
        "        return out\n",
        "\n",
        "generator = GeneratorModel()"
      ],
      "metadata": {
        "id": "P2Ez1GOusENW"
      },
      "execution_count": 19,
      "outputs": []
    },
    {
      "cell_type": "code",
      "source": [
        "make_dot(generator(latent_transform(torch.zeros(latent_size))), params=dict(generator.named_parameters()))"
      ],
      "metadata": {
        "colab": {
          "base_uri": "https://localhost:8080/",
          "height": 973
        },
        "id": "_mWfWvi6tggo",
        "outputId": "c5a8e8b9-0983-4c3a-a787-e2f14cad06b8"
      },
      "execution_count": 20,
      "outputs": [
        {
          "output_type": "execute_result",
          "data": {
            "text/plain": [
              "<graphviz.dot.Digraph at 0x7f5367de51d0>"
            ],
            "image/svg+xml": "<?xml version=\"1.0\" encoding=\"UTF-8\" standalone=\"no\"?>\n<!DOCTYPE svg PUBLIC \"-//W3C//DTD SVG 1.1//EN\"\n \"http://www.w3.org/Graphics/SVG/1.1/DTD/svg11.dtd\">\n<!-- Generated by graphviz version 2.40.1 (20161225.0304)\n -->\n<!-- Title: %3 Pages: 1 -->\n<svg width=\"875pt\" height=\"699pt\"\n viewBox=\"0.00 0.00 875.00 698.63\" xmlns=\"http://www.w3.org/2000/svg\" xmlns:xlink=\"http://www.w3.org/1999/xlink\">\n<g id=\"graph0\" class=\"graph\" transform=\"scale(.6863 .6863) rotate(0) translate(4 1014)\">\n<title>%3</title>\n<polygon fill=\"#ffffff\" stroke=\"transparent\" points=\"-4,4 -4,-1014 1271,-1014 1271,4 -4,4\"/>\n<!-- 139996201946864 -->\n<g id=\"node1\" class=\"node\">\n<title>139996201946864</title>\n<polygon fill=\"#caff70\" stroke=\"#000000\" points=\"1202,-31 1053,-31 1053,0 1202,0 1202,-31\"/>\n<text text-anchor=\"middle\" x=\"1127.5\" y=\"-7\" font-family=\"monospace\" font-size=\"10.00\" fill=\"#000000\"> (1, 1, 128, 128, 128)</text>\n</g>\n<!-- 139996201636176 -->\n<g id=\"node2\" class=\"node\">\n<title>139996201636176</title>\n<polygon fill=\"#d3d3d3\" stroke=\"#000000\" points=\"1175,-86 1080,-86 1080,-67 1175,-67 1175,-86\"/>\n<text text-anchor=\"middle\" x=\"1127.5\" y=\"-74\" font-family=\"monospace\" font-size=\"10.00\" fill=\"#000000\">TanhBackward0</text>\n</g>\n<!-- 139996201636176&#45;&gt;139996201946864 -->\n<g id=\"edge40\" class=\"edge\">\n<title>139996201636176&#45;&gt;139996201946864</title>\n<path fill=\"none\" stroke=\"#000000\" d=\"M1127.5,-66.9688C1127.5,-60.1289 1127.5,-50.5621 1127.5,-41.5298\"/>\n<polygon fill=\"#000000\" stroke=\"#000000\" points=\"1131.0001,-41.3678 1127.5,-31.3678 1124.0001,-41.3678 1131.0001,-41.3678\"/>\n</g>\n<!-- 139996201636880 -->\n<g id=\"node3\" class=\"node\">\n<title>139996201636880</title>\n<polygon fill=\"#d3d3d3\" stroke=\"#000000\" points=\"1196,-141 1059,-141 1059,-122 1196,-122 1196,-141\"/>\n<text text-anchor=\"middle\" x=\"1127.5\" y=\"-129\" font-family=\"monospace\" font-size=\"10.00\" fill=\"#000000\">ConvolutionBackward0</text>\n</g>\n<!-- 139996201636880&#45;&gt;139996201636176 -->\n<g id=\"edge1\" class=\"edge\">\n<title>139996201636880&#45;&gt;139996201636176</title>\n<path fill=\"none\" stroke=\"#000000\" d=\"M1127.5,-121.9197C1127.5,-114.9083 1127.5,-105.1442 1127.5,-96.4652\"/>\n<polygon fill=\"#000000\" stroke=\"#000000\" points=\"1131.0001,-96.3408 1127.5,-86.3408 1124.0001,-96.3409 1131.0001,-96.3408\"/>\n</g>\n<!-- 139996201638160 -->\n<g id=\"node4\" class=\"node\">\n<title>139996201638160</title>\n<polygon fill=\"#d3d3d3\" stroke=\"#000000\" points=\"1107,-196 1012,-196 1012,-177 1107,-177 1107,-196\"/>\n<text text-anchor=\"middle\" x=\"1059.5\" y=\"-184\" font-family=\"monospace\" font-size=\"10.00\" fill=\"#000000\">ReluBackward0</text>\n</g>\n<!-- 139996201638160&#45;&gt;139996201636880 -->\n<g id=\"edge2\" class=\"edge\">\n<title>139996201638160&#45;&gt;139996201636880</title>\n<path fill=\"none\" stroke=\"#000000\" d=\"M1071.3447,-176.9197C1081.2655,-168.8956 1095.6438,-157.2661 1107.3674,-147.7837\"/>\n<polygon fill=\"#000000\" stroke=\"#000000\" points=\"1109.7591,-150.3509 1115.3332,-141.3408 1105.357,-144.9083 1109.7591,-150.3509\"/>\n</g>\n<!-- 139996201639696 -->\n<g id=\"node5\" class=\"node\">\n<title>139996201639696</title>\n<polygon fill=\"#d3d3d3\" stroke=\"#000000\" points=\"1130,-256.5 969,-256.5 969,-237.5 1130,-237.5 1130,-256.5\"/>\n<text text-anchor=\"middle\" x=\"1049.5\" y=\"-244.5\" font-family=\"monospace\" font-size=\"10.00\" fill=\"#000000\">NativeBatchNormBackward0</text>\n</g>\n<!-- 139996201639696&#45;&gt;139996201638160 -->\n<g id=\"edge3\" class=\"edge\">\n<title>139996201639696&#45;&gt;139996201638160</title>\n<path fill=\"none\" stroke=\"#000000\" d=\"M1051.1067,-237.2796C1052.4835,-228.9499 1054.5102,-216.688 1056.2272,-206.3004\"/>\n<polygon fill=\"#000000\" stroke=\"#000000\" points=\"1059.6864,-206.8342 1057.8641,-196.3972 1052.7801,-205.6926 1059.6864,-206.8342\"/>\n</g>\n<!-- 139996201636624 -->\n<g id=\"node6\" class=\"node\">\n<title>139996201636624</title>\n<polygon fill=\"#d3d3d3\" stroke=\"#000000\" points=\"981,-317 844,-317 844,-298 981,-298 981,-317\"/>\n<text text-anchor=\"middle\" x=\"912.5\" y=\"-305\" font-family=\"monospace\" font-size=\"10.00\" fill=\"#000000\">ConvolutionBackward0</text>\n</g>\n<!-- 139996201636624&#45;&gt;139996201639696 -->\n<g id=\"edge4\" class=\"edge\">\n<title>139996201636624&#45;&gt;139996201639696</title>\n<path fill=\"none\" stroke=\"#000000\" d=\"M934.2081,-297.9136C956.955,-287.8684 992.8885,-272 1018.5921,-260.6491\"/>\n<polygon fill=\"#000000\" stroke=\"#000000\" points=\"1020.1597,-263.783 1027.8935,-256.5416 1017.3319,-257.3796 1020.1597,-263.783\"/>\n</g>\n<!-- 139996201638544 -->\n<g id=\"node7\" class=\"node\">\n<title>139996201638544</title>\n<polygon fill=\"#d3d3d3\" stroke=\"#000000\" points=\"841,-377.5 746,-377.5 746,-358.5 841,-358.5 841,-377.5\"/>\n<text text-anchor=\"middle\" x=\"793.5\" y=\"-365.5\" font-family=\"monospace\" font-size=\"10.00\" fill=\"#000000\">ReluBackward0</text>\n</g>\n<!-- 139996201638544&#45;&gt;139996201636624 -->\n<g id=\"edge5\" class=\"edge\">\n<title>139996201638544&#45;&gt;139996201636624</title>\n<path fill=\"none\" stroke=\"#000000\" d=\"M812.3559,-358.4136C831.8531,-348.5012 862.5035,-332.9184 884.7632,-321.6015\"/>\n<polygon fill=\"#000000\" stroke=\"#000000\" points=\"886.4044,-324.6935 893.7323,-317.0416 883.232,-318.4536 886.4044,-324.6935\"/>\n</g>\n<!-- 139996201608528 -->\n<g id=\"node8\" class=\"node\">\n<title>139996201608528</title>\n<polygon fill=\"#d3d3d3\" stroke=\"#000000\" points=\"850,-443.5 689,-443.5 689,-424.5 850,-424.5 850,-443.5\"/>\n<text text-anchor=\"middle\" x=\"769.5\" y=\"-431.5\" font-family=\"monospace\" font-size=\"10.00\" fill=\"#000000\">NativeBatchNormBackward0</text>\n</g>\n<!-- 139996201608528&#45;&gt;139996201638544 -->\n<g id=\"edge6\" class=\"edge\">\n<title>139996201608528&#45;&gt;139996201638544</title>\n<path fill=\"none\" stroke=\"#000000\" d=\"M773.0413,-424.2615C776.5508,-414.6102 782.0244,-399.558 786.4271,-387.4506\"/>\n<polygon fill=\"#000000\" stroke=\"#000000\" points=\"789.816,-388.3725 789.9442,-377.7785 783.2374,-385.9803 789.816,-388.3725\"/>\n</g>\n<!-- 139996201609232 -->\n<g id=\"node9\" class=\"node\">\n<title>139996201609232</title>\n<polygon fill=\"#d3d3d3\" stroke=\"#000000\" points=\"701,-504 564,-504 564,-485 701,-485 701,-504\"/>\n<text text-anchor=\"middle\" x=\"632.5\" y=\"-492\" font-family=\"monospace\" font-size=\"10.00\" fill=\"#000000\">ConvolutionBackward0</text>\n</g>\n<!-- 139996201609232&#45;&gt;139996201608528 -->\n<g id=\"edge7\" class=\"edge\">\n<title>139996201609232&#45;&gt;139996201608528</title>\n<path fill=\"none\" stroke=\"#000000\" d=\"M654.2081,-484.9136C676.955,-474.8684 712.8885,-459 738.5921,-447.6491\"/>\n<polygon fill=\"#000000\" stroke=\"#000000\" points=\"740.1597,-450.783 747.8935,-443.5416 737.3319,-444.3796 740.1597,-450.783\"/>\n</g>\n<!-- 139996201609936 -->\n<g id=\"node10\" class=\"node\">\n<title>139996201609936</title>\n<polygon fill=\"#d3d3d3\" stroke=\"#000000\" points=\"560,-564.5 465,-564.5 465,-545.5 560,-545.5 560,-564.5\"/>\n<text text-anchor=\"middle\" x=\"512.5\" y=\"-552.5\" font-family=\"monospace\" font-size=\"10.00\" fill=\"#000000\">ReluBackward0</text>\n</g>\n<!-- 139996201609936&#45;&gt;139996201609232 -->\n<g id=\"edge8\" class=\"edge\">\n<title>139996201609936&#45;&gt;139996201609232</title>\n<path fill=\"none\" stroke=\"#000000\" d=\"M531.5144,-545.4136C551.1754,-535.5012 582.0834,-519.9184 604.5301,-508.6015\"/>\n<polygon fill=\"#000000\" stroke=\"#000000\" points=\"606.2209,-511.6688 613.5746,-504.0416 603.0696,-505.4182 606.2209,-511.6688\"/>\n</g>\n<!-- 139996201609552 -->\n<g id=\"node11\" class=\"node\">\n<title>139996201609552</title>\n<polygon fill=\"#d3d3d3\" stroke=\"#000000\" points=\"568,-630.5 407,-630.5 407,-611.5 568,-611.5 568,-630.5\"/>\n<text text-anchor=\"middle\" x=\"487.5\" y=\"-618.5\" font-family=\"monospace\" font-size=\"10.00\" fill=\"#000000\">NativeBatchNormBackward0</text>\n</g>\n<!-- 139996201609552&#45;&gt;139996201609936 -->\n<g id=\"edge9\" class=\"edge\">\n<title>139996201609552&#45;&gt;139996201609936</title>\n<path fill=\"none\" stroke=\"#000000\" d=\"M491.1888,-611.2615C494.8446,-601.6102 500.5462,-586.558 505.1324,-574.4506\"/>\n<polygon fill=\"#000000\" stroke=\"#000000\" points=\"508.5268,-575.3699 508.796,-564.7785 501.9806,-572.8903 508.5268,-575.3699\"/>\n</g>\n<!-- 139996201607312 -->\n<g id=\"node12\" class=\"node\">\n<title>139996201607312</title>\n<polygon fill=\"#d3d3d3\" stroke=\"#000000\" points=\"419,-691 282,-691 282,-672 419,-672 419,-691\"/>\n<text text-anchor=\"middle\" x=\"350.5\" y=\"-679\" font-family=\"monospace\" font-size=\"10.00\" fill=\"#000000\">ConvolutionBackward0</text>\n</g>\n<!-- 139996201607312&#45;&gt;139996201609552 -->\n<g id=\"edge10\" class=\"edge\">\n<title>139996201607312&#45;&gt;139996201609552</title>\n<path fill=\"none\" stroke=\"#000000\" d=\"M372.2081,-671.9136C394.955,-661.8684 430.8885,-646 456.5921,-634.6491\"/>\n<polygon fill=\"#000000\" stroke=\"#000000\" points=\"458.1597,-637.783 465.8935,-630.5416 455.3319,-631.3796 458.1597,-637.783\"/>\n</g>\n<!-- 139996201608976 -->\n<g id=\"node13\" class=\"node\">\n<title>139996201608976</title>\n<polygon fill=\"#d3d3d3\" stroke=\"#000000\" points=\"278,-751.5 183,-751.5 183,-732.5 278,-732.5 278,-751.5\"/>\n<text text-anchor=\"middle\" x=\"230.5\" y=\"-739.5\" font-family=\"monospace\" font-size=\"10.00\" fill=\"#000000\">ReluBackward0</text>\n</g>\n<!-- 139996201608976&#45;&gt;139996201607312 -->\n<g id=\"edge11\" class=\"edge\">\n<title>139996201608976&#45;&gt;139996201607312</title>\n<path fill=\"none\" stroke=\"#000000\" d=\"M249.5144,-732.4136C269.1754,-722.5012 300.0834,-706.9184 322.5301,-695.6015\"/>\n<polygon fill=\"#000000\" stroke=\"#000000\" points=\"324.2209,-698.6688 331.5746,-691.0416 321.0696,-692.4182 324.2209,-698.6688\"/>\n</g>\n<!-- 139996201230288 -->\n<g id=\"node14\" class=\"node\">\n<title>139996201230288</title>\n<polygon fill=\"#d3d3d3\" stroke=\"#000000\" points=\"286,-817.5 125,-817.5 125,-798.5 286,-798.5 286,-817.5\"/>\n<text text-anchor=\"middle\" x=\"205.5\" y=\"-805.5\" font-family=\"monospace\" font-size=\"10.00\" fill=\"#000000\">NativeBatchNormBackward0</text>\n</g>\n<!-- 139996201230288&#45;&gt;139996201608976 -->\n<g id=\"edge12\" class=\"edge\">\n<title>139996201230288&#45;&gt;139996201608976</title>\n<path fill=\"none\" stroke=\"#000000\" d=\"M209.1888,-798.2615C212.8446,-788.6102 218.5462,-773.558 223.1324,-761.4506\"/>\n<polygon fill=\"#000000\" stroke=\"#000000\" points=\"226.5268,-762.3699 226.796,-751.7785 219.9806,-759.8903 226.5268,-762.3699\"/>\n</g>\n<!-- 139996201823760 -->\n<g id=\"node15\" class=\"node\">\n<title>139996201823760</title>\n<polygon fill=\"#d3d3d3\" stroke=\"#000000\" points=\"137,-878 0,-878 0,-859 137,-859 137,-878\"/>\n<text text-anchor=\"middle\" x=\"68.5\" y=\"-866\" font-family=\"monospace\" font-size=\"10.00\" fill=\"#000000\">ConvolutionBackward0</text>\n</g>\n<!-- 139996201823760&#45;&gt;139996201230288 -->\n<g id=\"edge13\" class=\"edge\">\n<title>139996201823760&#45;&gt;139996201230288</title>\n<path fill=\"none\" stroke=\"#000000\" d=\"M90.2081,-858.9136C112.955,-848.8684 148.8885,-833 174.5921,-821.6491\"/>\n<polygon fill=\"#000000\" stroke=\"#000000\" points=\"176.1597,-824.783 183.8935,-817.5416 173.3319,-818.3796 176.1597,-824.783\"/>\n</g>\n<!-- 139996201822928 -->\n<g id=\"node16\" class=\"node\">\n<title>139996201822928</title>\n<polygon fill=\"#d3d3d3\" stroke=\"#000000\" points=\"119,-938.5 18,-938.5 18,-919.5 119,-919.5 119,-938.5\"/>\n<text text-anchor=\"middle\" x=\"68.5\" y=\"-926.5\" font-family=\"monospace\" font-size=\"10.00\" fill=\"#000000\">AccumulateGrad</text>\n</g>\n<!-- 139996201822928&#45;&gt;139996201823760 -->\n<g id=\"edge14\" class=\"edge\">\n<title>139996201822928&#45;&gt;139996201823760</title>\n<path fill=\"none\" stroke=\"#000000\" d=\"M68.5,-919.2796C68.5,-911.0376 68.5,-898.9457 68.5,-888.629\"/>\n<polygon fill=\"#000000\" stroke=\"#000000\" points=\"72.0001,-888.3972 68.5,-878.3972 65.0001,-888.3973 72.0001,-888.3972\"/>\n</g>\n<!-- 139996219618896 -->\n<g id=\"node17\" class=\"node\">\n<title>139996219618896</title>\n<polygon fill=\"#add8e6\" stroke=\"#000000\" points=\"137,-1010 0,-1010 0,-980 137,-980 137,-1010\"/>\n<text text-anchor=\"middle\" x=\"68.5\" y=\"-998\" font-family=\"monospace\" font-size=\"10.00\" fill=\"#000000\">conv1.0.weight</text>\n<text text-anchor=\"middle\" x=\"68.5\" y=\"-987\" font-family=\"monospace\" font-size=\"10.00\" fill=\"#000000\"> (128, 512, 4, 4, 4)</text>\n</g>\n<!-- 139996219618896&#45;&gt;139996201822928 -->\n<g id=\"edge15\" class=\"edge\">\n<title>139996219618896&#45;&gt;139996201822928</title>\n<path fill=\"none\" stroke=\"#000000\" d=\"M68.5,-979.6924C68.5,-970.5067 68.5,-958.7245 68.5,-948.8312\"/>\n<polygon fill=\"#000000\" stroke=\"#000000\" points=\"72.0001,-948.703 68.5,-938.7031 65.0001,-948.7031 72.0001,-948.703\"/>\n</g>\n<!-- 139996201822608 -->\n<g id=\"node18\" class=\"node\">\n<title>139996201822608</title>\n<polygon fill=\"#d3d3d3\" stroke=\"#000000\" points=\"256,-878 155,-878 155,-859 256,-859 256,-878\"/>\n<text text-anchor=\"middle\" x=\"205.5\" y=\"-866\" font-family=\"monospace\" font-size=\"10.00\" fill=\"#000000\">AccumulateGrad</text>\n</g>\n<!-- 139996201822608&#45;&gt;139996201230288 -->\n<g id=\"edge16\" class=\"edge\">\n<title>139996201822608&#45;&gt;139996201230288</title>\n<path fill=\"none\" stroke=\"#000000\" d=\"M205.5,-858.7796C205.5,-850.5376 205.5,-838.4457 205.5,-828.129\"/>\n<polygon fill=\"#000000\" stroke=\"#000000\" points=\"209.0001,-827.8972 205.5,-817.8972 202.0001,-827.8973 209.0001,-827.8972\"/>\n</g>\n<!-- 139996219620432 -->\n<g id=\"node19\" class=\"node\">\n<title>139996219620432</title>\n<polygon fill=\"#add8e6\" stroke=\"#000000\" points=\"256,-944 155,-944 155,-914 256,-914 256,-944\"/>\n<text text-anchor=\"middle\" x=\"205.5\" y=\"-932\" font-family=\"monospace\" font-size=\"10.00\" fill=\"#000000\">conv1.1.weight</text>\n<text text-anchor=\"middle\" x=\"205.5\" y=\"-921\" font-family=\"monospace\" font-size=\"10.00\" fill=\"#000000\"> (512)</text>\n</g>\n<!-- 139996219620432&#45;&gt;139996201822608 -->\n<g id=\"edge17\" class=\"edge\">\n<title>139996219620432&#45;&gt;139996201822608</title>\n<path fill=\"none\" stroke=\"#000000\" d=\"M205.5,-913.7333C205.5,-906.0322 205.5,-896.5977 205.5,-888.3414\"/>\n<polygon fill=\"#000000\" stroke=\"#000000\" points=\"209.0001,-888.0864 205.5,-878.0864 202.0001,-888.0864 209.0001,-888.0864\"/>\n</g>\n<!-- 139996201823248 -->\n<g id=\"node20\" class=\"node\">\n<title>139996201823248</title>\n<polygon fill=\"#d3d3d3\" stroke=\"#000000\" points=\"375,-878 274,-878 274,-859 375,-859 375,-878\"/>\n<text text-anchor=\"middle\" x=\"324.5\" y=\"-866\" font-family=\"monospace\" font-size=\"10.00\" fill=\"#000000\">AccumulateGrad</text>\n</g>\n<!-- 139996201823248&#45;&gt;139996201230288 -->\n<g id=\"edge18\" class=\"edge\">\n<title>139996201823248&#45;&gt;139996201230288</title>\n<path fill=\"none\" stroke=\"#000000\" d=\"M305.6441,-858.9136C286.1469,-849.0012 255.4965,-833.4184 233.2368,-822.1015\"/>\n<polygon fill=\"#000000\" stroke=\"#000000\" points=\"234.768,-818.9536 224.2677,-817.5416 231.5956,-825.1935 234.768,-818.9536\"/>\n</g>\n<!-- 139996219618800 -->\n<g id=\"node21\" class=\"node\">\n<title>139996219618800</title>\n<polygon fill=\"#add8e6\" stroke=\"#000000\" points=\"369,-944 280,-944 280,-914 369,-914 369,-944\"/>\n<text text-anchor=\"middle\" x=\"324.5\" y=\"-932\" font-family=\"monospace\" font-size=\"10.00\" fill=\"#000000\">conv1.1.bias</text>\n<text text-anchor=\"middle\" x=\"324.5\" y=\"-921\" font-family=\"monospace\" font-size=\"10.00\" fill=\"#000000\"> (512)</text>\n</g>\n<!-- 139996219618800&#45;&gt;139996201823248 -->\n<g id=\"edge19\" class=\"edge\">\n<title>139996219618800&#45;&gt;139996201823248</title>\n<path fill=\"none\" stroke=\"#000000\" d=\"M324.5,-913.7333C324.5,-906.0322 324.5,-896.5977 324.5,-888.3414\"/>\n<polygon fill=\"#000000\" stroke=\"#000000\" points=\"328.0001,-888.0864 324.5,-878.0864 321.0001,-888.0864 328.0001,-888.0864\"/>\n</g>\n<!-- 140000523052560 -->\n<g id=\"node22\" class=\"node\">\n<title>140000523052560</title>\n<polygon fill=\"#d3d3d3\" stroke=\"#000000\" points=\"410,-751.5 309,-751.5 309,-732.5 410,-732.5 410,-751.5\"/>\n<text text-anchor=\"middle\" x=\"359.5\" y=\"-739.5\" font-family=\"monospace\" font-size=\"10.00\" fill=\"#000000\">AccumulateGrad</text>\n</g>\n<!-- 140000523052560&#45;&gt;139996201607312 -->\n<g id=\"edge20\" class=\"edge\">\n<title>140000523052560&#45;&gt;139996201607312</title>\n<path fill=\"none\" stroke=\"#000000\" d=\"M358.054,-732.2796C356.8149,-723.9499 354.9908,-711.688 353.4455,-701.3004\"/>\n<polygon fill=\"#000000\" stroke=\"#000000\" points=\"356.9057,-700.7734 351.9723,-691.3972 349.9819,-701.8034 356.9057,-700.7734\"/>\n</g>\n<!-- 139996201550576 -->\n<g id=\"node23\" class=\"node\">\n<title>139996201550576</title>\n<polygon fill=\"#add8e6\" stroke=\"#000000\" points=\"441,-823 304,-823 304,-793 441,-793 441,-823\"/>\n<text text-anchor=\"middle\" x=\"372.5\" y=\"-811\" font-family=\"monospace\" font-size=\"10.00\" fill=\"#000000\">conv2.0.weight</text>\n<text text-anchor=\"middle\" x=\"372.5\" y=\"-800\" font-family=\"monospace\" font-size=\"10.00\" fill=\"#000000\"> (512, 256, 4, 4, 4)</text>\n</g>\n<!-- 139996201550576&#45;&gt;140000523052560 -->\n<g id=\"edge21\" class=\"edge\">\n<title>139996201550576&#45;&gt;140000523052560</title>\n<path fill=\"none\" stroke=\"#000000\" d=\"M369.4849,-792.6924C367.6756,-783.5067 365.3548,-771.7245 363.4061,-761.8312\"/>\n<polygon fill=\"#000000\" stroke=\"#000000\" points=\"366.7779,-760.8381 361.4112,-751.7031 359.9098,-762.191 366.7779,-760.8381\"/>\n</g>\n<!-- 139996201610960 -->\n<g id=\"node24\" class=\"node\">\n<title>139996201610960</title>\n<polygon fill=\"#d3d3d3\" stroke=\"#000000\" points=\"538,-691 437,-691 437,-672 538,-672 538,-691\"/>\n<text text-anchor=\"middle\" x=\"487.5\" y=\"-679\" font-family=\"monospace\" font-size=\"10.00\" fill=\"#000000\">AccumulateGrad</text>\n</g>\n<!-- 139996201610960&#45;&gt;139996201609552 -->\n<g id=\"edge22\" class=\"edge\">\n<title>139996201610960&#45;&gt;139996201609552</title>\n<path fill=\"none\" stroke=\"#000000\" d=\"M487.5,-671.7796C487.5,-663.5376 487.5,-651.4457 487.5,-641.129\"/>\n<polygon fill=\"#000000\" stroke=\"#000000\" points=\"491.0001,-640.8972 487.5,-630.8972 484.0001,-640.8973 491.0001,-640.8972\"/>\n</g>\n<!-- 139996201552496 -->\n<g id=\"node25\" class=\"node\">\n<title>139996201552496</title>\n<polygon fill=\"#add8e6\" stroke=\"#000000\" points=\"538,-757 437,-757 437,-727 538,-727 538,-757\"/>\n<text text-anchor=\"middle\" x=\"487.5\" y=\"-745\" font-family=\"monospace\" font-size=\"10.00\" fill=\"#000000\">conv2.1.weight</text>\n<text text-anchor=\"middle\" x=\"487.5\" y=\"-734\" font-family=\"monospace\" font-size=\"10.00\" fill=\"#000000\"> (256)</text>\n</g>\n<!-- 139996201552496&#45;&gt;139996201610960 -->\n<g id=\"edge23\" class=\"edge\">\n<title>139996201552496&#45;&gt;139996201610960</title>\n<path fill=\"none\" stroke=\"#000000\" d=\"M487.5,-726.7333C487.5,-719.0322 487.5,-709.5977 487.5,-701.3414\"/>\n<polygon fill=\"#000000\" stroke=\"#000000\" points=\"491.0001,-701.0864 487.5,-691.0864 484.0001,-701.0864 491.0001,-701.0864\"/>\n</g>\n<!-- 139996201608848 -->\n<g id=\"node26\" class=\"node\">\n<title>139996201608848</title>\n<polygon fill=\"#d3d3d3\" stroke=\"#000000\" points=\"657,-691 556,-691 556,-672 657,-672 657,-691\"/>\n<text text-anchor=\"middle\" x=\"606.5\" y=\"-679\" font-family=\"monospace\" font-size=\"10.00\" fill=\"#000000\">AccumulateGrad</text>\n</g>\n<!-- 139996201608848&#45;&gt;139996201609552 -->\n<g id=\"edge24\" class=\"edge\">\n<title>139996201608848&#45;&gt;139996201609552</title>\n<path fill=\"none\" stroke=\"#000000\" d=\"M587.6441,-671.9136C568.1469,-662.0012 537.4965,-646.4184 515.2368,-635.1015\"/>\n<polygon fill=\"#000000\" stroke=\"#000000\" points=\"516.768,-631.9536 506.2677,-630.5416 513.5956,-638.1935 516.768,-631.9536\"/>\n</g>\n<!-- 139996201553840 -->\n<g id=\"node27\" class=\"node\">\n<title>139996201553840</title>\n<polygon fill=\"#add8e6\" stroke=\"#000000\" points=\"651,-757 562,-757 562,-727 651,-727 651,-757\"/>\n<text text-anchor=\"middle\" x=\"606.5\" y=\"-745\" font-family=\"monospace\" font-size=\"10.00\" fill=\"#000000\">conv2.1.bias</text>\n<text text-anchor=\"middle\" x=\"606.5\" y=\"-734\" font-family=\"monospace\" font-size=\"10.00\" fill=\"#000000\"> (256)</text>\n</g>\n<!-- 139996201553840&#45;&gt;139996201608848 -->\n<g id=\"edge25\" class=\"edge\">\n<title>139996201553840&#45;&gt;139996201608848</title>\n<path fill=\"none\" stroke=\"#000000\" d=\"M606.5,-726.7333C606.5,-719.0322 606.5,-709.5977 606.5,-701.3414\"/>\n<polygon fill=\"#000000\" stroke=\"#000000\" points=\"610.0001,-701.0864 606.5,-691.0864 603.0001,-701.0864 610.0001,-701.0864\"/>\n</g>\n<!-- 139996201610000 -->\n<g id=\"node28\" class=\"node\">\n<title>139996201610000</title>\n<polygon fill=\"#d3d3d3\" stroke=\"#000000\" points=\"692,-564.5 591,-564.5 591,-545.5 692,-545.5 692,-564.5\"/>\n<text text-anchor=\"middle\" x=\"641.5\" y=\"-552.5\" font-family=\"monospace\" font-size=\"10.00\" fill=\"#000000\">AccumulateGrad</text>\n</g>\n<!-- 139996201610000&#45;&gt;139996201609232 -->\n<g id=\"edge26\" class=\"edge\">\n<title>139996201610000&#45;&gt;139996201609232</title>\n<path fill=\"none\" stroke=\"#000000\" d=\"M640.054,-545.2796C638.8149,-536.9499 636.9908,-524.688 635.4455,-514.3004\"/>\n<polygon fill=\"#000000\" stroke=\"#000000\" points=\"638.9057,-513.7734 633.9723,-504.3972 631.9819,-514.8034 638.9057,-513.7734\"/>\n</g>\n<!-- 139996201552112 -->\n<g id=\"node29\" class=\"node\">\n<title>139996201552112</title>\n<polygon fill=\"#add8e6\" stroke=\"#000000\" points=\"723,-636 586,-636 586,-606 723,-606 723,-636\"/>\n<text text-anchor=\"middle\" x=\"654.5\" y=\"-624\" font-family=\"monospace\" font-size=\"10.00\" fill=\"#000000\">conv3.0.weight</text>\n<text text-anchor=\"middle\" x=\"654.5\" y=\"-613\" font-family=\"monospace\" font-size=\"10.00\" fill=\"#000000\"> (256, 128, 4, 4, 4)</text>\n</g>\n<!-- 139996201552112&#45;&gt;139996201610000 -->\n<g id=\"edge27\" class=\"edge\">\n<title>139996201552112&#45;&gt;139996201610000</title>\n<path fill=\"none\" stroke=\"#000000\" d=\"M651.4849,-605.6924C649.6756,-596.5067 647.3548,-584.7245 645.4061,-574.8312\"/>\n<polygon fill=\"#000000\" stroke=\"#000000\" points=\"648.7779,-573.8381 643.4112,-564.7031 641.9098,-575.191 648.7779,-573.8381\"/>\n</g>\n<!-- 139996201609040 -->\n<g id=\"node30\" class=\"node\">\n<title>139996201609040</title>\n<polygon fill=\"#d3d3d3\" stroke=\"#000000\" points=\"820,-504 719,-504 719,-485 820,-485 820,-504\"/>\n<text text-anchor=\"middle\" x=\"769.5\" y=\"-492\" font-family=\"monospace\" font-size=\"10.00\" fill=\"#000000\">AccumulateGrad</text>\n</g>\n<!-- 139996201609040&#45;&gt;139996201608528 -->\n<g id=\"edge28\" class=\"edge\">\n<title>139996201609040&#45;&gt;139996201608528</title>\n<path fill=\"none\" stroke=\"#000000\" d=\"M769.5,-484.7796C769.5,-476.5376 769.5,-464.4457 769.5,-454.129\"/>\n<polygon fill=\"#000000\" stroke=\"#000000\" points=\"773.0001,-453.8972 769.5,-443.8972 766.0001,-453.8973 773.0001,-453.8972\"/>\n</g>\n<!-- 139996201550000 -->\n<g id=\"node31\" class=\"node\">\n<title>139996201550000</title>\n<polygon fill=\"#add8e6\" stroke=\"#000000\" points=\"820,-570 719,-570 719,-540 820,-540 820,-570\"/>\n<text text-anchor=\"middle\" x=\"769.5\" y=\"-558\" font-family=\"monospace\" font-size=\"10.00\" fill=\"#000000\">conv3.1.weight</text>\n<text text-anchor=\"middle\" x=\"769.5\" y=\"-547\" font-family=\"monospace\" font-size=\"10.00\" fill=\"#000000\"> (128)</text>\n</g>\n<!-- 139996201550000&#45;&gt;139996201609040 -->\n<g id=\"edge29\" class=\"edge\">\n<title>139996201550000&#45;&gt;139996201609040</title>\n<path fill=\"none\" stroke=\"#000000\" d=\"M769.5,-539.7333C769.5,-532.0322 769.5,-522.5977 769.5,-514.3414\"/>\n<polygon fill=\"#000000\" stroke=\"#000000\" points=\"773.0001,-514.0864 769.5,-504.0864 766.0001,-514.0864 773.0001,-514.0864\"/>\n</g>\n<!-- 139996201610576 -->\n<g id=\"node32\" class=\"node\">\n<title>139996201610576</title>\n<polygon fill=\"#d3d3d3\" stroke=\"#000000\" points=\"939,-504 838,-504 838,-485 939,-485 939,-504\"/>\n<text text-anchor=\"middle\" x=\"888.5\" y=\"-492\" font-family=\"monospace\" font-size=\"10.00\" fill=\"#000000\">AccumulateGrad</text>\n</g>\n<!-- 139996201610576&#45;&gt;139996201608528 -->\n<g id=\"edge30\" class=\"edge\">\n<title>139996201610576&#45;&gt;139996201608528</title>\n<path fill=\"none\" stroke=\"#000000\" d=\"M869.6441,-484.9136C850.1469,-475.0012 819.4965,-459.4184 797.2368,-448.1015\"/>\n<polygon fill=\"#000000\" stroke=\"#000000\" points=\"798.768,-444.9536 788.2677,-443.5416 795.5956,-451.1935 798.768,-444.9536\"/>\n</g>\n<!-- 139996201553744 -->\n<g id=\"node33\" class=\"node\">\n<title>139996201553744</title>\n<polygon fill=\"#add8e6\" stroke=\"#000000\" points=\"933,-570 844,-570 844,-540 933,-540 933,-570\"/>\n<text text-anchor=\"middle\" x=\"888.5\" y=\"-558\" font-family=\"monospace\" font-size=\"10.00\" fill=\"#000000\">conv3.1.bias</text>\n<text text-anchor=\"middle\" x=\"888.5\" y=\"-547\" font-family=\"monospace\" font-size=\"10.00\" fill=\"#000000\"> (128)</text>\n</g>\n<!-- 139996201553744&#45;&gt;139996201610576 -->\n<g id=\"edge31\" class=\"edge\">\n<title>139996201553744&#45;&gt;139996201610576</title>\n<path fill=\"none\" stroke=\"#000000\" d=\"M888.5,-539.7333C888.5,-532.0322 888.5,-522.5977 888.5,-514.3414\"/>\n<polygon fill=\"#000000\" stroke=\"#000000\" points=\"892.0001,-514.0864 888.5,-504.0864 885.0001,-514.0864 892.0001,-514.0864\"/>\n</g>\n<!-- 139996201610640 -->\n<g id=\"node34\" class=\"node\">\n<title>139996201610640</title>\n<polygon fill=\"#d3d3d3\" stroke=\"#000000\" points=\"972,-377.5 871,-377.5 871,-358.5 972,-358.5 972,-377.5\"/>\n<text text-anchor=\"middle\" x=\"921.5\" y=\"-365.5\" font-family=\"monospace\" font-size=\"10.00\" fill=\"#000000\">AccumulateGrad</text>\n</g>\n<!-- 139996201610640&#45;&gt;139996201636624 -->\n<g id=\"edge32\" class=\"edge\">\n<title>139996201610640&#45;&gt;139996201636624</title>\n<path fill=\"none\" stroke=\"#000000\" d=\"M920.054,-358.2796C918.8149,-349.9499 916.9908,-337.688 915.4455,-327.3004\"/>\n<polygon fill=\"#000000\" stroke=\"#000000\" points=\"918.9057,-326.7734 913.9723,-317.3972 911.9819,-327.8034 918.9057,-326.7734\"/>\n</g>\n<!-- 139996201553456 -->\n<g id=\"node35\" class=\"node\">\n<title>139996201553456</title>\n<polygon fill=\"#add8e6\" stroke=\"#000000\" points=\"999,-449 868,-449 868,-419 999,-419 999,-449\"/>\n<text text-anchor=\"middle\" x=\"933.5\" y=\"-437\" font-family=\"monospace\" font-size=\"10.00\" fill=\"#000000\">conv4.0.weight</text>\n<text text-anchor=\"middle\" x=\"933.5\" y=\"-426\" font-family=\"monospace\" font-size=\"10.00\" fill=\"#000000\"> (128, 64, 4, 4, 4)</text>\n</g>\n<!-- 139996201553456&#45;&gt;139996201610640 -->\n<g id=\"edge33\" class=\"edge\">\n<title>139996201553456&#45;&gt;139996201610640</title>\n<path fill=\"none\" stroke=\"#000000\" d=\"M930.7168,-418.6924C929.0467,-409.5067 926.9044,-397.7245 925.1057,-387.8312\"/>\n<polygon fill=\"#000000\" stroke=\"#000000\" points=\"928.4967,-386.9156 923.2642,-377.7031 921.6096,-388.1679 928.4967,-386.9156\"/>\n</g>\n<!-- 139996201638288 -->\n<g id=\"node36\" class=\"node\">\n<title>139996201638288</title>\n<polygon fill=\"#d3d3d3\" stroke=\"#000000\" points=\"1100,-317 999,-317 999,-298 1100,-298 1100,-317\"/>\n<text text-anchor=\"middle\" x=\"1049.5\" y=\"-305\" font-family=\"monospace\" font-size=\"10.00\" fill=\"#000000\">AccumulateGrad</text>\n</g>\n<!-- 139996201638288&#45;&gt;139996201639696 -->\n<g id=\"edge34\" class=\"edge\">\n<title>139996201638288&#45;&gt;139996201639696</title>\n<path fill=\"none\" stroke=\"#000000\" d=\"M1049.5,-297.7796C1049.5,-289.5376 1049.5,-277.4457 1049.5,-267.129\"/>\n<polygon fill=\"#000000\" stroke=\"#000000\" points=\"1053.0001,-266.8972 1049.5,-256.8972 1046.0001,-266.8973 1053.0001,-266.8972\"/>\n</g>\n<!-- 139996201553552 -->\n<g id=\"node37\" class=\"node\">\n<title>139996201553552</title>\n<polygon fill=\"#add8e6\" stroke=\"#000000\" points=\"1100,-383 999,-383 999,-353 1100,-353 1100,-383\"/>\n<text text-anchor=\"middle\" x=\"1049.5\" y=\"-371\" font-family=\"monospace\" font-size=\"10.00\" fill=\"#000000\">conv4.1.weight</text>\n<text text-anchor=\"middle\" x=\"1049.5\" y=\"-360\" font-family=\"monospace\" font-size=\"10.00\" fill=\"#000000\"> (64)</text>\n</g>\n<!-- 139996201553552&#45;&gt;139996201638288 -->\n<g id=\"edge35\" class=\"edge\">\n<title>139996201553552&#45;&gt;139996201638288</title>\n<path fill=\"none\" stroke=\"#000000\" d=\"M1049.5,-352.7333C1049.5,-345.0322 1049.5,-335.5977 1049.5,-327.3414\"/>\n<polygon fill=\"#000000\" stroke=\"#000000\" points=\"1053.0001,-327.0864 1049.5,-317.0864 1046.0001,-327.0864 1053.0001,-327.0864\"/>\n</g>\n<!-- 139996201607824 -->\n<g id=\"node38\" class=\"node\">\n<title>139996201607824</title>\n<polygon fill=\"#d3d3d3\" stroke=\"#000000\" points=\"1219,-317 1118,-317 1118,-298 1219,-298 1219,-317\"/>\n<text text-anchor=\"middle\" x=\"1168.5\" y=\"-305\" font-family=\"monospace\" font-size=\"10.00\" fill=\"#000000\">AccumulateGrad</text>\n</g>\n<!-- 139996201607824&#45;&gt;139996201639696 -->\n<g id=\"edge36\" class=\"edge\">\n<title>139996201607824&#45;&gt;139996201639696</title>\n<path fill=\"none\" stroke=\"#000000\" d=\"M1149.6441,-297.9136C1130.1469,-288.0012 1099.4965,-272.4184 1077.2368,-261.1015\"/>\n<polygon fill=\"#000000\" stroke=\"#000000\" points=\"1078.768,-257.9536 1068.2677,-256.5416 1075.5956,-264.1935 1078.768,-257.9536\"/>\n</g>\n<!-- 139996201551920 -->\n<g id=\"node39\" class=\"node\">\n<title>139996201551920</title>\n<polygon fill=\"#add8e6\" stroke=\"#000000\" points=\"1213,-383 1124,-383 1124,-353 1213,-353 1213,-383\"/>\n<text text-anchor=\"middle\" x=\"1168.5\" y=\"-371\" font-family=\"monospace\" font-size=\"10.00\" fill=\"#000000\">conv4.1.bias</text>\n<text text-anchor=\"middle\" x=\"1168.5\" y=\"-360\" font-family=\"monospace\" font-size=\"10.00\" fill=\"#000000\"> (64)</text>\n</g>\n<!-- 139996201551920&#45;&gt;139996201607824 -->\n<g id=\"edge37\" class=\"edge\">\n<title>139996201551920&#45;&gt;139996201607824</title>\n<path fill=\"none\" stroke=\"#000000\" d=\"M1168.5,-352.7333C1168.5,-345.0322 1168.5,-335.5977 1168.5,-327.3414\"/>\n<polygon fill=\"#000000\" stroke=\"#000000\" points=\"1172.0001,-327.0864 1168.5,-317.0864 1165.0001,-327.0864 1172.0001,-327.0864\"/>\n</g>\n<!-- 139996201636048 -->\n<g id=\"node40\" class=\"node\">\n<title>139996201636048</title>\n<polygon fill=\"#d3d3d3\" stroke=\"#000000\" points=\"1247,-196 1146,-196 1146,-177 1247,-177 1247,-196\"/>\n<text text-anchor=\"middle\" x=\"1196.5\" y=\"-184\" font-family=\"monospace\" font-size=\"10.00\" fill=\"#000000\">AccumulateGrad</text>\n</g>\n<!-- 139996201636048&#45;&gt;139996201636880 -->\n<g id=\"edge38\" class=\"edge\">\n<title>139996201636048&#45;&gt;139996201636880</title>\n<path fill=\"none\" stroke=\"#000000\" d=\"M1184.4811,-176.9197C1174.4144,-168.8956 1159.8247,-157.2661 1147.9287,-147.7837\"/>\n<polygon fill=\"#000000\" stroke=\"#000000\" points=\"1149.8471,-144.8371 1139.8458,-141.3408 1145.4839,-150.3109 1149.8471,-144.8371\"/>\n</g>\n<!-- 139996202114800 -->\n<g id=\"node41\" class=\"node\">\n<title>139996202114800</title>\n<polygon fill=\"#add8e6\" stroke=\"#000000\" points=\"1267,-262 1148,-262 1148,-232 1267,-232 1267,-262\"/>\n<text text-anchor=\"middle\" x=\"1207.5\" y=\"-250\" font-family=\"monospace\" font-size=\"10.00\" fill=\"#000000\">conv5.weight</text>\n<text text-anchor=\"middle\" x=\"1207.5\" y=\"-239\" font-family=\"monospace\" font-size=\"10.00\" fill=\"#000000\"> (64, 1, 4, 4, 4)</text>\n</g>\n<!-- 139996202114800&#45;&gt;139996201636048 -->\n<g id=\"edge39\" class=\"edge\">\n<title>139996202114800&#45;&gt;139996201636048</title>\n<path fill=\"none\" stroke=\"#000000\" d=\"M1204.7242,-231.7333C1203.3081,-223.9447 1201.5696,-214.3831 1200.0564,-206.0604\"/>\n<polygon fill=\"#000000\" stroke=\"#000000\" points=\"1203.4755,-205.299 1198.243,-196.0864 1196.5884,-206.5512 1203.4755,-205.299\"/>\n</g>\n</g>\n</svg>\n"
          },
          "metadata": {},
          "execution_count": 20
        }
      ]
    },
    {
      "cell_type": "code",
      "source": [
        "generator = to_device(generator, device)"
      ],
      "metadata": {
        "id": "bSjLGnEiwYmx"
      },
      "execution_count": 21,
      "outputs": []
    },
    {
      "cell_type": "markdown",
      "source": [
        "## Train"
      ],
      "metadata": {
        "id": "U-McgFclwhC1"
      }
    },
    {
      "cell_type": "code",
      "source": [
        "def train_discriminator(real_objects, opt_d):\n",
        "    opt_d.zero_grad()\n",
        "\n",
        "    real_preds = discriminator(normalize(real_objects))\n",
        "    real_targets = torch.ones(real_objects.size(0), 1, device=device)\n",
        "    real_loss = F.binary_cross_entropy(real_preds, real_targets)\n",
        "    real_score = torch.mean(real_preds).item()\n",
        "    \n",
        "    latent = torch.randn(batch_size, latent_size, 1, 1, 1, device=device)\n",
        "    fake_objects = generator(latent)\n",
        "\n",
        "    fake_targets = torch.zeros(fake_objects.size(0), 1, device=device)\n",
        "    fake_preds = discriminator(fake_objects)\n",
        "    fake_loss = F.binary_cross_entropy(fake_preds, fake_targets)\n",
        "    fake_score = torch.mean(fake_preds).item()\n",
        "\n",
        "    loss = real_loss + fake_loss\n",
        "    loss.backward()\n",
        "    opt_d.step()\n",
        "    return loss.item(), real_score, fake_score"
      ],
      "metadata": {
        "id": "L0HeyGDrwjrU"
      },
      "execution_count": 22,
      "outputs": []
    },
    {
      "cell_type": "code",
      "source": [
        "def train_generator(opt_g):\n",
        "    # Clear generator gradients\n",
        "    opt_g.zero_grad()\n",
        "    \n",
        "    # Generate fake images\n",
        "    latent = torch.randn(batch_size, latent_size, 1, 1, device=device).unsqueeze(dim=2)\n",
        "    fake_objects = generator(latent)\n",
        "    \n",
        "    # Try to fool the discriminator\n",
        "    preds = discriminator(fake_objects)\n",
        "    targets = torch.ones(batch_size, 1, device=device)\n",
        "    loss = F.binary_cross_entropy(preds, targets)\n",
        "    \n",
        "    # Update generator weights\n",
        "    loss.backward()\n",
        "    opt_g.step()\n",
        "    \n",
        "    return loss.item()"
      ],
      "metadata": {
        "id": "4jOilHnCygnY"
      },
      "execution_count": 23,
      "outputs": []
    },
    {
      "cell_type": "code",
      "source": [
        "@torch.no_grad()\n",
        "def save_sample(index, latent_tensors):\n",
        "    fake_object = denormalize(generator(latent_tensors)[0])\n",
        "    fake_object = fake_object.cpu().numpy()\n",
        "    fake_object = fake_object >= 0.5\n",
        "    save_binvox(fake_object, index)\n",
        "    "
      ],
      "metadata": {
        "id": "zXSp_M9szvR3"
      },
      "execution_count": 24,
      "outputs": []
    },
    {
      "cell_type": "code",
      "source": [
        "fixed_latent = torch.randn(1, latent_size, 1, 1, 1, device=device)"
      ],
      "metadata": {
        "id": "WJIgkhrazq9f"
      },
      "execution_count": 25,
      "outputs": []
    },
    {
      "cell_type": "code",
      "source": [
        "save_sample(0, fixed_latent)"
      ],
      "metadata": {
        "id": "y3euuxQVb-Fl"
      },
      "execution_count": 26,
      "outputs": []
    },
    {
      "cell_type": "code",
      "source": [
        "def fit(epochs, lr, start_idx=1):\n",
        "    torch.cuda.empty_cache()\n",
        "    \n",
        "    # Losses & scores\n",
        "    losses_g = []\n",
        "    losses_d = []\n",
        "    real_scores = []\n",
        "    fake_scores = []\n",
        "    \n",
        "    # Create optimizers\n",
        "    opt_d = torch.optim.Adam(discriminator.parameters(), lr=lr, betas=(0.5, 0.999))\n",
        "    opt_g = torch.optim.Adam(generator.parameters(), lr=lr, betas=(0.5, 0.999))\n",
        "    \n",
        "    for epoch in range(epochs):\n",
        "        for real_objects in nb_tqdm(train_dl):\n",
        "            # Train discriminator\n",
        "            loss_d, real_score, fake_score = train_discriminator(real_objects, opt_d)\n",
        "            # Train generator\n",
        "            loss_g = train_generator(opt_g)\n",
        "            \n",
        "        # Record losses & scores\n",
        "        losses_g.append(loss_g)\n",
        "        losses_d.append(loss_d)\n",
        "        real_scores.append(real_score)\n",
        "        fake_scores.append(fake_score)\n",
        "        \n",
        "        # Log losses & scores (last batch)\n",
        "        print(\"Epoch [{}/{}], loss_g: {:.4f}, loss_d: {:.4f}, real_score: {:.4f}, fake_score: {:.4f}\".format(\n",
        "            epoch+1, epochs, loss_g, loss_d, real_score, fake_score))\n",
        "    \n",
        "        # Save generated images\n",
        "        save_sample(epoch+start_idx, fixed_latent)\n",
        "    \n",
        "    return losses_g, losses_d, real_scores, fake_scores"
      ],
      "metadata": {
        "id": "1etnRFvezd9D"
      },
      "execution_count": 27,
      "outputs": []
    },
    {
      "cell_type": "code",
      "source": [
        "lr = 0.0002\n",
        "epochs = 25"
      ],
      "metadata": {
        "id": "wSzn8VRb5GUi"
      },
      "execution_count": 28,
      "outputs": []
    },
    {
      "cell_type": "code",
      "source": [
        "history = fit(epochs, lr)"
      ],
      "metadata": {
        "colab": {
          "base_uri": "https://localhost:8080/",
          "height": 1000,
          "referenced_widgets": [
            "71784e746af341b0bd4de567b449a8d3",
            "b610c5fb1e9e4be3957fbf89ce0009fa",
            "464b45f1a9874fc78d5c094056a91892",
            "56cab48a285d4c479844517d62636253",
            "399910817d2d4dc682ad7ee3403d3e22",
            "f61feb0269684beabdc0e27d29151612",
            "06384e040d2b488188dc07514e7b4515",
            "54dbf2cff05d42e488630ccc6a3fcb9d",
            "6f8c2d8513604d4a964a208c22bc7124",
            "9f1a1f2895f7430593e321e533bc5c87",
            "f7bf1180e2d84515851e8442c5776d3f",
            "5c058d73f2f448349d8e67a75953ea39",
            "acc37cb64cf3457993d399db0e299bf3",
            "85a3bc407ae34966b0ad8729952246e9",
            "5556adf58bd4436da2502b0394a334dc",
            "62fd145de2184ea9858c2061cf912cd7",
            "d956819b79af48009b66d67c54a67307",
            "e2e64f0e916a4ed4972213ea70ca86a8",
            "0bfce525dc8d4f97a60b5bb9b4360fc1",
            "4ac677fe1afd4d468b2d82ea0c8eebe8",
            "fbccf1c3d8f947efbd6e025ecef63351",
            "b7a5d041382c41eabf520827e645769e"
          ]
        },
        "id": "Y-m3-V2h5IMa",
        "outputId": "e1e0ce4e-45cb-4367-b50b-33f20b945093"
      },
      "execution_count": 29,
      "outputs": [
        {
          "output_type": "display_data",
          "data": {
            "text/plain": [
              "  0%|          | 0/15 [00:00<?, ?it/s]"
            ],
            "application/vnd.jupyter.widget-view+json": {
              "version_major": 2,
              "version_minor": 0,
              "model_id": "71784e746af341b0bd4de567b449a8d3"
            }
          },
          "metadata": {}
        },
        {
          "output_type": "stream",
          "name": "stderr",
          "text": [
            "/usr/local/lib/python3.7/dist-packages/torch/utils/data/dataloader.py:490: UserWarning: This DataLoader will create 4 worker processes in total. Our suggested max number of worker in current system is 2, which is smaller than what this DataLoader is going to create. Please be aware that excessive worker creation might get DataLoader running slow or even freeze, lower the worker number to avoid potential slowness/freeze if necessary.\n",
            "  cpuset_checked))\n"
          ]
        },
        {
          "output_type": "stream",
          "name": "stdout",
          "text": [
            "Epoch [1/25], loss_g: 9.4211, loss_d: 1.1699, real_score: 0.9861, fake_score: 0.6527\n"
          ]
        },
        {
          "output_type": "display_data",
          "data": {
            "text/plain": [
              "  0%|          | 0/15 [00:00<?, ?it/s]"
            ],
            "application/vnd.jupyter.widget-view+json": {
              "version_major": 2,
              "version_minor": 0,
              "model_id": "5c058d73f2f448349d8e67a75953ea39"
            }
          },
          "metadata": {}
        },
        {
          "output_type": "stream",
          "name": "stderr",
          "text": [
            "Traceback (most recent call last):\n",
            "Traceback (most recent call last):\n",
            "  File \"/usr/lib/python3.7/multiprocessing/queues.py\", line 242, in _feed\n",
            "    send_bytes(obj)\n",
            "  File \"/usr/lib/python3.7/multiprocessing/connection.py\", line 200, in send_bytes\n",
            "    self._send_bytes(m[offset:offset + size])\n",
            "  File \"/usr/lib/python3.7/multiprocessing/connection.py\", line 404, in _send_bytes\n",
            "    self._send(header + buf)\n",
            "  File \"/usr/lib/python3.7/multiprocessing/connection.py\", line 368, in _send\n",
            "    n = write(self._handle, buf)\n",
            "BrokenPipeError: [Errno 32] Broken pipe\n",
            "  File \"/usr/lib/python3.7/multiprocessing/queues.py\", line 242, in _feed\n",
            "    send_bytes(obj)\n",
            "  File \"/usr/lib/python3.7/multiprocessing/connection.py\", line 200, in send_bytes\n",
            "    self._send_bytes(m[offset:offset + size])\n",
            "  File \"/usr/lib/python3.7/multiprocessing/connection.py\", line 404, in _send_bytes\n",
            "    self._send(header + buf)\n",
            "  File \"/usr/lib/python3.7/multiprocessing/connection.py\", line 368, in _send\n",
            "    n = write(self._handle, buf)\n",
            "BrokenPipeError: [Errno 32] Broken pipe\n",
            "Traceback (most recent call last):\n",
            "  File \"/usr/lib/python3.7/multiprocessing/queues.py\", line 242, in _feed\n",
            "    send_bytes(obj)\n",
            "  File \"/usr/lib/python3.7/multiprocessing/connection.py\", line 200, in send_bytes\n",
            "    self._send_bytes(m[offset:offset + size])\n",
            "  File \"/usr/lib/python3.7/multiprocessing/connection.py\", line 404, in _send_bytes\n",
            "    self._send(header + buf)\n",
            "  File \"/usr/lib/python3.7/multiprocessing/connection.py\", line 368, in _send\n",
            "    n = write(self._handle, buf)\n",
            "BrokenPipeError: [Errno 32] Broken pipe\n",
            "Traceback (most recent call last):\n",
            "  File \"/usr/lib/python3.7/multiprocessing/queues.py\", line 242, in _feed\n",
            "    send_bytes(obj)\n",
            "  File \"/usr/lib/python3.7/multiprocessing/connection.py\", line 200, in send_bytes\n",
            "    self._send_bytes(m[offset:offset + size])\n",
            "  File \"/usr/lib/python3.7/multiprocessing/connection.py\", line 404, in _send_bytes\n",
            "    self._send(header + buf)\n",
            "  File \"/usr/lib/python3.7/multiprocessing/connection.py\", line 368, in _send\n",
            "    n = write(self._handle, buf)\n",
            "BrokenPipeError: [Errno 32] Broken pipe\n"
          ]
        },
        {
          "output_type": "error",
          "ename": "KeyboardInterrupt",
          "evalue": "ignored",
          "traceback": [
            "\u001b[0;31m---------------------------------------------------------------------------\u001b[0m",
            "\u001b[0;31mKeyboardInterrupt\u001b[0m                         Traceback (most recent call last)",
            "\u001b[0;32m<ipython-input-29-c92b1faa7f04>\u001b[0m in \u001b[0;36m<module>\u001b[0;34m()\u001b[0m\n\u001b[0;32m----> 1\u001b[0;31m \u001b[0mhistory\u001b[0m \u001b[0;34m=\u001b[0m \u001b[0mfit\u001b[0m\u001b[0;34m(\u001b[0m\u001b[0mepochs\u001b[0m\u001b[0;34m,\u001b[0m \u001b[0mlr\u001b[0m\u001b[0;34m)\u001b[0m\u001b[0;34m\u001b[0m\u001b[0;34m\u001b[0m\u001b[0m\n\u001b[0m",
            "\u001b[0;32m<ipython-input-27-31c2fbeef83c>\u001b[0m in \u001b[0;36mfit\u001b[0;34m(epochs, lr, start_idx)\u001b[0m\n\u001b[1;32m     17\u001b[0m             \u001b[0mloss_d\u001b[0m\u001b[0;34m,\u001b[0m \u001b[0mreal_score\u001b[0m\u001b[0;34m,\u001b[0m \u001b[0mfake_score\u001b[0m \u001b[0;34m=\u001b[0m \u001b[0mtrain_discriminator\u001b[0m\u001b[0;34m(\u001b[0m\u001b[0mreal_objects\u001b[0m\u001b[0;34m,\u001b[0m \u001b[0mopt_d\u001b[0m\u001b[0;34m)\u001b[0m\u001b[0;34m\u001b[0m\u001b[0;34m\u001b[0m\u001b[0m\n\u001b[1;32m     18\u001b[0m             \u001b[0;31m# Train generator\u001b[0m\u001b[0;34m\u001b[0m\u001b[0;34m\u001b[0m\u001b[0;34m\u001b[0m\u001b[0m\n\u001b[0;32m---> 19\u001b[0;31m             \u001b[0mloss_g\u001b[0m \u001b[0;34m=\u001b[0m \u001b[0mtrain_generator\u001b[0m\u001b[0;34m(\u001b[0m\u001b[0mopt_g\u001b[0m\u001b[0;34m)\u001b[0m\u001b[0;34m\u001b[0m\u001b[0;34m\u001b[0m\u001b[0m\n\u001b[0m\u001b[1;32m     20\u001b[0m \u001b[0;34m\u001b[0m\u001b[0m\n\u001b[1;32m     21\u001b[0m         \u001b[0;31m# Record losses & scores\u001b[0m\u001b[0;34m\u001b[0m\u001b[0;34m\u001b[0m\u001b[0;34m\u001b[0m\u001b[0m\n",
            "\u001b[0;32m<ipython-input-23-ec86dc885ef9>\u001b[0m in \u001b[0;36mtrain_generator\u001b[0;34m(opt_g)\u001b[0m\n\u001b[1;32m     16\u001b[0m     \u001b[0mopt_g\u001b[0m\u001b[0;34m.\u001b[0m\u001b[0mstep\u001b[0m\u001b[0;34m(\u001b[0m\u001b[0;34m)\u001b[0m\u001b[0;34m\u001b[0m\u001b[0;34m\u001b[0m\u001b[0m\n\u001b[1;32m     17\u001b[0m \u001b[0;34m\u001b[0m\u001b[0m\n\u001b[0;32m---> 18\u001b[0;31m     \u001b[0;32mreturn\u001b[0m \u001b[0mloss\u001b[0m\u001b[0;34m.\u001b[0m\u001b[0mitem\u001b[0m\u001b[0;34m(\u001b[0m\u001b[0;34m)\u001b[0m\u001b[0;34m\u001b[0m\u001b[0;34m\u001b[0m\u001b[0m\n\u001b[0m",
            "\u001b[0;31mKeyboardInterrupt\u001b[0m: "
          ]
        }
      ]
    },
    {
      "cell_type": "markdown",
      "source": [
        "## Display stats"
      ],
      "metadata": {
        "id": "6f-bq9hUNwZ_"
      }
    },
    {
      "cell_type": "markdown",
      "source": [
        "You can use [voxelizer](https://drububu.com/miscellaneous/voxelizer/?out=objs) to view `.binvox` and convert it to more popular 3d object formats"
      ],
      "metadata": {
        "id": "CNrEvTVYdHP3"
      }
    },
    {
      "cell_type": "code",
      "source": [
        "import matplotlib.pyplot as plt\n",
        "%matplotlib inline"
      ],
      "metadata": {
        "id": "LWfsNcXfN0xW"
      },
      "execution_count": null,
      "outputs": []
    },
    {
      "cell_type": "code",
      "source": [
        "losses_g, losses_d, real_scores, fake_scores = history"
      ],
      "metadata": {
        "id": "oavTgfRnN3nm"
      },
      "execution_count": null,
      "outputs": []
    },
    {
      "cell_type": "code",
      "source": [
        "plt.plot(losses_d, '-')\n",
        "plt.plot(losses_g, '-')\n",
        "plt.xlabel('epoch')\n",
        "plt.ylabel('loss')\n",
        "plt.legend(['Discriminator', 'Generator'])\n",
        "plt.title('Losses')\n",
        "plt.show()"
      ],
      "metadata": {
        "id": "VK8-W0QcORd0"
      },
      "execution_count": null,
      "outputs": []
    },
    {
      "cell_type": "code",
      "source": [
        "plt.plot(real_scores, '-')\n",
        "plt.plot(fake_scores, '-')\n",
        "plt.xlabel('epoch')\n",
        "plt.ylabel('score')\n",
        "plt.legend(['Real', 'Fake'])\n",
        "plt.title('Scores')\n",
        "plt.show()"
      ],
      "metadata": {
        "id": "4E66lisyOYc0"
      },
      "execution_count": null,
      "outputs": []
    },
    {
      "cell_type": "code",
      "source": [
        ""
      ],
      "metadata": {
        "id": "3w7YwefaO2G6"
      },
      "execution_count": null,
      "outputs": []
    }
  ],
  "metadata": {
    "colab": {
      "name": "Untitled1.ipynb",
      "provenance": [],
      "collapsed_sections": [
        "KRGitdO-HIk2",
        "n8JkxJN3KOPY",
        "6f-bq9hUNwZ_"
      ]
    },
    "kernelspec": {
      "display_name": "Python 3",
      "name": "python3"
    },
    "language_info": {
      "name": "python"
    },
    "widgets": {
      "application/vnd.jupyter.widget-state+json": {
        "426dd8b86f724ed4b293057d1e0e240a": {
          "model_module": "@jupyter-widgets/controls",
          "model_name": "DropdownModel",
          "model_module_version": "1.5.0",
          "state": {
            "_dom_classes": [],
            "_model_module": "@jupyter-widgets/controls",
            "_model_module_version": "1.5.0",
            "_model_name": "DropdownModel",
            "_options_labels": [
              "airplane,aeroplane,plane(11,4045)",
              "ashcan,trash can,garbage can,wastebin,ash bin,ash-bin,ashbin,dustbin,trash barrel,trash bin(0,343)",
              "bag,traveling bag,travelling bag,grip,suitcase(1,83)",
              "basket,handbasket(2,113)",
              "bathtub,bathing tub,bath,tub(0,856)",
              "bed(13,233)",
              "bench(5,1813)",
              "bicycle,bike,wheel,cycle(0,59)",
              "birdhouse(0,73)",
              "bookshelf(0,452)",
              "bottle(6,498)",
              "bowl(1,186)",
              "bus,autobus,coach,charabanc,double-decker,jitney,motorbus,motorcoach,omnibus,passenger vehi(2,939)",
              "cabinet(9,1571)",
              "camera,photographic camera(4,113)",
              "can,tin,tin can(2,108)",
              "cap(4,56)",
              "car,auto,automobile,machine,motorcar(18,3533)",
              "chair(23,6778)",
              "clock(3,651)",
              "computer keyboard,keypad(0,65)",
              "dishwasher,dish washer,dishwashing machine(0,93)",
              "display,video display(5,1093)",
              "earphone,earpiece,headphone,phone(0,73)",
              "faucet,spigot(2,744)",
              "file,file cabinet,filing cabinet(1,298)",
              "guitar(1,797)",
              "helmet(3,162)",
              "jar(1,596)",
              "knife(2,424)",
              "lamp(2,2318)",
              "laptop,laptop computer(0,460)",
              "loudspeaker,speaker,speaker unit,loudspeaker system,speaker system(3,1597)",
              "mailbox,letter box(0,94)",
              "microphone,mike(0,67)",
              "microwave,microwave oven(0,152)",
              "motorcycle,bike(2,337)",
              "mug(2,214)",
              "piano,pianoforte,forte-piano(2,239)",
              "pillow(0,96)",
              "pistol,handgun,side arm,shooting iron(1,307)",
              "pot,flowerpot(1,602)",
              "printer,printing machine(1,166)",
              "remote control,remote(0,66)",
              "rifle(2,2373)",
              "rocket,projectile(1,85)",
              "skateboard(0,152)",
              "sofa,couch,lounge(7,3173)",
              "stove(0,218)",
              "table(26,8436)",
              "telephone,phone,telephone set(3,1089)",
              "tower(12,133)",
              "train,railroad train(4,389)",
              "vessel,watercraft(7,1939)",
              "washer,automatic washer,washing machine(0,169)",
              "wine bottle(0,140)"
            ],
            "_view_count": null,
            "_view_module": "@jupyter-widgets/controls",
            "_view_module_version": "1.5.0",
            "_view_name": "DropdownView",
            "description": "",
            "description_tooltip": null,
            "disabled": false,
            "index": 18,
            "layout": "IPY_MODEL_2ef2a60d08f143799f144e21baf9b141",
            "style": "IPY_MODEL_f1da80d90eb5424fb03f953ca3394278"
          }
        },
        "2ef2a60d08f143799f144e21baf9b141": {
          "model_module": "@jupyter-widgets/base",
          "model_name": "LayoutModel",
          "model_module_version": "1.2.0",
          "state": {
            "_model_module": "@jupyter-widgets/base",
            "_model_module_version": "1.2.0",
            "_model_name": "LayoutModel",
            "_view_count": null,
            "_view_module": "@jupyter-widgets/base",
            "_view_module_version": "1.2.0",
            "_view_name": "LayoutView",
            "align_content": null,
            "align_items": null,
            "align_self": null,
            "border": null,
            "bottom": null,
            "display": null,
            "flex": null,
            "flex_flow": null,
            "grid_area": null,
            "grid_auto_columns": null,
            "grid_auto_flow": null,
            "grid_auto_rows": null,
            "grid_column": null,
            "grid_gap": null,
            "grid_row": null,
            "grid_template_areas": null,
            "grid_template_columns": null,
            "grid_template_rows": null,
            "height": null,
            "justify_content": null,
            "justify_items": null,
            "left": null,
            "margin": null,
            "max_height": null,
            "max_width": null,
            "min_height": null,
            "min_width": null,
            "object_fit": null,
            "object_position": null,
            "order": null,
            "overflow": null,
            "overflow_x": null,
            "overflow_y": null,
            "padding": null,
            "right": null,
            "top": null,
            "visibility": null,
            "width": null
          }
        },
        "f1da80d90eb5424fb03f953ca3394278": {
          "model_module": "@jupyter-widgets/controls",
          "model_name": "DescriptionStyleModel",
          "model_module_version": "1.5.0",
          "state": {
            "_model_module": "@jupyter-widgets/controls",
            "_model_module_version": "1.5.0",
            "_model_name": "DescriptionStyleModel",
            "_view_count": null,
            "_view_module": "@jupyter-widgets/base",
            "_view_module_version": "1.2.0",
            "_view_name": "StyleView",
            "description_width": ""
          }
        },
        "3bc8ebaf5d2343fc96bae89bf1d36cfe": {
          "model_module": "@jupyter-widgets/controls",
          "model_name": "HBoxModel",
          "model_module_version": "1.5.0",
          "state": {
            "_dom_classes": [],
            "_model_module": "@jupyter-widgets/controls",
            "_model_module_version": "1.5.0",
            "_model_name": "HBoxModel",
            "_view_count": null,
            "_view_module": "@jupyter-widgets/controls",
            "_view_module_version": "1.5.0",
            "_view_name": "HBoxView",
            "box_style": "",
            "children": [
              "IPY_MODEL_8f731d5384864e2dbb20b3e3971dafde",
              "IPY_MODEL_00ea3898c44e44e6bbef1f38514f89f8",
              "IPY_MODEL_2c10802591734aa2a0c0bb6311379c3f"
            ],
            "layout": "IPY_MODEL_a36339c69f5b4d4ca28bd456a18f968b"
          }
        },
        "8f731d5384864e2dbb20b3e3971dafde": {
          "model_module": "@jupyter-widgets/controls",
          "model_name": "HTMLModel",
          "model_module_version": "1.5.0",
          "state": {
            "_dom_classes": [],
            "_model_module": "@jupyter-widgets/controls",
            "_model_module_version": "1.5.0",
            "_model_name": "HTMLModel",
            "_view_count": null,
            "_view_module": "@jupyter-widgets/controls",
            "_view_module_version": "1.5.0",
            "_view_name": "HTMLView",
            "description": "",
            "description_tooltip": null,
            "layout": "IPY_MODEL_003c0848023444bab18a36633b871a0f",
            "placeholder": "​",
            "style": "IPY_MODEL_a12f0c13a35b43fc949e1c7e169f6857",
            "value": "  0%"
          }
        },
        "00ea3898c44e44e6bbef1f38514f89f8": {
          "model_module": "@jupyter-widgets/controls",
          "model_name": "FloatProgressModel",
          "model_module_version": "1.5.0",
          "state": {
            "_dom_classes": [],
            "_model_module": "@jupyter-widgets/controls",
            "_model_module_version": "1.5.0",
            "_model_name": "FloatProgressModel",
            "_view_count": null,
            "_view_module": "@jupyter-widgets/controls",
            "_view_module_version": "1.5.0",
            "_view_name": "ProgressView",
            "bar_style": "",
            "description": "",
            "description_tooltip": null,
            "layout": "IPY_MODEL_c3aef18530e44fb188c2756906e257a4",
            "max": 256,
            "min": 0,
            "orientation": "horizontal",
            "style": "IPY_MODEL_83ec4cf64f144f03a5c6b39f1366d57c",
            "value": 0
          }
        },
        "2c10802591734aa2a0c0bb6311379c3f": {
          "model_module": "@jupyter-widgets/controls",
          "model_name": "HTMLModel",
          "model_module_version": "1.5.0",
          "state": {
            "_dom_classes": [],
            "_model_module": "@jupyter-widgets/controls",
            "_model_module_version": "1.5.0",
            "_model_name": "HTMLModel",
            "_view_count": null,
            "_view_module": "@jupyter-widgets/controls",
            "_view_module_version": "1.5.0",
            "_view_name": "HTMLView",
            "description": "",
            "description_tooltip": null,
            "layout": "IPY_MODEL_f5655a62a608471a982de57cfa603a92",
            "placeholder": "​",
            "style": "IPY_MODEL_1565c39ae8994545a29e54d51400aca2",
            "value": " 0/256 [00:00&lt;?, ?it/s]"
          }
        },
        "a36339c69f5b4d4ca28bd456a18f968b": {
          "model_module": "@jupyter-widgets/base",
          "model_name": "LayoutModel",
          "model_module_version": "1.2.0",
          "state": {
            "_model_module": "@jupyter-widgets/base",
            "_model_module_version": "1.2.0",
            "_model_name": "LayoutModel",
            "_view_count": null,
            "_view_module": "@jupyter-widgets/base",
            "_view_module_version": "1.2.0",
            "_view_name": "LayoutView",
            "align_content": null,
            "align_items": null,
            "align_self": null,
            "border": null,
            "bottom": null,
            "display": null,
            "flex": null,
            "flex_flow": null,
            "grid_area": null,
            "grid_auto_columns": null,
            "grid_auto_flow": null,
            "grid_auto_rows": null,
            "grid_column": null,
            "grid_gap": null,
            "grid_row": null,
            "grid_template_areas": null,
            "grid_template_columns": null,
            "grid_template_rows": null,
            "height": null,
            "justify_content": null,
            "justify_items": null,
            "left": null,
            "margin": null,
            "max_height": null,
            "max_width": null,
            "min_height": null,
            "min_width": null,
            "object_fit": null,
            "object_position": null,
            "order": null,
            "overflow": null,
            "overflow_x": null,
            "overflow_y": null,
            "padding": null,
            "right": null,
            "top": null,
            "visibility": null,
            "width": null
          }
        },
        "003c0848023444bab18a36633b871a0f": {
          "model_module": "@jupyter-widgets/base",
          "model_name": "LayoutModel",
          "model_module_version": "1.2.0",
          "state": {
            "_model_module": "@jupyter-widgets/base",
            "_model_module_version": "1.2.0",
            "_model_name": "LayoutModel",
            "_view_count": null,
            "_view_module": "@jupyter-widgets/base",
            "_view_module_version": "1.2.0",
            "_view_name": "LayoutView",
            "align_content": null,
            "align_items": null,
            "align_self": null,
            "border": null,
            "bottom": null,
            "display": null,
            "flex": null,
            "flex_flow": null,
            "grid_area": null,
            "grid_auto_columns": null,
            "grid_auto_flow": null,
            "grid_auto_rows": null,
            "grid_column": null,
            "grid_gap": null,
            "grid_row": null,
            "grid_template_areas": null,
            "grid_template_columns": null,
            "grid_template_rows": null,
            "height": null,
            "justify_content": null,
            "justify_items": null,
            "left": null,
            "margin": null,
            "max_height": null,
            "max_width": null,
            "min_height": null,
            "min_width": null,
            "object_fit": null,
            "object_position": null,
            "order": null,
            "overflow": null,
            "overflow_x": null,
            "overflow_y": null,
            "padding": null,
            "right": null,
            "top": null,
            "visibility": null,
            "width": null
          }
        },
        "a12f0c13a35b43fc949e1c7e169f6857": {
          "model_module": "@jupyter-widgets/controls",
          "model_name": "DescriptionStyleModel",
          "model_module_version": "1.5.0",
          "state": {
            "_model_module": "@jupyter-widgets/controls",
            "_model_module_version": "1.5.0",
            "_model_name": "DescriptionStyleModel",
            "_view_count": null,
            "_view_module": "@jupyter-widgets/base",
            "_view_module_version": "1.2.0",
            "_view_name": "StyleView",
            "description_width": ""
          }
        },
        "c3aef18530e44fb188c2756906e257a4": {
          "model_module": "@jupyter-widgets/base",
          "model_name": "LayoutModel",
          "model_module_version": "1.2.0",
          "state": {
            "_model_module": "@jupyter-widgets/base",
            "_model_module_version": "1.2.0",
            "_model_name": "LayoutModel",
            "_view_count": null,
            "_view_module": "@jupyter-widgets/base",
            "_view_module_version": "1.2.0",
            "_view_name": "LayoutView",
            "align_content": null,
            "align_items": null,
            "align_self": null,
            "border": null,
            "bottom": null,
            "display": null,
            "flex": null,
            "flex_flow": null,
            "grid_area": null,
            "grid_auto_columns": null,
            "grid_auto_flow": null,
            "grid_auto_rows": null,
            "grid_column": null,
            "grid_gap": null,
            "grid_row": null,
            "grid_template_areas": null,
            "grid_template_columns": null,
            "grid_template_rows": null,
            "height": null,
            "justify_content": null,
            "justify_items": null,
            "left": null,
            "margin": null,
            "max_height": null,
            "max_width": null,
            "min_height": null,
            "min_width": null,
            "object_fit": null,
            "object_position": null,
            "order": null,
            "overflow": null,
            "overflow_x": null,
            "overflow_y": null,
            "padding": null,
            "right": null,
            "top": null,
            "visibility": null,
            "width": null
          }
        },
        "83ec4cf64f144f03a5c6b39f1366d57c": {
          "model_module": "@jupyter-widgets/controls",
          "model_name": "ProgressStyleModel",
          "model_module_version": "1.5.0",
          "state": {
            "_model_module": "@jupyter-widgets/controls",
            "_model_module_version": "1.5.0",
            "_model_name": "ProgressStyleModel",
            "_view_count": null,
            "_view_module": "@jupyter-widgets/base",
            "_view_module_version": "1.2.0",
            "_view_name": "StyleView",
            "bar_color": null,
            "description_width": ""
          }
        },
        "f5655a62a608471a982de57cfa603a92": {
          "model_module": "@jupyter-widgets/base",
          "model_name": "LayoutModel",
          "model_module_version": "1.2.0",
          "state": {
            "_model_module": "@jupyter-widgets/base",
            "_model_module_version": "1.2.0",
            "_model_name": "LayoutModel",
            "_view_count": null,
            "_view_module": "@jupyter-widgets/base",
            "_view_module_version": "1.2.0",
            "_view_name": "LayoutView",
            "align_content": null,
            "align_items": null,
            "align_self": null,
            "border": null,
            "bottom": null,
            "display": null,
            "flex": null,
            "flex_flow": null,
            "grid_area": null,
            "grid_auto_columns": null,
            "grid_auto_flow": null,
            "grid_auto_rows": null,
            "grid_column": null,
            "grid_gap": null,
            "grid_row": null,
            "grid_template_areas": null,
            "grid_template_columns": null,
            "grid_template_rows": null,
            "height": null,
            "justify_content": null,
            "justify_items": null,
            "left": null,
            "margin": null,
            "max_height": null,
            "max_width": null,
            "min_height": null,
            "min_width": null,
            "object_fit": null,
            "object_position": null,
            "order": null,
            "overflow": null,
            "overflow_x": null,
            "overflow_y": null,
            "padding": null,
            "right": null,
            "top": null,
            "visibility": null,
            "width": null
          }
        },
        "1565c39ae8994545a29e54d51400aca2": {
          "model_module": "@jupyter-widgets/controls",
          "model_name": "DescriptionStyleModel",
          "model_module_version": "1.5.0",
          "state": {
            "_model_module": "@jupyter-widgets/controls",
            "_model_module_version": "1.5.0",
            "_model_name": "DescriptionStyleModel",
            "_view_count": null,
            "_view_module": "@jupyter-widgets/base",
            "_view_module_version": "1.2.0",
            "_view_name": "StyleView",
            "description_width": ""
          }
        },
        "881c9ceae33440e58ca2d060dbe2fbcd": {
          "model_module": "@jupyter-widgets/controls",
          "model_name": "HBoxModel",
          "model_module_version": "1.5.0",
          "state": {
            "_dom_classes": [],
            "_model_module": "@jupyter-widgets/controls",
            "_model_module_version": "1.5.0",
            "_model_name": "HBoxModel",
            "_view_count": null,
            "_view_module": "@jupyter-widgets/controls",
            "_view_module_version": "1.5.0",
            "_view_name": "HBoxView",
            "box_style": "",
            "children": [
              "IPY_MODEL_a63d412ea505428a8256185b560a0e7e",
              "IPY_MODEL_8c61e3229dd04957a3a525b4253b3e80",
              "IPY_MODEL_de856fb7877440b7b3a0a2cb3f7c0273"
            ],
            "layout": "IPY_MODEL_eac74f35b4f04a25b39cdaaa6606a937"
          }
        },
        "a63d412ea505428a8256185b560a0e7e": {
          "model_module": "@jupyter-widgets/controls",
          "model_name": "HTMLModel",
          "model_module_version": "1.5.0",
          "state": {
            "_dom_classes": [],
            "_model_module": "@jupyter-widgets/controls",
            "_model_module_version": "1.5.0",
            "_model_name": "HTMLModel",
            "_view_count": null,
            "_view_module": "@jupyter-widgets/controls",
            "_view_module_version": "1.5.0",
            "_view_name": "HTMLView",
            "description": "",
            "description_tooltip": null,
            "layout": "IPY_MODEL_8807842a9c324c3c887173bc64127e2e",
            "placeholder": "​",
            "style": "IPY_MODEL_4778b09b3b024324999a92de195f098e",
            "value": "100%"
          }
        },
        "8c61e3229dd04957a3a525b4253b3e80": {
          "model_module": "@jupyter-widgets/controls",
          "model_name": "FloatProgressModel",
          "model_module_version": "1.5.0",
          "state": {
            "_dom_classes": [],
            "_model_module": "@jupyter-widgets/controls",
            "_model_module_version": "1.5.0",
            "_model_name": "FloatProgressModel",
            "_view_count": null,
            "_view_module": "@jupyter-widgets/controls",
            "_view_module_version": "1.5.0",
            "_view_name": "ProgressView",
            "bar_style": "success",
            "description": "",
            "description_tooltip": null,
            "layout": "IPY_MODEL_614bb37d538d47b9aebe7e5c14d5e3a2",
            "max": 256,
            "min": 0,
            "orientation": "horizontal",
            "style": "IPY_MODEL_93b57cef73aa429687804339da6d6f86",
            "value": 256
          }
        },
        "de856fb7877440b7b3a0a2cb3f7c0273": {
          "model_module": "@jupyter-widgets/controls",
          "model_name": "HTMLModel",
          "model_module_version": "1.5.0",
          "state": {
            "_dom_classes": [],
            "_model_module": "@jupyter-widgets/controls",
            "_model_module_version": "1.5.0",
            "_model_name": "HTMLModel",
            "_view_count": null,
            "_view_module": "@jupyter-widgets/controls",
            "_view_module_version": "1.5.0",
            "_view_name": "HTMLView",
            "description": "",
            "description_tooltip": null,
            "layout": "IPY_MODEL_4da0fec201f648e297005b9e861f077b",
            "placeholder": "​",
            "style": "IPY_MODEL_d012a67a75d84d88a1f66269048fbf2a",
            "value": " 256/256 [00:09&lt;00:00, 30.37it/s]"
          }
        },
        "eac74f35b4f04a25b39cdaaa6606a937": {
          "model_module": "@jupyter-widgets/base",
          "model_name": "LayoutModel",
          "model_module_version": "1.2.0",
          "state": {
            "_model_module": "@jupyter-widgets/base",
            "_model_module_version": "1.2.0",
            "_model_name": "LayoutModel",
            "_view_count": null,
            "_view_module": "@jupyter-widgets/base",
            "_view_module_version": "1.2.0",
            "_view_name": "LayoutView",
            "align_content": null,
            "align_items": null,
            "align_self": null,
            "border": null,
            "bottom": null,
            "display": null,
            "flex": null,
            "flex_flow": null,
            "grid_area": null,
            "grid_auto_columns": null,
            "grid_auto_flow": null,
            "grid_auto_rows": null,
            "grid_column": null,
            "grid_gap": null,
            "grid_row": null,
            "grid_template_areas": null,
            "grid_template_columns": null,
            "grid_template_rows": null,
            "height": null,
            "justify_content": null,
            "justify_items": null,
            "left": null,
            "margin": null,
            "max_height": null,
            "max_width": null,
            "min_height": null,
            "min_width": null,
            "object_fit": null,
            "object_position": null,
            "order": null,
            "overflow": null,
            "overflow_x": null,
            "overflow_y": null,
            "padding": null,
            "right": null,
            "top": null,
            "visibility": null,
            "width": null
          }
        },
        "8807842a9c324c3c887173bc64127e2e": {
          "model_module": "@jupyter-widgets/base",
          "model_name": "LayoutModel",
          "model_module_version": "1.2.0",
          "state": {
            "_model_module": "@jupyter-widgets/base",
            "_model_module_version": "1.2.0",
            "_model_name": "LayoutModel",
            "_view_count": null,
            "_view_module": "@jupyter-widgets/base",
            "_view_module_version": "1.2.0",
            "_view_name": "LayoutView",
            "align_content": null,
            "align_items": null,
            "align_self": null,
            "border": null,
            "bottom": null,
            "display": null,
            "flex": null,
            "flex_flow": null,
            "grid_area": null,
            "grid_auto_columns": null,
            "grid_auto_flow": null,
            "grid_auto_rows": null,
            "grid_column": null,
            "grid_gap": null,
            "grid_row": null,
            "grid_template_areas": null,
            "grid_template_columns": null,
            "grid_template_rows": null,
            "height": null,
            "justify_content": null,
            "justify_items": null,
            "left": null,
            "margin": null,
            "max_height": null,
            "max_width": null,
            "min_height": null,
            "min_width": null,
            "object_fit": null,
            "object_position": null,
            "order": null,
            "overflow": null,
            "overflow_x": null,
            "overflow_y": null,
            "padding": null,
            "right": null,
            "top": null,
            "visibility": null,
            "width": null
          }
        },
        "4778b09b3b024324999a92de195f098e": {
          "model_module": "@jupyter-widgets/controls",
          "model_name": "DescriptionStyleModel",
          "model_module_version": "1.5.0",
          "state": {
            "_model_module": "@jupyter-widgets/controls",
            "_model_module_version": "1.5.0",
            "_model_name": "DescriptionStyleModel",
            "_view_count": null,
            "_view_module": "@jupyter-widgets/base",
            "_view_module_version": "1.2.0",
            "_view_name": "StyleView",
            "description_width": ""
          }
        },
        "614bb37d538d47b9aebe7e5c14d5e3a2": {
          "model_module": "@jupyter-widgets/base",
          "model_name": "LayoutModel",
          "model_module_version": "1.2.0",
          "state": {
            "_model_module": "@jupyter-widgets/base",
            "_model_module_version": "1.2.0",
            "_model_name": "LayoutModel",
            "_view_count": null,
            "_view_module": "@jupyter-widgets/base",
            "_view_module_version": "1.2.0",
            "_view_name": "LayoutView",
            "align_content": null,
            "align_items": null,
            "align_self": null,
            "border": null,
            "bottom": null,
            "display": null,
            "flex": null,
            "flex_flow": null,
            "grid_area": null,
            "grid_auto_columns": null,
            "grid_auto_flow": null,
            "grid_auto_rows": null,
            "grid_column": null,
            "grid_gap": null,
            "grid_row": null,
            "grid_template_areas": null,
            "grid_template_columns": null,
            "grid_template_rows": null,
            "height": null,
            "justify_content": null,
            "justify_items": null,
            "left": null,
            "margin": null,
            "max_height": null,
            "max_width": null,
            "min_height": null,
            "min_width": null,
            "object_fit": null,
            "object_position": null,
            "order": null,
            "overflow": null,
            "overflow_x": null,
            "overflow_y": null,
            "padding": null,
            "right": null,
            "top": null,
            "visibility": null,
            "width": null
          }
        },
        "93b57cef73aa429687804339da6d6f86": {
          "model_module": "@jupyter-widgets/controls",
          "model_name": "ProgressStyleModel",
          "model_module_version": "1.5.0",
          "state": {
            "_model_module": "@jupyter-widgets/controls",
            "_model_module_version": "1.5.0",
            "_model_name": "ProgressStyleModel",
            "_view_count": null,
            "_view_module": "@jupyter-widgets/base",
            "_view_module_version": "1.2.0",
            "_view_name": "StyleView",
            "bar_color": null,
            "description_width": ""
          }
        },
        "4da0fec201f648e297005b9e861f077b": {
          "model_module": "@jupyter-widgets/base",
          "model_name": "LayoutModel",
          "model_module_version": "1.2.0",
          "state": {
            "_model_module": "@jupyter-widgets/base",
            "_model_module_version": "1.2.0",
            "_model_name": "LayoutModel",
            "_view_count": null,
            "_view_module": "@jupyter-widgets/base",
            "_view_module_version": "1.2.0",
            "_view_name": "LayoutView",
            "align_content": null,
            "align_items": null,
            "align_self": null,
            "border": null,
            "bottom": null,
            "display": null,
            "flex": null,
            "flex_flow": null,
            "grid_area": null,
            "grid_auto_columns": null,
            "grid_auto_flow": null,
            "grid_auto_rows": null,
            "grid_column": null,
            "grid_gap": null,
            "grid_row": null,
            "grid_template_areas": null,
            "grid_template_columns": null,
            "grid_template_rows": null,
            "height": null,
            "justify_content": null,
            "justify_items": null,
            "left": null,
            "margin": null,
            "max_height": null,
            "max_width": null,
            "min_height": null,
            "min_width": null,
            "object_fit": null,
            "object_position": null,
            "order": null,
            "overflow": null,
            "overflow_x": null,
            "overflow_y": null,
            "padding": null,
            "right": null,
            "top": null,
            "visibility": null,
            "width": null
          }
        },
        "d012a67a75d84d88a1f66269048fbf2a": {
          "model_module": "@jupyter-widgets/controls",
          "model_name": "DescriptionStyleModel",
          "model_module_version": "1.5.0",
          "state": {
            "_model_module": "@jupyter-widgets/controls",
            "_model_module_version": "1.5.0",
            "_model_name": "DescriptionStyleModel",
            "_view_count": null,
            "_view_module": "@jupyter-widgets/base",
            "_view_module_version": "1.2.0",
            "_view_name": "StyleView",
            "description_width": ""
          }
        },
        "71ccb181283f4650bab8062e76148a58": {
          "model_module": "@jupyter-widgets/controls",
          "model_name": "HBoxModel",
          "model_module_version": "1.5.0",
          "state": {
            "_dom_classes": [],
            "_model_module": "@jupyter-widgets/controls",
            "_model_module_version": "1.5.0",
            "_model_name": "HBoxModel",
            "_view_count": null,
            "_view_module": "@jupyter-widgets/controls",
            "_view_module_version": "1.5.0",
            "_view_name": "HBoxView",
            "box_style": "",
            "children": [
              "IPY_MODEL_2d4a8156097d4650a2261027e5388fe8",
              "IPY_MODEL_fa0f872560e34f85b71b381d5f0a96a5",
              "IPY_MODEL_e69221c2736247829ed035b6a7874614"
            ],
            "layout": "IPY_MODEL_281f4de7b3214af6bf7a5550e9725303"
          }
        },
        "2d4a8156097d4650a2261027e5388fe8": {
          "model_module": "@jupyter-widgets/controls",
          "model_name": "HTMLModel",
          "model_module_version": "1.5.0",
          "state": {
            "_dom_classes": [],
            "_model_module": "@jupyter-widgets/controls",
            "_model_module_version": "1.5.0",
            "_model_name": "HTMLModel",
            "_view_count": null,
            "_view_module": "@jupyter-widgets/controls",
            "_view_module_version": "1.5.0",
            "_view_name": "HTMLView",
            "description": "",
            "description_tooltip": null,
            "layout": "IPY_MODEL_2f202ec8f8bf4973af59c8eb8c17e2d9",
            "placeholder": "​",
            "style": "IPY_MODEL_dd6757e5c9834c6b8f52062a15b50857",
            "value": "  0%"
          }
        },
        "fa0f872560e34f85b71b381d5f0a96a5": {
          "model_module": "@jupyter-widgets/controls",
          "model_name": "FloatProgressModel",
          "model_module_version": "1.5.0",
          "state": {
            "_dom_classes": [],
            "_model_module": "@jupyter-widgets/controls",
            "_model_module_version": "1.5.0",
            "_model_name": "FloatProgressModel",
            "_view_count": null,
            "_view_module": "@jupyter-widgets/controls",
            "_view_module_version": "1.5.0",
            "_view_name": "ProgressView",
            "bar_style": "",
            "description": "",
            "description_tooltip": null,
            "layout": "IPY_MODEL_3a4cfbe524fc4cf28c479b662b0aaec1",
            "max": 256,
            "min": 0,
            "orientation": "horizontal",
            "style": "IPY_MODEL_a2bb5d4c88ec462f81221ddaf5fb0144",
            "value": 0
          }
        },
        "e69221c2736247829ed035b6a7874614": {
          "model_module": "@jupyter-widgets/controls",
          "model_name": "HTMLModel",
          "model_module_version": "1.5.0",
          "state": {
            "_dom_classes": [],
            "_model_module": "@jupyter-widgets/controls",
            "_model_module_version": "1.5.0",
            "_model_name": "HTMLModel",
            "_view_count": null,
            "_view_module": "@jupyter-widgets/controls",
            "_view_module_version": "1.5.0",
            "_view_name": "HTMLView",
            "description": "",
            "description_tooltip": null,
            "layout": "IPY_MODEL_f6805fa0a3ba4e65938da7ba7e75e666",
            "placeholder": "​",
            "style": "IPY_MODEL_316ca54ffe4b4b22b44c132ab2c48ee1",
            "value": " 0/256 [00:00&lt;?, ?it/s]"
          }
        },
        "281f4de7b3214af6bf7a5550e9725303": {
          "model_module": "@jupyter-widgets/base",
          "model_name": "LayoutModel",
          "model_module_version": "1.2.0",
          "state": {
            "_model_module": "@jupyter-widgets/base",
            "_model_module_version": "1.2.0",
            "_model_name": "LayoutModel",
            "_view_count": null,
            "_view_module": "@jupyter-widgets/base",
            "_view_module_version": "1.2.0",
            "_view_name": "LayoutView",
            "align_content": null,
            "align_items": null,
            "align_self": null,
            "border": null,
            "bottom": null,
            "display": null,
            "flex": null,
            "flex_flow": null,
            "grid_area": null,
            "grid_auto_columns": null,
            "grid_auto_flow": null,
            "grid_auto_rows": null,
            "grid_column": null,
            "grid_gap": null,
            "grid_row": null,
            "grid_template_areas": null,
            "grid_template_columns": null,
            "grid_template_rows": null,
            "height": null,
            "justify_content": null,
            "justify_items": null,
            "left": null,
            "margin": null,
            "max_height": null,
            "max_width": null,
            "min_height": null,
            "min_width": null,
            "object_fit": null,
            "object_position": null,
            "order": null,
            "overflow": null,
            "overflow_x": null,
            "overflow_y": null,
            "padding": null,
            "right": null,
            "top": null,
            "visibility": null,
            "width": null
          }
        },
        "2f202ec8f8bf4973af59c8eb8c17e2d9": {
          "model_module": "@jupyter-widgets/base",
          "model_name": "LayoutModel",
          "model_module_version": "1.2.0",
          "state": {
            "_model_module": "@jupyter-widgets/base",
            "_model_module_version": "1.2.0",
            "_model_name": "LayoutModel",
            "_view_count": null,
            "_view_module": "@jupyter-widgets/base",
            "_view_module_version": "1.2.0",
            "_view_name": "LayoutView",
            "align_content": null,
            "align_items": null,
            "align_self": null,
            "border": null,
            "bottom": null,
            "display": null,
            "flex": null,
            "flex_flow": null,
            "grid_area": null,
            "grid_auto_columns": null,
            "grid_auto_flow": null,
            "grid_auto_rows": null,
            "grid_column": null,
            "grid_gap": null,
            "grid_row": null,
            "grid_template_areas": null,
            "grid_template_columns": null,
            "grid_template_rows": null,
            "height": null,
            "justify_content": null,
            "justify_items": null,
            "left": null,
            "margin": null,
            "max_height": null,
            "max_width": null,
            "min_height": null,
            "min_width": null,
            "object_fit": null,
            "object_position": null,
            "order": null,
            "overflow": null,
            "overflow_x": null,
            "overflow_y": null,
            "padding": null,
            "right": null,
            "top": null,
            "visibility": null,
            "width": null
          }
        },
        "dd6757e5c9834c6b8f52062a15b50857": {
          "model_module": "@jupyter-widgets/controls",
          "model_name": "DescriptionStyleModel",
          "model_module_version": "1.5.0",
          "state": {
            "_model_module": "@jupyter-widgets/controls",
            "_model_module_version": "1.5.0",
            "_model_name": "DescriptionStyleModel",
            "_view_count": null,
            "_view_module": "@jupyter-widgets/base",
            "_view_module_version": "1.2.0",
            "_view_name": "StyleView",
            "description_width": ""
          }
        },
        "3a4cfbe524fc4cf28c479b662b0aaec1": {
          "model_module": "@jupyter-widgets/base",
          "model_name": "LayoutModel",
          "model_module_version": "1.2.0",
          "state": {
            "_model_module": "@jupyter-widgets/base",
            "_model_module_version": "1.2.0",
            "_model_name": "LayoutModel",
            "_view_count": null,
            "_view_module": "@jupyter-widgets/base",
            "_view_module_version": "1.2.0",
            "_view_name": "LayoutView",
            "align_content": null,
            "align_items": null,
            "align_self": null,
            "border": null,
            "bottom": null,
            "display": null,
            "flex": null,
            "flex_flow": null,
            "grid_area": null,
            "grid_auto_columns": null,
            "grid_auto_flow": null,
            "grid_auto_rows": null,
            "grid_column": null,
            "grid_gap": null,
            "grid_row": null,
            "grid_template_areas": null,
            "grid_template_columns": null,
            "grid_template_rows": null,
            "height": null,
            "justify_content": null,
            "justify_items": null,
            "left": null,
            "margin": null,
            "max_height": null,
            "max_width": null,
            "min_height": null,
            "min_width": null,
            "object_fit": null,
            "object_position": null,
            "order": null,
            "overflow": null,
            "overflow_x": null,
            "overflow_y": null,
            "padding": null,
            "right": null,
            "top": null,
            "visibility": null,
            "width": null
          }
        },
        "a2bb5d4c88ec462f81221ddaf5fb0144": {
          "model_module": "@jupyter-widgets/controls",
          "model_name": "ProgressStyleModel",
          "model_module_version": "1.5.0",
          "state": {
            "_model_module": "@jupyter-widgets/controls",
            "_model_module_version": "1.5.0",
            "_model_name": "ProgressStyleModel",
            "_view_count": null,
            "_view_module": "@jupyter-widgets/base",
            "_view_module_version": "1.2.0",
            "_view_name": "StyleView",
            "bar_color": null,
            "description_width": ""
          }
        },
        "f6805fa0a3ba4e65938da7ba7e75e666": {
          "model_module": "@jupyter-widgets/base",
          "model_name": "LayoutModel",
          "model_module_version": "1.2.0",
          "state": {
            "_model_module": "@jupyter-widgets/base",
            "_model_module_version": "1.2.0",
            "_model_name": "LayoutModel",
            "_view_count": null,
            "_view_module": "@jupyter-widgets/base",
            "_view_module_version": "1.2.0",
            "_view_name": "LayoutView",
            "align_content": null,
            "align_items": null,
            "align_self": null,
            "border": null,
            "bottom": null,
            "display": null,
            "flex": null,
            "flex_flow": null,
            "grid_area": null,
            "grid_auto_columns": null,
            "grid_auto_flow": null,
            "grid_auto_rows": null,
            "grid_column": null,
            "grid_gap": null,
            "grid_row": null,
            "grid_template_areas": null,
            "grid_template_columns": null,
            "grid_template_rows": null,
            "height": null,
            "justify_content": null,
            "justify_items": null,
            "left": null,
            "margin": null,
            "max_height": null,
            "max_width": null,
            "min_height": null,
            "min_width": null,
            "object_fit": null,
            "object_position": null,
            "order": null,
            "overflow": null,
            "overflow_x": null,
            "overflow_y": null,
            "padding": null,
            "right": null,
            "top": null,
            "visibility": null,
            "width": null
          }
        },
        "316ca54ffe4b4b22b44c132ab2c48ee1": {
          "model_module": "@jupyter-widgets/controls",
          "model_name": "DescriptionStyleModel",
          "model_module_version": "1.5.0",
          "state": {
            "_model_module": "@jupyter-widgets/controls",
            "_model_module_version": "1.5.0",
            "_model_name": "DescriptionStyleModel",
            "_view_count": null,
            "_view_module": "@jupyter-widgets/base",
            "_view_module_version": "1.2.0",
            "_view_name": "StyleView",
            "description_width": ""
          }
        },
        "44207372bca2409d8aa64b934afea3ab": {
          "model_module": "@jupyter-widgets/controls",
          "model_name": "HBoxModel",
          "model_module_version": "1.5.0",
          "state": {
            "_dom_classes": [],
            "_model_module": "@jupyter-widgets/controls",
            "_model_module_version": "1.5.0",
            "_model_name": "HBoxModel",
            "_view_count": null,
            "_view_module": "@jupyter-widgets/controls",
            "_view_module_version": "1.5.0",
            "_view_name": "HBoxView",
            "box_style": "",
            "children": [
              "IPY_MODEL_2e2762698d7743088a409d3d827632f8",
              "IPY_MODEL_fa5a850cb7424877b7adc179921c84ef",
              "IPY_MODEL_aa046c8057124072a0425da116e089b4"
            ],
            "layout": "IPY_MODEL_a9a9b249345147afaf589cc862147571"
          }
        },
        "2e2762698d7743088a409d3d827632f8": {
          "model_module": "@jupyter-widgets/controls",
          "model_name": "HTMLModel",
          "model_module_version": "1.5.0",
          "state": {
            "_dom_classes": [],
            "_model_module": "@jupyter-widgets/controls",
            "_model_module_version": "1.5.0",
            "_model_name": "HTMLModel",
            "_view_count": null,
            "_view_module": "@jupyter-widgets/controls",
            "_view_module_version": "1.5.0",
            "_view_name": "HTMLView",
            "description": "",
            "description_tooltip": null,
            "layout": "IPY_MODEL_fb04abee7ce64dc19fb9354c20aec2dc",
            "placeholder": "​",
            "style": "IPY_MODEL_d7399a00b03e432f9890965b0f785075",
            "value": "100%"
          }
        },
        "fa5a850cb7424877b7adc179921c84ef": {
          "model_module": "@jupyter-widgets/controls",
          "model_name": "FloatProgressModel",
          "model_module_version": "1.5.0",
          "state": {
            "_dom_classes": [],
            "_model_module": "@jupyter-widgets/controls",
            "_model_module_version": "1.5.0",
            "_model_name": "FloatProgressModel",
            "_view_count": null,
            "_view_module": "@jupyter-widgets/controls",
            "_view_module_version": "1.5.0",
            "_view_name": "ProgressView",
            "bar_style": "success",
            "description": "",
            "description_tooltip": null,
            "layout": "IPY_MODEL_3b449e8bdd7e452087902feda8076595",
            "max": 256,
            "min": 0,
            "orientation": "horizontal",
            "style": "IPY_MODEL_7458ac0fa2234c8fb1740ba28ef52ab8",
            "value": 256
          }
        },
        "aa046c8057124072a0425da116e089b4": {
          "model_module": "@jupyter-widgets/controls",
          "model_name": "HTMLModel",
          "model_module_version": "1.5.0",
          "state": {
            "_dom_classes": [],
            "_model_module": "@jupyter-widgets/controls",
            "_model_module_version": "1.5.0",
            "_model_name": "HTMLModel",
            "_view_count": null,
            "_view_module": "@jupyter-widgets/controls",
            "_view_module_version": "1.5.0",
            "_view_name": "HTMLView",
            "description": "",
            "description_tooltip": null,
            "layout": "IPY_MODEL_9b633103e15440dcb3311109c9e76b39",
            "placeholder": "​",
            "style": "IPY_MODEL_345f2e2dd2724b11b4dd98a423052d41",
            "value": " 256/256 [00:08&lt;00:00, 42.14it/s]"
          }
        },
        "a9a9b249345147afaf589cc862147571": {
          "model_module": "@jupyter-widgets/base",
          "model_name": "LayoutModel",
          "model_module_version": "1.2.0",
          "state": {
            "_model_module": "@jupyter-widgets/base",
            "_model_module_version": "1.2.0",
            "_model_name": "LayoutModel",
            "_view_count": null,
            "_view_module": "@jupyter-widgets/base",
            "_view_module_version": "1.2.0",
            "_view_name": "LayoutView",
            "align_content": null,
            "align_items": null,
            "align_self": null,
            "border": null,
            "bottom": null,
            "display": null,
            "flex": null,
            "flex_flow": null,
            "grid_area": null,
            "grid_auto_columns": null,
            "grid_auto_flow": null,
            "grid_auto_rows": null,
            "grid_column": null,
            "grid_gap": null,
            "grid_row": null,
            "grid_template_areas": null,
            "grid_template_columns": null,
            "grid_template_rows": null,
            "height": null,
            "justify_content": null,
            "justify_items": null,
            "left": null,
            "margin": null,
            "max_height": null,
            "max_width": null,
            "min_height": null,
            "min_width": null,
            "object_fit": null,
            "object_position": null,
            "order": null,
            "overflow": null,
            "overflow_x": null,
            "overflow_y": null,
            "padding": null,
            "right": null,
            "top": null,
            "visibility": null,
            "width": null
          }
        },
        "fb04abee7ce64dc19fb9354c20aec2dc": {
          "model_module": "@jupyter-widgets/base",
          "model_name": "LayoutModel",
          "model_module_version": "1.2.0",
          "state": {
            "_model_module": "@jupyter-widgets/base",
            "_model_module_version": "1.2.0",
            "_model_name": "LayoutModel",
            "_view_count": null,
            "_view_module": "@jupyter-widgets/base",
            "_view_module_version": "1.2.0",
            "_view_name": "LayoutView",
            "align_content": null,
            "align_items": null,
            "align_self": null,
            "border": null,
            "bottom": null,
            "display": null,
            "flex": null,
            "flex_flow": null,
            "grid_area": null,
            "grid_auto_columns": null,
            "grid_auto_flow": null,
            "grid_auto_rows": null,
            "grid_column": null,
            "grid_gap": null,
            "grid_row": null,
            "grid_template_areas": null,
            "grid_template_columns": null,
            "grid_template_rows": null,
            "height": null,
            "justify_content": null,
            "justify_items": null,
            "left": null,
            "margin": null,
            "max_height": null,
            "max_width": null,
            "min_height": null,
            "min_width": null,
            "object_fit": null,
            "object_position": null,
            "order": null,
            "overflow": null,
            "overflow_x": null,
            "overflow_y": null,
            "padding": null,
            "right": null,
            "top": null,
            "visibility": null,
            "width": null
          }
        },
        "d7399a00b03e432f9890965b0f785075": {
          "model_module": "@jupyter-widgets/controls",
          "model_name": "DescriptionStyleModel",
          "model_module_version": "1.5.0",
          "state": {
            "_model_module": "@jupyter-widgets/controls",
            "_model_module_version": "1.5.0",
            "_model_name": "DescriptionStyleModel",
            "_view_count": null,
            "_view_module": "@jupyter-widgets/base",
            "_view_module_version": "1.2.0",
            "_view_name": "StyleView",
            "description_width": ""
          }
        },
        "3b449e8bdd7e452087902feda8076595": {
          "model_module": "@jupyter-widgets/base",
          "model_name": "LayoutModel",
          "model_module_version": "1.2.0",
          "state": {
            "_model_module": "@jupyter-widgets/base",
            "_model_module_version": "1.2.0",
            "_model_name": "LayoutModel",
            "_view_count": null,
            "_view_module": "@jupyter-widgets/base",
            "_view_module_version": "1.2.0",
            "_view_name": "LayoutView",
            "align_content": null,
            "align_items": null,
            "align_self": null,
            "border": null,
            "bottom": null,
            "display": null,
            "flex": null,
            "flex_flow": null,
            "grid_area": null,
            "grid_auto_columns": null,
            "grid_auto_flow": null,
            "grid_auto_rows": null,
            "grid_column": null,
            "grid_gap": null,
            "grid_row": null,
            "grid_template_areas": null,
            "grid_template_columns": null,
            "grid_template_rows": null,
            "height": null,
            "justify_content": null,
            "justify_items": null,
            "left": null,
            "margin": null,
            "max_height": null,
            "max_width": null,
            "min_height": null,
            "min_width": null,
            "object_fit": null,
            "object_position": null,
            "order": null,
            "overflow": null,
            "overflow_x": null,
            "overflow_y": null,
            "padding": null,
            "right": null,
            "top": null,
            "visibility": null,
            "width": null
          }
        },
        "7458ac0fa2234c8fb1740ba28ef52ab8": {
          "model_module": "@jupyter-widgets/controls",
          "model_name": "ProgressStyleModel",
          "model_module_version": "1.5.0",
          "state": {
            "_model_module": "@jupyter-widgets/controls",
            "_model_module_version": "1.5.0",
            "_model_name": "ProgressStyleModel",
            "_view_count": null,
            "_view_module": "@jupyter-widgets/base",
            "_view_module_version": "1.2.0",
            "_view_name": "StyleView",
            "bar_color": null,
            "description_width": ""
          }
        },
        "9b633103e15440dcb3311109c9e76b39": {
          "model_module": "@jupyter-widgets/base",
          "model_name": "LayoutModel",
          "model_module_version": "1.2.0",
          "state": {
            "_model_module": "@jupyter-widgets/base",
            "_model_module_version": "1.2.0",
            "_model_name": "LayoutModel",
            "_view_count": null,
            "_view_module": "@jupyter-widgets/base",
            "_view_module_version": "1.2.0",
            "_view_name": "LayoutView",
            "align_content": null,
            "align_items": null,
            "align_self": null,
            "border": null,
            "bottom": null,
            "display": null,
            "flex": null,
            "flex_flow": null,
            "grid_area": null,
            "grid_auto_columns": null,
            "grid_auto_flow": null,
            "grid_auto_rows": null,
            "grid_column": null,
            "grid_gap": null,
            "grid_row": null,
            "grid_template_areas": null,
            "grid_template_columns": null,
            "grid_template_rows": null,
            "height": null,
            "justify_content": null,
            "justify_items": null,
            "left": null,
            "margin": null,
            "max_height": null,
            "max_width": null,
            "min_height": null,
            "min_width": null,
            "object_fit": null,
            "object_position": null,
            "order": null,
            "overflow": null,
            "overflow_x": null,
            "overflow_y": null,
            "padding": null,
            "right": null,
            "top": null,
            "visibility": null,
            "width": null
          }
        },
        "345f2e2dd2724b11b4dd98a423052d41": {
          "model_module": "@jupyter-widgets/controls",
          "model_name": "DescriptionStyleModel",
          "model_module_version": "1.5.0",
          "state": {
            "_model_module": "@jupyter-widgets/controls",
            "_model_module_version": "1.5.0",
            "_model_name": "DescriptionStyleModel",
            "_view_count": null,
            "_view_module": "@jupyter-widgets/base",
            "_view_module_version": "1.2.0",
            "_view_name": "StyleView",
            "description_width": ""
          }
        },
        "71784e746af341b0bd4de567b449a8d3": {
          "model_module": "@jupyter-widgets/controls",
          "model_name": "HBoxModel",
          "model_module_version": "1.5.0",
          "state": {
            "_dom_classes": [],
            "_model_module": "@jupyter-widgets/controls",
            "_model_module_version": "1.5.0",
            "_model_name": "HBoxModel",
            "_view_count": null,
            "_view_module": "@jupyter-widgets/controls",
            "_view_module_version": "1.5.0",
            "_view_name": "HBoxView",
            "box_style": "",
            "children": [
              "IPY_MODEL_b610c5fb1e9e4be3957fbf89ce0009fa",
              "IPY_MODEL_464b45f1a9874fc78d5c094056a91892",
              "IPY_MODEL_56cab48a285d4c479844517d62636253"
            ],
            "layout": "IPY_MODEL_399910817d2d4dc682ad7ee3403d3e22"
          }
        },
        "b610c5fb1e9e4be3957fbf89ce0009fa": {
          "model_module": "@jupyter-widgets/controls",
          "model_name": "HTMLModel",
          "model_module_version": "1.5.0",
          "state": {
            "_dom_classes": [],
            "_model_module": "@jupyter-widgets/controls",
            "_model_module_version": "1.5.0",
            "_model_name": "HTMLModel",
            "_view_count": null,
            "_view_module": "@jupyter-widgets/controls",
            "_view_module_version": "1.5.0",
            "_view_name": "HTMLView",
            "description": "",
            "description_tooltip": null,
            "layout": "IPY_MODEL_f61feb0269684beabdc0e27d29151612",
            "placeholder": "​",
            "style": "IPY_MODEL_06384e040d2b488188dc07514e7b4515",
            "value": "100%"
          }
        },
        "464b45f1a9874fc78d5c094056a91892": {
          "model_module": "@jupyter-widgets/controls",
          "model_name": "FloatProgressModel",
          "model_module_version": "1.5.0",
          "state": {
            "_dom_classes": [],
            "_model_module": "@jupyter-widgets/controls",
            "_model_module_version": "1.5.0",
            "_model_name": "FloatProgressModel",
            "_view_count": null,
            "_view_module": "@jupyter-widgets/controls",
            "_view_module_version": "1.5.0",
            "_view_name": "ProgressView",
            "bar_style": "success",
            "description": "",
            "description_tooltip": null,
            "layout": "IPY_MODEL_54dbf2cff05d42e488630ccc6a3fcb9d",
            "max": 15,
            "min": 0,
            "orientation": "horizontal",
            "style": "IPY_MODEL_6f8c2d8513604d4a964a208c22bc7124",
            "value": 15
          }
        },
        "56cab48a285d4c479844517d62636253": {
          "model_module": "@jupyter-widgets/controls",
          "model_name": "HTMLModel",
          "model_module_version": "1.5.0",
          "state": {
            "_dom_classes": [],
            "_model_module": "@jupyter-widgets/controls",
            "_model_module_version": "1.5.0",
            "_model_name": "HTMLModel",
            "_view_count": null,
            "_view_module": "@jupyter-widgets/controls",
            "_view_module_version": "1.5.0",
            "_view_name": "HTMLView",
            "description": "",
            "description_tooltip": null,
            "layout": "IPY_MODEL_9f1a1f2895f7430593e321e533bc5c87",
            "placeholder": "​",
            "style": "IPY_MODEL_f7bf1180e2d84515851e8442c5776d3f",
            "value": " 15/15 [09:15&lt;00:00, 37.21s/it]"
          }
        },
        "399910817d2d4dc682ad7ee3403d3e22": {
          "model_module": "@jupyter-widgets/base",
          "model_name": "LayoutModel",
          "model_module_version": "1.2.0",
          "state": {
            "_model_module": "@jupyter-widgets/base",
            "_model_module_version": "1.2.0",
            "_model_name": "LayoutModel",
            "_view_count": null,
            "_view_module": "@jupyter-widgets/base",
            "_view_module_version": "1.2.0",
            "_view_name": "LayoutView",
            "align_content": null,
            "align_items": null,
            "align_self": null,
            "border": null,
            "bottom": null,
            "display": null,
            "flex": null,
            "flex_flow": null,
            "grid_area": null,
            "grid_auto_columns": null,
            "grid_auto_flow": null,
            "grid_auto_rows": null,
            "grid_column": null,
            "grid_gap": null,
            "grid_row": null,
            "grid_template_areas": null,
            "grid_template_columns": null,
            "grid_template_rows": null,
            "height": null,
            "justify_content": null,
            "justify_items": null,
            "left": null,
            "margin": null,
            "max_height": null,
            "max_width": null,
            "min_height": null,
            "min_width": null,
            "object_fit": null,
            "object_position": null,
            "order": null,
            "overflow": null,
            "overflow_x": null,
            "overflow_y": null,
            "padding": null,
            "right": null,
            "top": null,
            "visibility": null,
            "width": null
          }
        },
        "f61feb0269684beabdc0e27d29151612": {
          "model_module": "@jupyter-widgets/base",
          "model_name": "LayoutModel",
          "model_module_version": "1.2.0",
          "state": {
            "_model_module": "@jupyter-widgets/base",
            "_model_module_version": "1.2.0",
            "_model_name": "LayoutModel",
            "_view_count": null,
            "_view_module": "@jupyter-widgets/base",
            "_view_module_version": "1.2.0",
            "_view_name": "LayoutView",
            "align_content": null,
            "align_items": null,
            "align_self": null,
            "border": null,
            "bottom": null,
            "display": null,
            "flex": null,
            "flex_flow": null,
            "grid_area": null,
            "grid_auto_columns": null,
            "grid_auto_flow": null,
            "grid_auto_rows": null,
            "grid_column": null,
            "grid_gap": null,
            "grid_row": null,
            "grid_template_areas": null,
            "grid_template_columns": null,
            "grid_template_rows": null,
            "height": null,
            "justify_content": null,
            "justify_items": null,
            "left": null,
            "margin": null,
            "max_height": null,
            "max_width": null,
            "min_height": null,
            "min_width": null,
            "object_fit": null,
            "object_position": null,
            "order": null,
            "overflow": null,
            "overflow_x": null,
            "overflow_y": null,
            "padding": null,
            "right": null,
            "top": null,
            "visibility": null,
            "width": null
          }
        },
        "06384e040d2b488188dc07514e7b4515": {
          "model_module": "@jupyter-widgets/controls",
          "model_name": "DescriptionStyleModel",
          "model_module_version": "1.5.0",
          "state": {
            "_model_module": "@jupyter-widgets/controls",
            "_model_module_version": "1.5.0",
            "_model_name": "DescriptionStyleModel",
            "_view_count": null,
            "_view_module": "@jupyter-widgets/base",
            "_view_module_version": "1.2.0",
            "_view_name": "StyleView",
            "description_width": ""
          }
        },
        "54dbf2cff05d42e488630ccc6a3fcb9d": {
          "model_module": "@jupyter-widgets/base",
          "model_name": "LayoutModel",
          "model_module_version": "1.2.0",
          "state": {
            "_model_module": "@jupyter-widgets/base",
            "_model_module_version": "1.2.0",
            "_model_name": "LayoutModel",
            "_view_count": null,
            "_view_module": "@jupyter-widgets/base",
            "_view_module_version": "1.2.0",
            "_view_name": "LayoutView",
            "align_content": null,
            "align_items": null,
            "align_self": null,
            "border": null,
            "bottom": null,
            "display": null,
            "flex": null,
            "flex_flow": null,
            "grid_area": null,
            "grid_auto_columns": null,
            "grid_auto_flow": null,
            "grid_auto_rows": null,
            "grid_column": null,
            "grid_gap": null,
            "grid_row": null,
            "grid_template_areas": null,
            "grid_template_columns": null,
            "grid_template_rows": null,
            "height": null,
            "justify_content": null,
            "justify_items": null,
            "left": null,
            "margin": null,
            "max_height": null,
            "max_width": null,
            "min_height": null,
            "min_width": null,
            "object_fit": null,
            "object_position": null,
            "order": null,
            "overflow": null,
            "overflow_x": null,
            "overflow_y": null,
            "padding": null,
            "right": null,
            "top": null,
            "visibility": null,
            "width": null
          }
        },
        "6f8c2d8513604d4a964a208c22bc7124": {
          "model_module": "@jupyter-widgets/controls",
          "model_name": "ProgressStyleModel",
          "model_module_version": "1.5.0",
          "state": {
            "_model_module": "@jupyter-widgets/controls",
            "_model_module_version": "1.5.0",
            "_model_name": "ProgressStyleModel",
            "_view_count": null,
            "_view_module": "@jupyter-widgets/base",
            "_view_module_version": "1.2.0",
            "_view_name": "StyleView",
            "bar_color": null,
            "description_width": ""
          }
        },
        "9f1a1f2895f7430593e321e533bc5c87": {
          "model_module": "@jupyter-widgets/base",
          "model_name": "LayoutModel",
          "model_module_version": "1.2.0",
          "state": {
            "_model_module": "@jupyter-widgets/base",
            "_model_module_version": "1.2.0",
            "_model_name": "LayoutModel",
            "_view_count": null,
            "_view_module": "@jupyter-widgets/base",
            "_view_module_version": "1.2.0",
            "_view_name": "LayoutView",
            "align_content": null,
            "align_items": null,
            "align_self": null,
            "border": null,
            "bottom": null,
            "display": null,
            "flex": null,
            "flex_flow": null,
            "grid_area": null,
            "grid_auto_columns": null,
            "grid_auto_flow": null,
            "grid_auto_rows": null,
            "grid_column": null,
            "grid_gap": null,
            "grid_row": null,
            "grid_template_areas": null,
            "grid_template_columns": null,
            "grid_template_rows": null,
            "height": null,
            "justify_content": null,
            "justify_items": null,
            "left": null,
            "margin": null,
            "max_height": null,
            "max_width": null,
            "min_height": null,
            "min_width": null,
            "object_fit": null,
            "object_position": null,
            "order": null,
            "overflow": null,
            "overflow_x": null,
            "overflow_y": null,
            "padding": null,
            "right": null,
            "top": null,
            "visibility": null,
            "width": null
          }
        },
        "f7bf1180e2d84515851e8442c5776d3f": {
          "model_module": "@jupyter-widgets/controls",
          "model_name": "DescriptionStyleModel",
          "model_module_version": "1.5.0",
          "state": {
            "_model_module": "@jupyter-widgets/controls",
            "_model_module_version": "1.5.0",
            "_model_name": "DescriptionStyleModel",
            "_view_count": null,
            "_view_module": "@jupyter-widgets/base",
            "_view_module_version": "1.2.0",
            "_view_name": "StyleView",
            "description_width": ""
          }
        },
        "5c058d73f2f448349d8e67a75953ea39": {
          "model_module": "@jupyter-widgets/controls",
          "model_name": "HBoxModel",
          "model_module_version": "1.5.0",
          "state": {
            "_dom_classes": [],
            "_model_module": "@jupyter-widgets/controls",
            "_model_module_version": "1.5.0",
            "_model_name": "HBoxModel",
            "_view_count": null,
            "_view_module": "@jupyter-widgets/controls",
            "_view_module_version": "1.5.0",
            "_view_name": "HBoxView",
            "box_style": "",
            "children": [
              "IPY_MODEL_acc37cb64cf3457993d399db0e299bf3",
              "IPY_MODEL_85a3bc407ae34966b0ad8729952246e9",
              "IPY_MODEL_5556adf58bd4436da2502b0394a334dc"
            ],
            "layout": "IPY_MODEL_62fd145de2184ea9858c2061cf912cd7"
          }
        },
        "acc37cb64cf3457993d399db0e299bf3": {
          "model_module": "@jupyter-widgets/controls",
          "model_name": "HTMLModel",
          "model_module_version": "1.5.0",
          "state": {
            "_dom_classes": [],
            "_model_module": "@jupyter-widgets/controls",
            "_model_module_version": "1.5.0",
            "_model_name": "HTMLModel",
            "_view_count": null,
            "_view_module": "@jupyter-widgets/controls",
            "_view_module_version": "1.5.0",
            "_view_name": "HTMLView",
            "description": "",
            "description_tooltip": null,
            "layout": "IPY_MODEL_d956819b79af48009b66d67c54a67307",
            "placeholder": "​",
            "style": "IPY_MODEL_e2e64f0e916a4ed4972213ea70ca86a8",
            "value": "  7%"
          }
        },
        "85a3bc407ae34966b0ad8729952246e9": {
          "model_module": "@jupyter-widgets/controls",
          "model_name": "FloatProgressModel",
          "model_module_version": "1.5.0",
          "state": {
            "_dom_classes": [],
            "_model_module": "@jupyter-widgets/controls",
            "_model_module_version": "1.5.0",
            "_model_name": "FloatProgressModel",
            "_view_count": null,
            "_view_module": "@jupyter-widgets/controls",
            "_view_module_version": "1.5.0",
            "_view_name": "ProgressView",
            "bar_style": "danger",
            "description": "",
            "description_tooltip": null,
            "layout": "IPY_MODEL_0bfce525dc8d4f97a60b5bb9b4360fc1",
            "max": 15,
            "min": 0,
            "orientation": "horizontal",
            "style": "IPY_MODEL_4ac677fe1afd4d468b2d82ea0c8eebe8",
            "value": 1
          }
        },
        "5556adf58bd4436da2502b0394a334dc": {
          "model_module": "@jupyter-widgets/controls",
          "model_name": "HTMLModel",
          "model_module_version": "1.5.0",
          "state": {
            "_dom_classes": [],
            "_model_module": "@jupyter-widgets/controls",
            "_model_module_version": "1.5.0",
            "_model_name": "HTMLModel",
            "_view_count": null,
            "_view_module": "@jupyter-widgets/controls",
            "_view_module_version": "1.5.0",
            "_view_name": "HTMLView",
            "description": "",
            "description_tooltip": null,
            "layout": "IPY_MODEL_fbccf1c3d8f947efbd6e025ecef63351",
            "placeholder": "​",
            "style": "IPY_MODEL_b7a5d041382c41eabf520827e645769e",
            "value": " 1/15 [01:16&lt;09:08, 39.19s/it]"
          }
        },
        "62fd145de2184ea9858c2061cf912cd7": {
          "model_module": "@jupyter-widgets/base",
          "model_name": "LayoutModel",
          "model_module_version": "1.2.0",
          "state": {
            "_model_module": "@jupyter-widgets/base",
            "_model_module_version": "1.2.0",
            "_model_name": "LayoutModel",
            "_view_count": null,
            "_view_module": "@jupyter-widgets/base",
            "_view_module_version": "1.2.0",
            "_view_name": "LayoutView",
            "align_content": null,
            "align_items": null,
            "align_self": null,
            "border": null,
            "bottom": null,
            "display": null,
            "flex": null,
            "flex_flow": null,
            "grid_area": null,
            "grid_auto_columns": null,
            "grid_auto_flow": null,
            "grid_auto_rows": null,
            "grid_column": null,
            "grid_gap": null,
            "grid_row": null,
            "grid_template_areas": null,
            "grid_template_columns": null,
            "grid_template_rows": null,
            "height": null,
            "justify_content": null,
            "justify_items": null,
            "left": null,
            "margin": null,
            "max_height": null,
            "max_width": null,
            "min_height": null,
            "min_width": null,
            "object_fit": null,
            "object_position": null,
            "order": null,
            "overflow": null,
            "overflow_x": null,
            "overflow_y": null,
            "padding": null,
            "right": null,
            "top": null,
            "visibility": null,
            "width": null
          }
        },
        "d956819b79af48009b66d67c54a67307": {
          "model_module": "@jupyter-widgets/base",
          "model_name": "LayoutModel",
          "model_module_version": "1.2.0",
          "state": {
            "_model_module": "@jupyter-widgets/base",
            "_model_module_version": "1.2.0",
            "_model_name": "LayoutModel",
            "_view_count": null,
            "_view_module": "@jupyter-widgets/base",
            "_view_module_version": "1.2.0",
            "_view_name": "LayoutView",
            "align_content": null,
            "align_items": null,
            "align_self": null,
            "border": null,
            "bottom": null,
            "display": null,
            "flex": null,
            "flex_flow": null,
            "grid_area": null,
            "grid_auto_columns": null,
            "grid_auto_flow": null,
            "grid_auto_rows": null,
            "grid_column": null,
            "grid_gap": null,
            "grid_row": null,
            "grid_template_areas": null,
            "grid_template_columns": null,
            "grid_template_rows": null,
            "height": null,
            "justify_content": null,
            "justify_items": null,
            "left": null,
            "margin": null,
            "max_height": null,
            "max_width": null,
            "min_height": null,
            "min_width": null,
            "object_fit": null,
            "object_position": null,
            "order": null,
            "overflow": null,
            "overflow_x": null,
            "overflow_y": null,
            "padding": null,
            "right": null,
            "top": null,
            "visibility": null,
            "width": null
          }
        },
        "e2e64f0e916a4ed4972213ea70ca86a8": {
          "model_module": "@jupyter-widgets/controls",
          "model_name": "DescriptionStyleModel",
          "model_module_version": "1.5.0",
          "state": {
            "_model_module": "@jupyter-widgets/controls",
            "_model_module_version": "1.5.0",
            "_model_name": "DescriptionStyleModel",
            "_view_count": null,
            "_view_module": "@jupyter-widgets/base",
            "_view_module_version": "1.2.0",
            "_view_name": "StyleView",
            "description_width": ""
          }
        },
        "0bfce525dc8d4f97a60b5bb9b4360fc1": {
          "model_module": "@jupyter-widgets/base",
          "model_name": "LayoutModel",
          "model_module_version": "1.2.0",
          "state": {
            "_model_module": "@jupyter-widgets/base",
            "_model_module_version": "1.2.0",
            "_model_name": "LayoutModel",
            "_view_count": null,
            "_view_module": "@jupyter-widgets/base",
            "_view_module_version": "1.2.0",
            "_view_name": "LayoutView",
            "align_content": null,
            "align_items": null,
            "align_self": null,
            "border": null,
            "bottom": null,
            "display": null,
            "flex": null,
            "flex_flow": null,
            "grid_area": null,
            "grid_auto_columns": null,
            "grid_auto_flow": null,
            "grid_auto_rows": null,
            "grid_column": null,
            "grid_gap": null,
            "grid_row": null,
            "grid_template_areas": null,
            "grid_template_columns": null,
            "grid_template_rows": null,
            "height": null,
            "justify_content": null,
            "justify_items": null,
            "left": null,
            "margin": null,
            "max_height": null,
            "max_width": null,
            "min_height": null,
            "min_width": null,
            "object_fit": null,
            "object_position": null,
            "order": null,
            "overflow": null,
            "overflow_x": null,
            "overflow_y": null,
            "padding": null,
            "right": null,
            "top": null,
            "visibility": null,
            "width": null
          }
        },
        "4ac677fe1afd4d468b2d82ea0c8eebe8": {
          "model_module": "@jupyter-widgets/controls",
          "model_name": "ProgressStyleModel",
          "model_module_version": "1.5.0",
          "state": {
            "_model_module": "@jupyter-widgets/controls",
            "_model_module_version": "1.5.0",
            "_model_name": "ProgressStyleModel",
            "_view_count": null,
            "_view_module": "@jupyter-widgets/base",
            "_view_module_version": "1.2.0",
            "_view_name": "StyleView",
            "bar_color": null,
            "description_width": ""
          }
        },
        "fbccf1c3d8f947efbd6e025ecef63351": {
          "model_module": "@jupyter-widgets/base",
          "model_name": "LayoutModel",
          "model_module_version": "1.2.0",
          "state": {
            "_model_module": "@jupyter-widgets/base",
            "_model_module_version": "1.2.0",
            "_model_name": "LayoutModel",
            "_view_count": null,
            "_view_module": "@jupyter-widgets/base",
            "_view_module_version": "1.2.0",
            "_view_name": "LayoutView",
            "align_content": null,
            "align_items": null,
            "align_self": null,
            "border": null,
            "bottom": null,
            "display": null,
            "flex": null,
            "flex_flow": null,
            "grid_area": null,
            "grid_auto_columns": null,
            "grid_auto_flow": null,
            "grid_auto_rows": null,
            "grid_column": null,
            "grid_gap": null,
            "grid_row": null,
            "grid_template_areas": null,
            "grid_template_columns": null,
            "grid_template_rows": null,
            "height": null,
            "justify_content": null,
            "justify_items": null,
            "left": null,
            "margin": null,
            "max_height": null,
            "max_width": null,
            "min_height": null,
            "min_width": null,
            "object_fit": null,
            "object_position": null,
            "order": null,
            "overflow": null,
            "overflow_x": null,
            "overflow_y": null,
            "padding": null,
            "right": null,
            "top": null,
            "visibility": null,
            "width": null
          }
        },
        "b7a5d041382c41eabf520827e645769e": {
          "model_module": "@jupyter-widgets/controls",
          "model_name": "DescriptionStyleModel",
          "model_module_version": "1.5.0",
          "state": {
            "_model_module": "@jupyter-widgets/controls",
            "_model_module_version": "1.5.0",
            "_model_name": "DescriptionStyleModel",
            "_view_count": null,
            "_view_module": "@jupyter-widgets/base",
            "_view_module_version": "1.2.0",
            "_view_name": "StyleView",
            "description_width": ""
          }
        }
      }
    },
    "accelerator": "GPU",
    "gpuClass": "standard"
  },
  "nbformat": 4,
  "nbformat_minor": 0
}