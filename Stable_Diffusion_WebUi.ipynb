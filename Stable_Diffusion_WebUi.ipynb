{
  "nbformat": 4,
  "nbformat_minor": 0,
  "metadata": {
    "colab": {
      "provenance": [],
      "collapsed_sections": []
    },
    "kernelspec": {
      "name": "python3",
      "display_name": "Python 3"
    },
    "language_info": {
      "name": "python"
    },
    "accelerator": "GPU",
    "gpuClass": "standard"
  },
  "cells": [
    {
      "cell_type": "markdown",
      "source": [
        "Adapted from: https://colab.research.google.com/drive/1AfAmwLMd_Vx33O9IwY2TmO9wKZ8ABRRa"
      ],
      "metadata": {
        "id": "gfKvWAVnz8OB"
      }
    },
    {
      "cell_type": "code",
      "source": [
        "import os\n",
        "os.kill(os.getpid(), 9) # This will crash Colab (required, everything will still be intact so dont worry)"
      ],
      "metadata": {
        "id": "p8FI40sFj9tU"
      },
      "execution_count": null,
      "outputs": []
    },
    {
      "cell_type": "code",
      "source": [
        "!nvidia-smi -L"
      ],
      "metadata": {
        "id": "P0KsRqhDKYc0"
      },
      "execution_count": null,
      "outputs": []
    },
    {
      "cell_type": "markdown",
      "source": [
        "Clone webui repository"
      ],
      "metadata": {
        "id": "OHCtG9MT0jLq"
      }
    },
    {
      "cell_type": "code",
      "source": [
        "!git clone https://github.com/AUTOMATIC1111/stable-diffusion-webui\n",
        "%cd stable-diffusion-webui"
      ],
      "metadata": {
        "id": "sBbcB4vwj_jm"
      },
      "execution_count": null,
      "outputs": []
    },
    {
      "cell_type": "code",
      "source": [
        "#@title install deps for downloading models and scripts\n",
        "!apt install megatools aria2 rsync\n",
        "!pip install gdown\n",
        "!pip install nest-asyncio"
      ],
      "metadata": {
        "cellView": "form",
        "id": "6T3LLEzJ7HOX"
      },
      "execution_count": null,
      "outputs": []
    },
    {
      "cell_type": "code",
      "source": [
        "import nest_asyncio\n",
        "nest_asyncio.apply()"
      ],
      "metadata": {
        "id": "Vjobke6R7QKr"
      },
      "execution_count": null,
      "outputs": []
    },
    {
      "cell_type": "code",
      "source": [
        "#@title Download SD models\n",
        "\n",
        "SD_MODELS_FOLDER = \"/content/stable-diffusion-webui/models/Stable-diffusion\"\n",
        "\n",
        "SEED_TIME = 5 #@param {type:\"number\"}\n",
        "TRACKERS = \"&tr=udp%3A%2F%2Ftracker.opentrackr.org%3A1337%2Fannounce&tr=udp%3A%2F%2F9.rarbg.com%3A2810%2Fannounce&tr=udp%3A%2F%2Ftracker.openbittorrent.com%3A6969%2Fannounce&tr=udp%3A%2F%2Fopentracker.i2p.rocks%3A6969%2Fannounce&tr=https%3A%2F%2Fopentracker.i2p.rocks%3A443%2Fannounce&tr=http%3A%2F%2Ftracker.openbittorrent.com%3A80%2Fannounce&tr=udp%3A%2F%2Ftracker.torrent.eu.org%3A451%2Fannounce&tr=udp%3A%2F%2Fopen.stealth.si%3A80%2Fannounce&tr=udp%3A%2F%2Ftracker.tiny-vps.com%3A6969%2Fannounce&tr=udp%3A%2F%2Fzecircle.xyz%3A6969%2Fannounce&tr=udp%3A%2F%2Fyahor.ftp.sh%3A6969%2Fannounce&tr=udp%3A%2F%2Fvibe.sleepyinternetfun.xyz%3A1738%2Fannounce&tr=udp%3A%2F%2Fv2.iperson.xyz%3A6969%2Fannounce&tr=udp%3A%2F%2Fuploads.gamecoast.net%3A6969%2Fannounce&tr=udp%3A%2F%2Ftracker2.dler.org%3A80%2Fannounce&tr=udp%3A%2F%2Ftracker1.bt.moack.co.kr%3A80%2Fannounce&tr=udp%3A%2F%2Ftracker.theoks.net%3A6969%2Fannounce&tr=udp%3A%2F%2Ftracker.tcp.exchange%3A6969%2Fannounce&tr=udp%3A%2F%2Ftracker.swateam.org.uk%3A2710%2Fannounce&tr=udp%3A%2F%2Ftracker.publictracker.xyz%3A6969%2Fannounce&tr=http%3A%2F%2Ftracker.bt4g.com%3A2095%2Fannounce&tr=udp%3a%2f%2ftracker.opentrackr.org%3a1337%2fannounce&tr=udp%3a%2f%2f9.rarbg.com%3a2810%2fannounce&tr=udp%3a%2f%2ftracker.openbittorrent.com%3a6969%2fannounce&tr=http%3a%2f%2ftracker.openbittorrent.com%3a80%2fannounce&tr=udp%3a%2f%2fopentracker.i2p.rocks%3a6969%2fannounce&tr=https%3a%2f%2fopentracker.i2p.rocks%3a443%2fannounce&tr=udp%3a%2f%2ftracker.torrent.eu.org%3a451%2fannounce&tr=udp%3a%2f%2ftracker.tiny-vps.com%3a6969%2fannounce&tr=udp%3a%2f%2ftracker.pomf.se%3a80%2fannounce&tr=udp%3a%2f%2ftracker.moeking.me%3a6969%2fannounce&tr=udp%3a%2f%2ftracker.dler.org%3a6969%2fannounce&tr=udp%3a%2f%2ftracker.0x.tf%3a6969%2fannounce&tr=udp%3a%2f%2fp4p.arenabg.com%3a1337%2fannounce&tr=udp%3a%2f%2fopen.stealth.si%3a80%2fannounce&tr=udp%3a%2f%2fopen.demonii.com%3a1337%2fannounce&tr=udp%3a%2f%2fmovies.zsw.ca%3a6969%2fannounce&tr=udp%3a%2f%2fipv4.tracker.harry.lu%3a80%2fannounce&tr=udp%3a%2f%2fexplodie.org%3a6969%2fannounce&tr=udp%3a%2f%2fexodus.desync.com%3a6969%2fannounce&tr=udp%3a%2f%2fbt2.archive.org%3a6969%2fannounce\" #@param {type:\"string\"}\n",
        "\n",
        "!mkdir -p {SD_MODELS_FOLDER}\n",
        "\n",
        "models = {\n",
        "    \"Stable Diffusion v1.4\": \"wget https://www.googleapis.com/storage/v1/b/aai-blog-files/o/sd-v1-4.ckpt?alt=media\",\n",
        "    \"Waifu Diffusion v1.2\": f'aria2c --seed-time={SEED_TIME} \"magnet:?xt=urn:btih:153590fd7e93ee11d8db951451056c362e3a9150&dn=wd-v1-2-full-ema-pruned.ckpt{TRACKERS}\"',\n",
        "    \"GG1342 (NSFW photos)\": f'aria2c --seed-time={SEED_TIME} \"magnet:?xt=urn:btih:c95e266e15e13cf0e2d69b29338a89a94d736546&dn=gg1342_testrun1_pruned.ckpt{TRACKERS}\"',\n",
        "    \"TrinArt2\": \"wget https://huggingface.co/naclbit/trinart_stable_diffusion_v2/resolve/main/trinart2_step115000.ckpt\",\n",
        "    \"Lewd Diffusion\": f'aria2c --seed-time={SEED_TIME} \"magnet:?xt=urn:btih:U5RICVYDEJL6LIJJWFKQOIVO5GMGCJNW&dn=last-pruned.ckpt&xl=3852165809{TRACKERS}\"',\n",
        "    \"yiffy-e18\": \"wget https://sexy.canine.wf/file/yiffy-ckpt/yiffy-e18.ckpt\",\n",
        "    \"Rule34\": f'aria2c --seed-time={SEED_TIME} \"magnet:?xt=urn:btih:a8f34e4f7f0bc5298516082b41b5e920b8cc483c&dn=r34_150k_epoch0-pruned-fp16.ckpt{TRACKERS}\"',\n",
        "    \"Pony Diffusion\": \"megadl https://mega.co.nz/#!ZT1xEKgC!Xxir5udMmU_mKaRZAbBkF247Yk7DqCr01V0pDzSlYI0\"\n",
        "}\n",
        "\n",
        "keys = list(models.keys())\n",
        "import ipywidgets as widgets\n",
        "select = widgets.SelectMultiple(\n",
        "    options=keys,\n",
        "    value=keys[:1],\n",
        "    rows=len(keys),\n",
        "    disabled=False\n",
        ")\n",
        "btn = widgets.Button(description=\"Download\")\n",
        "output = widgets.Output()\n",
        "\n",
        "display(widgets.VBox([select, btn]), output)\n",
        "\n",
        "import asyncio\n",
        "import os\n",
        "\n",
        "async def run_cmd(cmd):\n",
        "    print(f\"Running: {cmd}\")\n",
        "    proc = await asyncio.create_subprocess_shell(\n",
        "        cmd,\n",
        "        stdout=asyncio.subprocess.PIPE,\n",
        "        stderr=asyncio.subprocess.PIPE)\n",
        "\n",
        "    stdout, stderr = await proc.communicate()\n",
        "\n",
        "    print(f'[{cmd!r} exited with {proc.returncode}]')\n",
        "    if stdout:\n",
        "        print(f'[stdout]\\n{stdout.decode()}')\n",
        "    if stderr:\n",
        "        print(f'[stderr]\\n{stderr.decode()}')\n",
        "\n",
        "async def dl_models(names):\n",
        "    await asyncio.gather(*[run_cmd(models[x]) for x in names])\n",
        "\n",
        "def on_dl_btn(b):\n",
        "    %cd {SD_MODELS_FOLDER}\n",
        "    os.popen(\"rm *\")\n",
        "    with output:\n",
        "      asyncio.run(dl_models(select.value))\n",
        "    print(\"Download done!\")\n",
        "    os.popen(\"rm *.aria2\")\n",
        "    %cd /content/stable-diffusion-webui\n",
        "\n",
        "btn.on_click(on_dl_btn)"
      ],
      "metadata": {
        "cellView": "form",
        "id": "bzUe_Rg07aFp"
      },
      "execution_count": null,
      "outputs": []
    },
    {
      "cell_type": "code",
      "source": [
        "#@title Download Custom scripts\n",
        "#@markdown https://github.com/AUTOMATIC1111/stable-diffusion-webui/wiki/Custom-Scripts\n",
        "\n",
        "SD_SCRIPTS_FOLDER = \"/content/stable-diffusion-webui/scripts\"\n",
        "\n",
        "!mkdir -p {SD_SCRIPTS_FOLDER}\n",
        "\n",
        "scripts = {\n",
        "    \"Advanced prompt matrix\": \"wget https://raw.githubusercontent.com/GRMrGecko/stable-diffusion-webui-automatic/advanced_matrix/scripts/advanced_prompt_matrix.py\",\n",
        "    \"Wildcards\": \"wget https://raw.githubusercontent.com/jtkelm2/stable-diffusion-webui-1/master/scripts/wildcards.py\",\n",
        "    \"txt2img2img\": \"git clone https://github.com/ThereforeGames/txt2img2img .tmp-1 && rsync -a --exclude .git .tmp-1/ ../ && rm -rf .tmp-1\",\n",
        "    \"txt2mask\": \"git clone https://github.com/ThereforeGames/txt2mask.git .tmp-2 && rsync -a --exclude .git .tmp-2/ ../ && rm -rf .tmp-2\",\n",
        "    \"Seed Travel\": 'echo \"\\nmoviepy==1.0.3\" >> ../requirements.txt && wget https://raw.githubusercontent.com/yownas/seed_travel/main/scripts/seed_travel.py',\n",
        "    \"Animator\": \"wget https://raw.githubusercontent.com/Animator-Anon/Animator/main/animation.py\",\n",
        "    \"Alternate Noise Schedules\": \"wget https://gist.githubusercontent.com/dfaker/f88aa62e3a14b559fe4e5f6b345db664/raw/alternate_sampler_noise_schedules.py\",\n",
        "    \"Vid2Vid\": \"wget https://raw.githubusercontent.com/Filarius/stable-diffusion-webui/master/scripts/vid2vid.py\",\n",
        "    \"Txt2VectorGraphics\": \"wget https://raw.githubusercontent.com/GeorgLegato/Txt2Vectorgraphics/main/txt2vectorgfx.py\",\n",
        "    \"Shift Attention\": 'echo \"\\nmoviepy==1.0.3\" >> ../requirements.txt && wget https://raw.githubusercontent.com/yownas/shift-attention/main/scripts/shift_attention.py',\n",
        "    \"Loopback superimpose\": \"wget https://raw.githubusercontent.com/DiceOwl/StableDiffusionStuff/main/loopback_superimpose.py\"\n",
        "}\n",
        "\n",
        "keys = list(scripts.keys())\n",
        "import ipywidgets as widgets\n",
        "select = widgets.SelectMultiple(\n",
        "    options=keys,\n",
        "    value=keys[:1],\n",
        "    rows=len(keys),\n",
        "    disabled=False\n",
        ")\n",
        "btn = widgets.Button(description=\"Install\")\n",
        "output = widgets.Output()\n",
        "\n",
        "display(widgets.VBox([select, btn]), output)\n",
        "\n",
        "import asyncio\n",
        "import os\n",
        "\n",
        "async def run_cmd(cmd):\n",
        "    print(f\"Running: {cmd}\")\n",
        "    proc = await asyncio.create_subprocess_shell(\n",
        "        cmd,\n",
        "        stdout=asyncio.subprocess.PIPE,\n",
        "        stderr=asyncio.subprocess.PIPE)\n",
        "\n",
        "    stdout, stderr = await proc.communicate()\n",
        "\n",
        "    print(f'[{cmd!r} exited with {proc.returncode}]')\n",
        "    if stdout:\n",
        "        print(f'[stdout]\\n{stdout.decode()}')\n",
        "    if stderr:\n",
        "        print(f'[stderr]\\n{stderr.decode()}')\n",
        "\n",
        "async def dl_scripts(names):\n",
        "    await asyncio.gather(*[run_cmd(scripts[x]) for x in names])\n",
        "\n",
        "def on_dl_btn(b):\n",
        "    %cd {SD_SCRIPTS_FOLDER}\n",
        "    with output:\n",
        "      asyncio.run(dl_scripts(select.value))\n",
        "    print(\"Download done!\")\n",
        "    %cd /content/stable-diffusion-webui\n",
        "\n",
        "btn.on_click(on_dl_btn)"
      ],
      "metadata": {
        "cellView": "form",
        "id": "qpLKAtpOudza"
      },
      "execution_count": null,
      "outputs": []
    },
    {
      "cell_type": "code",
      "source": [
        "!COMMANDLINE_ARGS=\"--exit\" REQS_FILE=\"requirements.txt\" python launch.py"
      ],
      "metadata": {
        "id": "IB19TzabDtYF"
      },
      "execution_count": null,
      "outputs": []
    },
    {
      "cell_type": "markdown",
      "source": [
        "Launch web ui. You will get a link to nnn.gradio.app, follow it.\n",
        "\n",
        "Commandline arguments are:\n",
        "  - `--share` - create online gradio.app link\n",
        "  - `--gradio-debug` - print outputs to console\n",
        "  - `--gradio-auth me:qwerty` - add authentication to gradio: username me, password qwerty"
      ],
      "metadata": {
        "id": "xt8lbdmC04ox"
      }
    },
    {
      "cell_type": "code",
      "source": [
        "%cd /content/stable-diffusion-webui\n",
        "!npm install -g localtunnel\n",
        "!nohup lt -p 7860 > lt.log 2>&1 &\n",
        "!sleep 3\n",
        "!cat /content/stable-diffusion-webui/lt.log\n",
        "!COMMANDLINE_ARGS=\"--share --gradio-debug --allow-code --gradio-auth me:qwerty\" REQS_FILE=\"requirements.txt\" python launch.py"
      ],
      "metadata": {
        "id": "R-xAdMA5wxXd"
      },
      "execution_count": null,
      "outputs": []
    },
    {
      "cell_type": "markdown",
      "source": [
        "commands for ***after*** you have gotten done with a session\n",
        "============================================================================"
      ],
      "metadata": {
        "id": "9qrpRUJpno7L"
      }
    },
    {
      "cell_type": "markdown",
      "source": [
        "Zip images for downloading on local drive (click the folder icon on the left, the one below {x})"
      ],
      "metadata": {
        "id": "zB-L8JpElKp-"
      }
    },
    {
      "cell_type": "code",
      "source": [
        "!zip -r /content/stable-diffusion-webui /content/stable-diffusion-webui/outputs "
      ],
      "metadata": {
        "id": "gBt5g_Dn0NFo"
      },
      "execution_count": null,
      "outputs": []
    },
    {
      "cell_type": "markdown",
      "source": [
        "Save images to Google Drive **Warning: this will cause google to scan your drive, so if you intend to use this and worry about that kind of stuff, probablly just set this up on a clean account that's just for this colab**"
      ],
      "metadata": {
        "id": "odNn2KF5lFmb"
      }
    },
    {
      "cell_type": "code",
      "source": [
        "from google.colab import drive # type: ignore\n",
        "\n",
        "try:\n",
        "   drive_path = \"/content/drive\"\n",
        "   drive.mount(drive_path,force_remount=False)\n",
        "except:\n",
        "   print(\"...error mounting drive or with drive path variables\")\n",
        "\n",
        "!cp -r \"/content/stable-diffusion-webui/outputs\" \"/content/drive/MyDrive\""
      ],
      "metadata": {
        "id": "zNEgJfbhDwI6"
      },
      "execution_count": null,
      "outputs": []
    }
  ]
}
